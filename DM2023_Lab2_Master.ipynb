{
  "cells": [
    {
      "cell_type": "markdown",
      "metadata": {
        "id": "uuutyCx4YTpX"
      },
      "source": [
        "# Data Mining Lab 2\n",
        "In this lab session we will focus on the use of Neural Word Embeddings"
      ]
    },
    {
      "cell_type": "code",
      "source": [
        "from google.colab import drive\n",
        "drive.mount('/content/drive')"
      ],
      "metadata": {
        "id": "WxyipKzuXQQG",
        "colab": {
          "base_uri": "https://localhost:8080/"
        },
        "outputId": "78896658-dce4-4465-bc4b-1c779f4d35c3"
      },
      "execution_count": 141,
      "outputs": [
        {
          "output_type": "stream",
          "name": "stderr",
          "text": [
            "/usr/local/lib/python3.10/dist-packages/ipykernel/ipkernel.py:283: DeprecationWarning:\n",
            "\n",
            "`should_run_async` will not call `transform_cell` automatically in the future. Please pass the result to `transformed_cell` argument and any exception that happen during thetransform in `preprocessing_exc_tuple` in IPython 7.17 and above.\n",
            "\n"
          ]
        },
        {
          "output_type": "stream",
          "name": "stdout",
          "text": [
            "Drive already mounted at /content/drive; to attempt to forcibly remount, call drive.mount(\"/content/drive\", force_remount=True).\n"
          ]
        }
      ]
    },
    {
      "cell_type": "markdown",
      "metadata": {
        "id": "ledffNYYYTpX"
      },
      "source": [
        "## Table of Contents\n",
        "1. Data preparation\n",
        "2. Feature engineering\n",
        "3. Model\n",
        "4. Results evaluation\n",
        "5. Other things you could try\n",
        "6. Deep Learning\n",
        "7. Word to Vector\n",
        "8. Clustering\n",
        "9. High-dimension Visualization\n",
        "\n"
      ]
    },
    {
      "cell_type": "markdown",
      "metadata": {
        "id": "a6DJwU79JQYo"
      },
      "source": [
        "### Necessary Library Requirements:\n",
        "\n",
        "#### Same as Lab1:\n",
        "- [Jupyter](http://jupyter.org/) (Strongly recommended but not required)\n",
        "    - Install via `pip3 install jupyter` and use `jupyter notebook` in terminal to run\n",
        "- [Scikit Learn](http://scikit-learn.org/stable/index.html)\n",
        "    - Install via `pip3 sklearn` from a terminal\n",
        "- [Pandas](http://pandas.pydata.org/)\n",
        "    - Install via `pip3 install pandas` from a terminal\n",
        "- [Numpy](http://www.numpy.org/)\n",
        "    - Install via `pip3 install numpy` from a terminal\n",
        "- [Matplotlib](https://matplotlib.org/)\n",
        "    - Install via `pip3 maplotlib` from a terminal\n",
        "- [Plotly](https://plot.ly/)\n",
        "    - Install via `pip3 install plotly` from a terminal\n",
        "- [Seaborn](https://seaborn.pydata.org/)\n",
        "    - Install and signup for `seaborn`\n",
        "- [NLTK](http://www.nltk.org/)\n",
        "    - Install via `pip3 install nltk` from a terminal\n",
        "\n",
        "#### New Libraries to install:\n",
        "- [Gensim](https://pypi.org/project/gensim/)\n",
        "    - Install via `pip3 install gensim`\n",
        "\n",
        "- [tensorflow](https://www.tensorflow.org/)\n",
        "    - Install via `pip3 install tensorflow`\n",
        "    - Also install `pip3 install tensorflow-hub`\n",
        "\n",
        "- [Keras](https://keras.io/)\n",
        "    - Install via `pip3 install keras`"
      ]
    },
    {
      "cell_type": "markdown",
      "metadata": {
        "id": "LIpAqCvMYTpX"
      },
      "source": [
        "---\n",
        "## Introduction"
      ]
    },
    {
      "cell_type": "markdown",
      "metadata": {
        "id": "n2paPeNbYTpX"
      },
      "source": [
        "**Dataset:** [SemEval 2017 Task](https://competitions.codalab.org/competitions/16380)\n",
        "\n",
        "**Task:** Classify text data into 4 different emotions using word embedding and other deep information retrieval approaches.\n",
        "\n",
        "![pic0](pics/pic0.png)"
      ]
    },
    {
      "cell_type": "markdown",
      "metadata": {
        "id": "op_X7pR-YTpX"
      },
      "source": [
        "---\n",
        "## 1. Data Preparation"
      ]
    },
    {
      "cell_type": "markdown",
      "metadata": {
        "id": "ID-8I1ELYTpX"
      },
      "source": [
        "Before beggining the lab, please make sure to download the [Google News Dataset](https://drive.google.com/file/d/0B7XkCwpI5KDYNlNUTTlSS21pQmM/edit) and place it in a folder named \"GoogleNews\" in the same directory as this file."
      ]
    },
    {
      "cell_type": "markdown",
      "metadata": {
        "id": "pgoEbZzSYTpX"
      },
      "source": [
        "## 1.1 Load data\n",
        "\n",
        "We start by loading the csv files into a single pandas dataframe for training and one for testing."
      ]
    },
    {
      "cell_type": "code",
      "execution_count": 142,
      "metadata": {
        "id": "anfjcPSSYTpX",
        "colab": {
          "base_uri": "https://localhost:8080/"
        },
        "outputId": "4d95ec21-5647-41c4-bca6-b12745da3663"
      },
      "outputs": [
        {
          "output_type": "stream",
          "name": "stderr",
          "text": [
            "/usr/local/lib/python3.10/dist-packages/ipykernel/ipkernel.py:283: DeprecationWarning:\n",
            "\n",
            "`should_run_async` will not call `transform_cell` automatically in the future. Please pass the result to `transformed_cell` argument and any exception that happen during thetransform in `preprocessing_exc_tuple` in IPython 7.17 and above.\n",
            "\n"
          ]
        }
      ],
      "source": [
        "import pandas as pd\n",
        "\n",
        "path = '/content/drive/MyDrive/DM/DM2023-Lab2-Master/'\n",
        "### training data\n",
        "anger_train = pd.read_csv(path+\"data/semeval/train/anger-ratings-0to1.train.txt\",\n",
        "                         sep=\"\\t\", header=None,names=[\"id\", \"text\", \"emotion\", \"intensity\"])\n",
        "sadness_train = pd.read_csv(path+\"data/semeval/train/sadness-ratings-0to1.train.txt\",\n",
        "                         sep=\"\\t\", header=None, names=[\"id\", \"text\", \"emotion\", \"intensity\"])\n",
        "fear_train = pd.read_csv(path+\"data/semeval/train/fear-ratings-0to1.train.txt\",\n",
        "                         sep=\"\\t\", header=None, names=[\"id\", \"text\", \"emotion\", \"intensity\"])\n",
        "joy_train = pd.read_csv(path+\"data/semeval/train/joy-ratings-0to1.train.txt\",\n",
        "                         sep=\"\\t\", header=None, names=[\"id\", \"text\", \"emotion\", \"intensity\"])"
      ]
    },
    {
      "cell_type": "code",
      "execution_count": 143,
      "metadata": {
        "id": "yVc2T5MIYTpX",
        "colab": {
          "base_uri": "https://localhost:8080/"
        },
        "outputId": "198a479b-e24c-4279-b961-877360abc528"
      },
      "outputs": [
        {
          "output_type": "stream",
          "name": "stderr",
          "text": [
            "/usr/local/lib/python3.10/dist-packages/ipykernel/ipkernel.py:283: DeprecationWarning:\n",
            "\n",
            "`should_run_async` will not call `transform_cell` automatically in the future. Please pass the result to `transformed_cell` argument and any exception that happen during thetransform in `preprocessing_exc_tuple` in IPython 7.17 and above.\n",
            "\n"
          ]
        }
      ],
      "source": [
        "# combine 4 sub-dataset\n",
        "train_df = pd.concat([anger_train, fear_train, joy_train, sadness_train], ignore_index=True)"
      ]
    },
    {
      "cell_type": "code",
      "execution_count": 144,
      "metadata": {
        "colab": {
          "base_uri": "https://localhost:8080/",
          "height": 295
        },
        "id": "Kw8bGMv7YTpX",
        "outputId": "2bd4aec9-20d5-4e37-f413-84be9765e95c"
      },
      "outputs": [
        {
          "output_type": "stream",
          "name": "stderr",
          "text": [
            "/usr/local/lib/python3.10/dist-packages/ipykernel/ipkernel.py:283: DeprecationWarning:\n",
            "\n",
            "`should_run_async` will not call `transform_cell` automatically in the future. Please pass the result to `transformed_cell` argument and any exception that happen during thetransform in `preprocessing_exc_tuple` in IPython 7.17 and above.\n",
            "\n"
          ]
        },
        {
          "output_type": "execute_result",
          "data": {
            "text/plain": [
              "      id                                               text emotion  intensity\n",
              "0  10000  How the fu*k! Who the heck! moved my fridge!.....   anger      0.938\n",
              "1  10001  So my Indian Uber driver just called someone t...   anger      0.896\n",
              "2  10002  @DPD_UK I asked for my parcel to be delivered ...   anger      0.896\n",
              "3  10003  so ef whichever butt wipe pulled the fire alar...   anger      0.896\n",
              "4  10004  Don't join @BTCare they put the phone down on ...   anger      0.896"
            ],
            "text/html": [
              "\n",
              "  <div id=\"df-52340eb2-ab02-4f78-b02d-2e0cb5b38153\" class=\"colab-df-container\">\n",
              "    <div>\n",
              "<style scoped>\n",
              "    .dataframe tbody tr th:only-of-type {\n",
              "        vertical-align: middle;\n",
              "    }\n",
              "\n",
              "    .dataframe tbody tr th {\n",
              "        vertical-align: top;\n",
              "    }\n",
              "\n",
              "    .dataframe thead th {\n",
              "        text-align: right;\n",
              "    }\n",
              "</style>\n",
              "<table border=\"1\" class=\"dataframe\">\n",
              "  <thead>\n",
              "    <tr style=\"text-align: right;\">\n",
              "      <th></th>\n",
              "      <th>id</th>\n",
              "      <th>text</th>\n",
              "      <th>emotion</th>\n",
              "      <th>intensity</th>\n",
              "    </tr>\n",
              "  </thead>\n",
              "  <tbody>\n",
              "    <tr>\n",
              "      <th>0</th>\n",
              "      <td>10000</td>\n",
              "      <td>How the fu*k! Who the heck! moved my fridge!.....</td>\n",
              "      <td>anger</td>\n",
              "      <td>0.938</td>\n",
              "    </tr>\n",
              "    <tr>\n",
              "      <th>1</th>\n",
              "      <td>10001</td>\n",
              "      <td>So my Indian Uber driver just called someone t...</td>\n",
              "      <td>anger</td>\n",
              "      <td>0.896</td>\n",
              "    </tr>\n",
              "    <tr>\n",
              "      <th>2</th>\n",
              "      <td>10002</td>\n",
              "      <td>@DPD_UK I asked for my parcel to be delivered ...</td>\n",
              "      <td>anger</td>\n",
              "      <td>0.896</td>\n",
              "    </tr>\n",
              "    <tr>\n",
              "      <th>3</th>\n",
              "      <td>10003</td>\n",
              "      <td>so ef whichever butt wipe pulled the fire alar...</td>\n",
              "      <td>anger</td>\n",
              "      <td>0.896</td>\n",
              "    </tr>\n",
              "    <tr>\n",
              "      <th>4</th>\n",
              "      <td>10004</td>\n",
              "      <td>Don't join @BTCare they put the phone down on ...</td>\n",
              "      <td>anger</td>\n",
              "      <td>0.896</td>\n",
              "    </tr>\n",
              "  </tbody>\n",
              "</table>\n",
              "</div>\n",
              "    <div class=\"colab-df-buttons\">\n",
              "\n",
              "  <div class=\"colab-df-container\">\n",
              "    <button class=\"colab-df-convert\" onclick=\"convertToInteractive('df-52340eb2-ab02-4f78-b02d-2e0cb5b38153')\"\n",
              "            title=\"Convert this dataframe to an interactive table.\"\n",
              "            style=\"display:none;\">\n",
              "\n",
              "  <svg xmlns=\"http://www.w3.org/2000/svg\" height=\"24px\" viewBox=\"0 -960 960 960\">\n",
              "    <path d=\"M120-120v-720h720v720H120Zm60-500h600v-160H180v160Zm220 220h160v-160H400v160Zm0 220h160v-160H400v160ZM180-400h160v-160H180v160Zm440 0h160v-160H620v160ZM180-180h160v-160H180v160Zm440 0h160v-160H620v160Z\"/>\n",
              "  </svg>\n",
              "    </button>\n",
              "\n",
              "  <style>\n",
              "    .colab-df-container {\n",
              "      display:flex;\n",
              "      gap: 12px;\n",
              "    }\n",
              "\n",
              "    .colab-df-convert {\n",
              "      background-color: #E8F0FE;\n",
              "      border: none;\n",
              "      border-radius: 50%;\n",
              "      cursor: pointer;\n",
              "      display: none;\n",
              "      fill: #1967D2;\n",
              "      height: 32px;\n",
              "      padding: 0 0 0 0;\n",
              "      width: 32px;\n",
              "    }\n",
              "\n",
              "    .colab-df-convert:hover {\n",
              "      background-color: #E2EBFA;\n",
              "      box-shadow: 0px 1px 2px rgba(60, 64, 67, 0.3), 0px 1px 3px 1px rgba(60, 64, 67, 0.15);\n",
              "      fill: #174EA6;\n",
              "    }\n",
              "\n",
              "    .colab-df-buttons div {\n",
              "      margin-bottom: 4px;\n",
              "    }\n",
              "\n",
              "    [theme=dark] .colab-df-convert {\n",
              "      background-color: #3B4455;\n",
              "      fill: #D2E3FC;\n",
              "    }\n",
              "\n",
              "    [theme=dark] .colab-df-convert:hover {\n",
              "      background-color: #434B5C;\n",
              "      box-shadow: 0px 1px 3px 1px rgba(0, 0, 0, 0.15);\n",
              "      filter: drop-shadow(0px 1px 2px rgba(0, 0, 0, 0.3));\n",
              "      fill: #FFFFFF;\n",
              "    }\n",
              "  </style>\n",
              "\n",
              "    <script>\n",
              "      const buttonEl =\n",
              "        document.querySelector('#df-52340eb2-ab02-4f78-b02d-2e0cb5b38153 button.colab-df-convert');\n",
              "      buttonEl.style.display =\n",
              "        google.colab.kernel.accessAllowed ? 'block' : 'none';\n",
              "\n",
              "      async function convertToInteractive(key) {\n",
              "        const element = document.querySelector('#df-52340eb2-ab02-4f78-b02d-2e0cb5b38153');\n",
              "        const dataTable =\n",
              "          await google.colab.kernel.invokeFunction('convertToInteractive',\n",
              "                                                    [key], {});\n",
              "        if (!dataTable) return;\n",
              "\n",
              "        const docLinkHtml = 'Like what you see? Visit the ' +\n",
              "          '<a target=\"_blank\" href=https://colab.research.google.com/notebooks/data_table.ipynb>data table notebook</a>'\n",
              "          + ' to learn more about interactive tables.';\n",
              "        element.innerHTML = '';\n",
              "        dataTable['output_type'] = 'display_data';\n",
              "        await google.colab.output.renderOutput(dataTable, element);\n",
              "        const docLink = document.createElement('div');\n",
              "        docLink.innerHTML = docLinkHtml;\n",
              "        element.appendChild(docLink);\n",
              "      }\n",
              "    </script>\n",
              "  </div>\n",
              "\n",
              "\n",
              "<div id=\"df-af0668e0-6b67-4d88-bbe0-c3058943d1e1\">\n",
              "  <button class=\"colab-df-quickchart\" onclick=\"quickchart('df-af0668e0-6b67-4d88-bbe0-c3058943d1e1')\"\n",
              "            title=\"Suggest charts\"\n",
              "            style=\"display:none;\">\n",
              "\n",
              "<svg xmlns=\"http://www.w3.org/2000/svg\" height=\"24px\"viewBox=\"0 0 24 24\"\n",
              "     width=\"24px\">\n",
              "    <g>\n",
              "        <path d=\"M19 3H5c-1.1 0-2 .9-2 2v14c0 1.1.9 2 2 2h14c1.1 0 2-.9 2-2V5c0-1.1-.9-2-2-2zM9 17H7v-7h2v7zm4 0h-2V7h2v10zm4 0h-2v-4h2v4z\"/>\n",
              "    </g>\n",
              "</svg>\n",
              "  </button>\n",
              "\n",
              "<style>\n",
              "  .colab-df-quickchart {\n",
              "      --bg-color: #E8F0FE;\n",
              "      --fill-color: #1967D2;\n",
              "      --hover-bg-color: #E2EBFA;\n",
              "      --hover-fill-color: #174EA6;\n",
              "      --disabled-fill-color: #AAA;\n",
              "      --disabled-bg-color: #DDD;\n",
              "  }\n",
              "\n",
              "  [theme=dark] .colab-df-quickchart {\n",
              "      --bg-color: #3B4455;\n",
              "      --fill-color: #D2E3FC;\n",
              "      --hover-bg-color: #434B5C;\n",
              "      --hover-fill-color: #FFFFFF;\n",
              "      --disabled-bg-color: #3B4455;\n",
              "      --disabled-fill-color: #666;\n",
              "  }\n",
              "\n",
              "  .colab-df-quickchart {\n",
              "    background-color: var(--bg-color);\n",
              "    border: none;\n",
              "    border-radius: 50%;\n",
              "    cursor: pointer;\n",
              "    display: none;\n",
              "    fill: var(--fill-color);\n",
              "    height: 32px;\n",
              "    padding: 0;\n",
              "    width: 32px;\n",
              "  }\n",
              "\n",
              "  .colab-df-quickchart:hover {\n",
              "    background-color: var(--hover-bg-color);\n",
              "    box-shadow: 0 1px 2px rgba(60, 64, 67, 0.3), 0 1px 3px 1px rgba(60, 64, 67, 0.15);\n",
              "    fill: var(--button-hover-fill-color);\n",
              "  }\n",
              "\n",
              "  .colab-df-quickchart-complete:disabled,\n",
              "  .colab-df-quickchart-complete:disabled:hover {\n",
              "    background-color: var(--disabled-bg-color);\n",
              "    fill: var(--disabled-fill-color);\n",
              "    box-shadow: none;\n",
              "  }\n",
              "\n",
              "  .colab-df-spinner {\n",
              "    border: 2px solid var(--fill-color);\n",
              "    border-color: transparent;\n",
              "    border-bottom-color: var(--fill-color);\n",
              "    animation:\n",
              "      spin 1s steps(1) infinite;\n",
              "  }\n",
              "\n",
              "  @keyframes spin {\n",
              "    0% {\n",
              "      border-color: transparent;\n",
              "      border-bottom-color: var(--fill-color);\n",
              "      border-left-color: var(--fill-color);\n",
              "    }\n",
              "    20% {\n",
              "      border-color: transparent;\n",
              "      border-left-color: var(--fill-color);\n",
              "      border-top-color: var(--fill-color);\n",
              "    }\n",
              "    30% {\n",
              "      border-color: transparent;\n",
              "      border-left-color: var(--fill-color);\n",
              "      border-top-color: var(--fill-color);\n",
              "      border-right-color: var(--fill-color);\n",
              "    }\n",
              "    40% {\n",
              "      border-color: transparent;\n",
              "      border-right-color: var(--fill-color);\n",
              "      border-top-color: var(--fill-color);\n",
              "    }\n",
              "    60% {\n",
              "      border-color: transparent;\n",
              "      border-right-color: var(--fill-color);\n",
              "    }\n",
              "    80% {\n",
              "      border-color: transparent;\n",
              "      border-right-color: var(--fill-color);\n",
              "      border-bottom-color: var(--fill-color);\n",
              "    }\n",
              "    90% {\n",
              "      border-color: transparent;\n",
              "      border-bottom-color: var(--fill-color);\n",
              "    }\n",
              "  }\n",
              "</style>\n",
              "\n",
              "  <script>\n",
              "    async function quickchart(key) {\n",
              "      const quickchartButtonEl =\n",
              "        document.querySelector('#' + key + ' button');\n",
              "      quickchartButtonEl.disabled = true;  // To prevent multiple clicks.\n",
              "      quickchartButtonEl.classList.add('colab-df-spinner');\n",
              "      try {\n",
              "        const charts = await google.colab.kernel.invokeFunction(\n",
              "            'suggestCharts', [key], {});\n",
              "      } catch (error) {\n",
              "        console.error('Error during call to suggestCharts:', error);\n",
              "      }\n",
              "      quickchartButtonEl.classList.remove('colab-df-spinner');\n",
              "      quickchartButtonEl.classList.add('colab-df-quickchart-complete');\n",
              "    }\n",
              "    (() => {\n",
              "      let quickchartButtonEl =\n",
              "        document.querySelector('#df-af0668e0-6b67-4d88-bbe0-c3058943d1e1 button');\n",
              "      quickchartButtonEl.style.display =\n",
              "        google.colab.kernel.accessAllowed ? 'block' : 'none';\n",
              "    })();\n",
              "  </script>\n",
              "</div>\n",
              "    </div>\n",
              "  </div>\n"
            ]
          },
          "metadata": {},
          "execution_count": 144
        }
      ],
      "source": [
        "### testing data\n",
        "anger_test = pd.read_csv(path+\"data/semeval/dev/anger-ratings-0to1.dev.gold.txt\",\n",
        "                         sep=\"\\t\", header=None, names=[\"id\", \"text\", \"emotion\", \"intensity\"])\n",
        "sadness_test = pd.read_csv(path+\"data/semeval/dev/sadness-ratings-0to1.dev.gold.txt\",\n",
        "                         sep=\"\\t\", header=None, names=[\"id\", \"text\", \"emotion\", \"intensity\"])\n",
        "fear_test = pd.read_csv(path+\"data/semeval/dev/fear-ratings-0to1.dev.gold.txt\",\n",
        "                         sep=\"\\t\", header=None, names=[\"id\", \"text\", \"emotion\", \"intensity\"])\n",
        "joy_test = pd.read_csv(path+\"data/semeval/dev/joy-ratings-0to1.dev.gold.txt\",\n",
        "                         sep=\"\\t\", header=None, names=[\"id\", \"text\", \"emotion\", \"intensity\"])\n",
        "\n",
        "# combine 4 sub-dataset\n",
        "test_df = pd.concat([anger_test, fear_test, joy_test, sadness_test], ignore_index=True)\n",
        "train_df.head()"
      ]
    },
    {
      "cell_type": "code",
      "execution_count": 145,
      "metadata": {
        "id": "HBHwcL8sYTpX",
        "colab": {
          "base_uri": "https://localhost:8080/"
        },
        "outputId": "3e99b045-9ba2-4b54-a212-51a0abf2c823"
      },
      "outputs": [
        {
          "output_type": "stream",
          "name": "stderr",
          "text": [
            "/usr/local/lib/python3.10/dist-packages/ipykernel/ipkernel.py:283: DeprecationWarning:\n",
            "\n",
            "`should_run_async` will not call `transform_cell` automatically in the future. Please pass the result to `transformed_cell` argument and any exception that happen during thetransform in `preprocessing_exc_tuple` in IPython 7.17 and above.\n",
            "\n"
          ]
        }
      ],
      "source": [
        "# shuffle dataset\n",
        "train_df = train_df.sample(frac=1)\n",
        "test_df = test_df.sample(frac=1)"
      ]
    },
    {
      "cell_type": "code",
      "execution_count": 146,
      "metadata": {
        "colab": {
          "base_uri": "https://localhost:8080/"
        },
        "id": "9w_cDUwCYTpX",
        "outputId": "39691780-33f6-4698-cb0b-2590a835fb29",
        "scrolled": true
      },
      "outputs": [
        {
          "output_type": "stream",
          "name": "stdout",
          "text": [
            "Shape of Training df:  (3613, 4)\n",
            "Shape of Testing df:  (347, 4)\n"
          ]
        },
        {
          "output_type": "stream",
          "name": "stderr",
          "text": [
            "/usr/local/lib/python3.10/dist-packages/ipykernel/ipkernel.py:283: DeprecationWarning:\n",
            "\n",
            "`should_run_async` will not call `transform_cell` automatically in the future. Please pass the result to `transformed_cell` argument and any exception that happen during thetransform in `preprocessing_exc_tuple` in IPython 7.17 and above.\n",
            "\n"
          ]
        }
      ],
      "source": [
        "print(\"Shape of Training df: \", train_df.shape)\n",
        "print(\"Shape of Testing df: \", test_df.shape)"
      ]
    },
    {
      "cell_type": "code",
      "source": [
        "train_df.head()"
      ],
      "metadata": {
        "colab": {
          "base_uri": "https://localhost:8080/",
          "height": 295
        },
        "id": "37FpJKXdOuLw",
        "outputId": "7bd64ea9-3e5d-4af1-bc5f-cd8e45cd19f9"
      },
      "execution_count": 147,
      "outputs": [
        {
          "output_type": "stream",
          "name": "stderr",
          "text": [
            "/usr/local/lib/python3.10/dist-packages/ipykernel/ipkernel.py:283: DeprecationWarning:\n",
            "\n",
            "`should_run_async` will not call `transform_cell` automatically in the future. Please pass the result to `transformed_cell` argument and any exception that happen during thetransform in `preprocessing_exc_tuple` in IPython 7.17 and above.\n",
            "\n"
          ]
        },
        {
          "output_type": "execute_result",
          "data": {
            "text/plain": [
              "         id                                               text emotion  \\\n",
              "2319  30315  It's Thursday which means it's Grey's day #TGI...     joy   \n",
              "1781  20924  #Trends thread;'P)..it was in my #drafts&amp;n...    fear   \n",
              "389   10389  @BosNaud so scared to ruffle feathers, he reso...   anger   \n",
              "1085  20228  We ashamed of being an ally to you. Pakistan s...    fear   \n",
              "681   10681    @RichardHBell Yes, I think he held a grudge ...   anger   \n",
              "\n",
              "      intensity  \n",
              "2319      0.560  \n",
              "1781      0.312  \n",
              "389       0.500  \n",
              "1085      0.667  \n",
              "681       0.375  "
            ],
            "text/html": [
              "\n",
              "  <div id=\"df-8bd3ce24-5732-4500-a6b3-f806545c522b\" class=\"colab-df-container\">\n",
              "    <div>\n",
              "<style scoped>\n",
              "    .dataframe tbody tr th:only-of-type {\n",
              "        vertical-align: middle;\n",
              "    }\n",
              "\n",
              "    .dataframe tbody tr th {\n",
              "        vertical-align: top;\n",
              "    }\n",
              "\n",
              "    .dataframe thead th {\n",
              "        text-align: right;\n",
              "    }\n",
              "</style>\n",
              "<table border=\"1\" class=\"dataframe\">\n",
              "  <thead>\n",
              "    <tr style=\"text-align: right;\">\n",
              "      <th></th>\n",
              "      <th>id</th>\n",
              "      <th>text</th>\n",
              "      <th>emotion</th>\n",
              "      <th>intensity</th>\n",
              "    </tr>\n",
              "  </thead>\n",
              "  <tbody>\n",
              "    <tr>\n",
              "      <th>2319</th>\n",
              "      <td>30315</td>\n",
              "      <td>It's Thursday which means it's Grey's day #TGI...</td>\n",
              "      <td>joy</td>\n",
              "      <td>0.560</td>\n",
              "    </tr>\n",
              "    <tr>\n",
              "      <th>1781</th>\n",
              "      <td>20924</td>\n",
              "      <td>#Trends thread;'P)..it was in my #drafts&amp;amp;n...</td>\n",
              "      <td>fear</td>\n",
              "      <td>0.312</td>\n",
              "    </tr>\n",
              "    <tr>\n",
              "      <th>389</th>\n",
              "      <td>10389</td>\n",
              "      <td>@BosNaud so scared to ruffle feathers, he reso...</td>\n",
              "      <td>anger</td>\n",
              "      <td>0.500</td>\n",
              "    </tr>\n",
              "    <tr>\n",
              "      <th>1085</th>\n",
              "      <td>20228</td>\n",
              "      <td>We ashamed of being an ally to you. Pakistan s...</td>\n",
              "      <td>fear</td>\n",
              "      <td>0.667</td>\n",
              "    </tr>\n",
              "    <tr>\n",
              "      <th>681</th>\n",
              "      <td>10681</td>\n",
              "      <td>@RichardHBell Yes, I think he held a grudge ...</td>\n",
              "      <td>anger</td>\n",
              "      <td>0.375</td>\n",
              "    </tr>\n",
              "  </tbody>\n",
              "</table>\n",
              "</div>\n",
              "    <div class=\"colab-df-buttons\">\n",
              "\n",
              "  <div class=\"colab-df-container\">\n",
              "    <button class=\"colab-df-convert\" onclick=\"convertToInteractive('df-8bd3ce24-5732-4500-a6b3-f806545c522b')\"\n",
              "            title=\"Convert this dataframe to an interactive table.\"\n",
              "            style=\"display:none;\">\n",
              "\n",
              "  <svg xmlns=\"http://www.w3.org/2000/svg\" height=\"24px\" viewBox=\"0 -960 960 960\">\n",
              "    <path d=\"M120-120v-720h720v720H120Zm60-500h600v-160H180v160Zm220 220h160v-160H400v160Zm0 220h160v-160H400v160ZM180-400h160v-160H180v160Zm440 0h160v-160H620v160ZM180-180h160v-160H180v160Zm440 0h160v-160H620v160Z\"/>\n",
              "  </svg>\n",
              "    </button>\n",
              "\n",
              "  <style>\n",
              "    .colab-df-container {\n",
              "      display:flex;\n",
              "      gap: 12px;\n",
              "    }\n",
              "\n",
              "    .colab-df-convert {\n",
              "      background-color: #E8F0FE;\n",
              "      border: none;\n",
              "      border-radius: 50%;\n",
              "      cursor: pointer;\n",
              "      display: none;\n",
              "      fill: #1967D2;\n",
              "      height: 32px;\n",
              "      padding: 0 0 0 0;\n",
              "      width: 32px;\n",
              "    }\n",
              "\n",
              "    .colab-df-convert:hover {\n",
              "      background-color: #E2EBFA;\n",
              "      box-shadow: 0px 1px 2px rgba(60, 64, 67, 0.3), 0px 1px 3px 1px rgba(60, 64, 67, 0.15);\n",
              "      fill: #174EA6;\n",
              "    }\n",
              "\n",
              "    .colab-df-buttons div {\n",
              "      margin-bottom: 4px;\n",
              "    }\n",
              "\n",
              "    [theme=dark] .colab-df-convert {\n",
              "      background-color: #3B4455;\n",
              "      fill: #D2E3FC;\n",
              "    }\n",
              "\n",
              "    [theme=dark] .colab-df-convert:hover {\n",
              "      background-color: #434B5C;\n",
              "      box-shadow: 0px 1px 3px 1px rgba(0, 0, 0, 0.15);\n",
              "      filter: drop-shadow(0px 1px 2px rgba(0, 0, 0, 0.3));\n",
              "      fill: #FFFFFF;\n",
              "    }\n",
              "  </style>\n",
              "\n",
              "    <script>\n",
              "      const buttonEl =\n",
              "        document.querySelector('#df-8bd3ce24-5732-4500-a6b3-f806545c522b button.colab-df-convert');\n",
              "      buttonEl.style.display =\n",
              "        google.colab.kernel.accessAllowed ? 'block' : 'none';\n",
              "\n",
              "      async function convertToInteractive(key) {\n",
              "        const element = document.querySelector('#df-8bd3ce24-5732-4500-a6b3-f806545c522b');\n",
              "        const dataTable =\n",
              "          await google.colab.kernel.invokeFunction('convertToInteractive',\n",
              "                                                    [key], {});\n",
              "        if (!dataTable) return;\n",
              "\n",
              "        const docLinkHtml = 'Like what you see? Visit the ' +\n",
              "          '<a target=\"_blank\" href=https://colab.research.google.com/notebooks/data_table.ipynb>data table notebook</a>'\n",
              "          + ' to learn more about interactive tables.';\n",
              "        element.innerHTML = '';\n",
              "        dataTable['output_type'] = 'display_data';\n",
              "        await google.colab.output.renderOutput(dataTable, element);\n",
              "        const docLink = document.createElement('div');\n",
              "        docLink.innerHTML = docLinkHtml;\n",
              "        element.appendChild(docLink);\n",
              "      }\n",
              "    </script>\n",
              "  </div>\n",
              "\n",
              "\n",
              "<div id=\"df-e0b3bfa1-085f-4253-9a84-9e162816f934\">\n",
              "  <button class=\"colab-df-quickchart\" onclick=\"quickchart('df-e0b3bfa1-085f-4253-9a84-9e162816f934')\"\n",
              "            title=\"Suggest charts\"\n",
              "            style=\"display:none;\">\n",
              "\n",
              "<svg xmlns=\"http://www.w3.org/2000/svg\" height=\"24px\"viewBox=\"0 0 24 24\"\n",
              "     width=\"24px\">\n",
              "    <g>\n",
              "        <path d=\"M19 3H5c-1.1 0-2 .9-2 2v14c0 1.1.9 2 2 2h14c1.1 0 2-.9 2-2V5c0-1.1-.9-2-2-2zM9 17H7v-7h2v7zm4 0h-2V7h2v10zm4 0h-2v-4h2v4z\"/>\n",
              "    </g>\n",
              "</svg>\n",
              "  </button>\n",
              "\n",
              "<style>\n",
              "  .colab-df-quickchart {\n",
              "      --bg-color: #E8F0FE;\n",
              "      --fill-color: #1967D2;\n",
              "      --hover-bg-color: #E2EBFA;\n",
              "      --hover-fill-color: #174EA6;\n",
              "      --disabled-fill-color: #AAA;\n",
              "      --disabled-bg-color: #DDD;\n",
              "  }\n",
              "\n",
              "  [theme=dark] .colab-df-quickchart {\n",
              "      --bg-color: #3B4455;\n",
              "      --fill-color: #D2E3FC;\n",
              "      --hover-bg-color: #434B5C;\n",
              "      --hover-fill-color: #FFFFFF;\n",
              "      --disabled-bg-color: #3B4455;\n",
              "      --disabled-fill-color: #666;\n",
              "  }\n",
              "\n",
              "  .colab-df-quickchart {\n",
              "    background-color: var(--bg-color);\n",
              "    border: none;\n",
              "    border-radius: 50%;\n",
              "    cursor: pointer;\n",
              "    display: none;\n",
              "    fill: var(--fill-color);\n",
              "    height: 32px;\n",
              "    padding: 0;\n",
              "    width: 32px;\n",
              "  }\n",
              "\n",
              "  .colab-df-quickchart:hover {\n",
              "    background-color: var(--hover-bg-color);\n",
              "    box-shadow: 0 1px 2px rgba(60, 64, 67, 0.3), 0 1px 3px 1px rgba(60, 64, 67, 0.15);\n",
              "    fill: var(--button-hover-fill-color);\n",
              "  }\n",
              "\n",
              "  .colab-df-quickchart-complete:disabled,\n",
              "  .colab-df-quickchart-complete:disabled:hover {\n",
              "    background-color: var(--disabled-bg-color);\n",
              "    fill: var(--disabled-fill-color);\n",
              "    box-shadow: none;\n",
              "  }\n",
              "\n",
              "  .colab-df-spinner {\n",
              "    border: 2px solid var(--fill-color);\n",
              "    border-color: transparent;\n",
              "    border-bottom-color: var(--fill-color);\n",
              "    animation:\n",
              "      spin 1s steps(1) infinite;\n",
              "  }\n",
              "\n",
              "  @keyframes spin {\n",
              "    0% {\n",
              "      border-color: transparent;\n",
              "      border-bottom-color: var(--fill-color);\n",
              "      border-left-color: var(--fill-color);\n",
              "    }\n",
              "    20% {\n",
              "      border-color: transparent;\n",
              "      border-left-color: var(--fill-color);\n",
              "      border-top-color: var(--fill-color);\n",
              "    }\n",
              "    30% {\n",
              "      border-color: transparent;\n",
              "      border-left-color: var(--fill-color);\n",
              "      border-top-color: var(--fill-color);\n",
              "      border-right-color: var(--fill-color);\n",
              "    }\n",
              "    40% {\n",
              "      border-color: transparent;\n",
              "      border-right-color: var(--fill-color);\n",
              "      border-top-color: var(--fill-color);\n",
              "    }\n",
              "    60% {\n",
              "      border-color: transparent;\n",
              "      border-right-color: var(--fill-color);\n",
              "    }\n",
              "    80% {\n",
              "      border-color: transparent;\n",
              "      border-right-color: var(--fill-color);\n",
              "      border-bottom-color: var(--fill-color);\n",
              "    }\n",
              "    90% {\n",
              "      border-color: transparent;\n",
              "      border-bottom-color: var(--fill-color);\n",
              "    }\n",
              "  }\n",
              "</style>\n",
              "\n",
              "  <script>\n",
              "    async function quickchart(key) {\n",
              "      const quickchartButtonEl =\n",
              "        document.querySelector('#' + key + ' button');\n",
              "      quickchartButtonEl.disabled = true;  // To prevent multiple clicks.\n",
              "      quickchartButtonEl.classList.add('colab-df-spinner');\n",
              "      try {\n",
              "        const charts = await google.colab.kernel.invokeFunction(\n",
              "            'suggestCharts', [key], {});\n",
              "      } catch (error) {\n",
              "        console.error('Error during call to suggestCharts:', error);\n",
              "      }\n",
              "      quickchartButtonEl.classList.remove('colab-df-spinner');\n",
              "      quickchartButtonEl.classList.add('colab-df-quickchart-complete');\n",
              "    }\n",
              "    (() => {\n",
              "      let quickchartButtonEl =\n",
              "        document.querySelector('#df-e0b3bfa1-085f-4253-9a84-9e162816f934 button');\n",
              "      quickchartButtonEl.style.display =\n",
              "        google.colab.kernel.accessAllowed ? 'block' : 'none';\n",
              "    })();\n",
              "  </script>\n",
              "</div>\n",
              "    </div>\n",
              "  </div>\n"
            ]
          },
          "metadata": {},
          "execution_count": 147
        }
      ]
    },
    {
      "cell_type": "markdown",
      "metadata": {
        "id": "escCgU1zYTpX"
      },
      "source": [
        "---\n",
        "### ** >>> Exercise 1 (Take home): **  \n",
        "Plot word frequency for Top 30 words in both train and test dataset. (Hint: refer to DM lab 1)\n"
      ]
    },
    {
      "cell_type": "code",
      "source": [
        "import pandas as pd\n",
        "import nltk\n",
        "nltk.download('punkt')\n",
        "nltk.download('wordnet')\n",
        "nltk.download('stopwords')\n",
        "from sklearn.feature_extraction.text import CountVectorizer\n",
        "import matplotlib.pyplot as plt\n",
        "from nltk.tokenize import word_tokenize\n",
        "from nltk.stem import WordNetLemmatizer\n",
        "from nltk.corpus import stopwords\n"
      ],
      "metadata": {
        "colab": {
          "base_uri": "https://localhost:8080/"
        },
        "id": "5YYlNPzrEUXP",
        "outputId": "c99f1f63-9977-4706-cf55-8d70f9568f89"
      },
      "execution_count": 148,
      "outputs": [
        {
          "output_type": "stream",
          "name": "stderr",
          "text": [
            "/usr/local/lib/python3.10/dist-packages/ipykernel/ipkernel.py:283: DeprecationWarning:\n",
            "\n",
            "`should_run_async` will not call `transform_cell` automatically in the future. Please pass the result to `transformed_cell` argument and any exception that happen during thetransform in `preprocessing_exc_tuple` in IPython 7.17 and above.\n",
            "\n",
            "[nltk_data] Downloading package punkt to /root/nltk_data...\n",
            "[nltk_data]   Package punkt is already up-to-date!\n",
            "[nltk_data] Downloading package wordnet to /root/nltk_data...\n",
            "[nltk_data]   Package wordnet is already up-to-date!\n",
            "[nltk_data] Downloading package stopwords to /root/nltk_data...\n",
            "[nltk_data]   Package stopwords is already up-to-date!\n"
          ]
        }
      ]
    },
    {
      "cell_type": "markdown",
      "source": [
        "1. Do preprocessing by converts all tokens to lowercase, remove stopwords, filters out non-alphabetic words, reduce to their base form.\n",
        "2. Use CountVectorizer to convert cleaned text to matrix of word counts. Calculates frequency of each word. Sort them in descending order and select top 30 words.\n",
        "3. Generated bar plots."
      ],
      "metadata": {
        "id": "nGS0g626axBS"
      }
    },
    {
      "cell_type": "code",
      "execution_count": 149,
      "metadata": {
        "colab": {
          "base_uri": "https://localhost:8080/",
          "height": 1000
        },
        "id": "GEnHTwbfJQYs",
        "outputId": "15e9133a-3e8d-41be-a962-de35bf5ce344"
      },
      "outputs": [
        {
          "output_type": "stream",
          "name": "stderr",
          "text": [
            "/usr/local/lib/python3.10/dist-packages/ipykernel/ipkernel.py:283: DeprecationWarning:\n",
            "\n",
            "`should_run_async` will not call `transform_cell` automatically in the future. Please pass the result to `transformed_cell` argument and any exception that happen during thetransform in `preprocessing_exc_tuple` in IPython 7.17 and above.\n",
            "\n"
          ]
        },
        {
          "output_type": "display_data",
          "data": {
            "text/plain": [
              "<Figure size 640x480 with 1 Axes>"
            ],
            "image/png": "[encoded data removed]"
          },
          "metadata": {}
        },
        {
          "output_type": "display_data",
          "data": {
            "text/plain": [
              "<Figure size 640x480 with 1 Axes>"
            ],
            "image/png": "[encoded data removed]"
          },
          "metadata": {}
        }
      ],
      "source": [
        "def clean_words(new_tokens):\n",
        "    #to lower case\n",
        "    new_tokens = [t.lower() for t in new_tokens]\n",
        "    #remove stopwords\n",
        "    new_tokens =[t for t in new_tokens if t not in stopwords.words('english')]\n",
        "    #remove non alphabet letter\n",
        "    new_tokens = [t for t in new_tokens if t.isalpha()]\n",
        "    # #reduce words to the base form EG rocks : rock.\n",
        "    lemmatizer = WordNetLemmatizer()\n",
        "    new_tokens =[lemmatizer.lemmatize(t) for t in new_tokens]\n",
        "    return new_tokens\n",
        "\n",
        "\n",
        "def plot_top_words(dataframe, title):\n",
        "    vectorizer = CountVectorizer(stop_words='english')\n",
        "    data_matrix = vectorizer.fit_transform(dataframe)\n",
        "    sum_words = data_matrix.sum(axis=0)\n",
        "    words_freq = [(word, sum_words[0, idx])\n",
        "                  for word, idx in vectorizer.vocabulary_.items()]\n",
        "    words_freq = sorted(words_freq, key=lambda x: x[1], reverse=True)\n",
        "    top_words = words_freq[:30]\n",
        "\n",
        "    df = pd.DataFrame(top_words, columns=['word', 'count'])\n",
        "    df.plot.bar(x='word', y='count', legend=False, title=title)\n",
        "    plt.ylabel('Frequency')\n",
        "    plt.xticks(rotation=90)\n",
        "\n",
        "\n",
        "clean_train = clean_words(word_tokenize(''.join(train_df['text'])))\n",
        "clean_test = clean_words(word_tokenize(''.join(test_df['text'])))\n",
        "\n",
        "plot_top_words(clean_train, 'Top 30 words in Train Dataset')\n",
        "plot_top_words(clean_test, 'Top 30 words in Test Dataset')\n",
        "plt.show()"
      ]
    },
    {
      "cell_type": "markdown",
      "metadata": {
        "id": "_hr8aKhlYTpo"
      },
      "source": [
        "---\n",
        "### 1.2 Save data"
      ]
    },
    {
      "cell_type": "markdown",
      "metadata": {
        "id": "Zm6GF2VvYTpo"
      },
      "source": [
        "We will save our data in Pickle format. The pickle module implements binary protocols for serializing and de-serializing a Python object structure.   \n",
        "  \n",
        "Some advantages for using pickle structure:  \n",
        "* Because it stores the attribute type, it's more convenient for cross-platform use.  \n",
        "* When your data is huge, it could use less space to store also consume less loading time.   "
      ]
    },
    {
      "cell_type": "code",
      "execution_count": 150,
      "metadata": {
        "id": "dZzepBdpYTpo",
        "colab": {
          "base_uri": "https://localhost:8080/"
        },
        "outputId": "f2a96591-2496-42fc-fb40-772703500a66"
      },
      "outputs": [
        {
          "output_type": "stream",
          "name": "stderr",
          "text": [
            "/usr/local/lib/python3.10/dist-packages/ipykernel/ipkernel.py:283: DeprecationWarning:\n",
            "\n",
            "`should_run_async` will not call `transform_cell` automatically in the future. Please pass the result to `transformed_cell` argument and any exception that happen during thetransform in `preprocessing_exc_tuple` in IPython 7.17 and above.\n",
            "\n"
          ]
        }
      ],
      "source": [
        "## save to pickle file\n",
        "train_df.to_pickle(path+\"data/train_df.pkl\")\n",
        "test_df.to_pickle(path+\"data/test_df.pkl\")"
      ]
    },
    {
      "cell_type": "code",
      "execution_count": 151,
      "metadata": {
        "id": "H5uO-kOUYTpo",
        "colab": {
          "base_uri": "https://localhost:8080/"
        },
        "outputId": "a61d47dd-dd46-4f3a-b36b-48a9fc426d66"
      },
      "outputs": [
        {
          "output_type": "stream",
          "name": "stderr",
          "text": [
            "/usr/local/lib/python3.10/dist-packages/ipykernel/ipkernel.py:283: DeprecationWarning:\n",
            "\n",
            "`should_run_async` will not call `transform_cell` automatically in the future. Please pass the result to `transformed_cell` argument and any exception that happen during thetransform in `preprocessing_exc_tuple` in IPython 7.17 and above.\n",
            "\n"
          ]
        }
      ],
      "source": [
        "import pandas as pd\n",
        "\n",
        "## load a pickle file\n",
        "train_df = pd.read_pickle(path+\"data/train_df.pkl\")\n",
        "test_df = pd.read_pickle(path+\"data/test_df.pkl\")"
      ]
    },
    {
      "cell_type": "markdown",
      "metadata": {
        "id": "_sLDcQzeYTpo"
      },
      "source": [
        "For more information: https://reurl.cc/0Dzqx"
      ]
    },
    {
      "cell_type": "markdown",
      "metadata": {
        "id": "dKHpxTzLYTpo"
      },
      "source": [
        "---\n",
        "### 1.3 Exploratory data analysis (EDA)\n",
        "\n",
        "Again, before getting our hands dirty, we need to explore a little bit and understand the data we're dealing with."
      ]
    },
    {
      "cell_type": "code",
      "execution_count": 152,
      "metadata": {
        "colab": {
          "base_uri": "https://localhost:8080/"
        },
        "id": "5_nd-C2lJQYt",
        "outputId": "67c21c86-adbe-4c34-a67e-04921115b58c"
      },
      "outputs": [
        {
          "output_type": "stream",
          "name": "stderr",
          "text": [
            "/usr/local/lib/python3.10/dist-packages/ipykernel/ipkernel.py:283: DeprecationWarning:\n",
            "\n",
            "`should_run_async` will not call `transform_cell` automatically in the future. Please pass the result to `transformed_cell` argument and any exception that happen during thetransform in `preprocessing_exc_tuple` in IPython 7.17 and above.\n",
            "\n"
          ]
        },
        {
          "output_type": "execute_result",
          "data": {
            "text/plain": [
              "array(['joy', 'fear', 'anger', 'sadness'], dtype=object)"
            ]
          },
          "metadata": {},
          "execution_count": 152
        }
      ],
      "source": [
        "train_df['emotion'].unique()"
      ]
    },
    {
      "cell_type": "code",
      "execution_count": 153,
      "metadata": {
        "colab": {
          "base_uri": "https://localhost:8080/"
        },
        "id": "mLnEEliCYTpo",
        "outputId": "5587faaf-644f-4d19-d6b3-3cf7be1761d7"
      },
      "outputs": [
        {
          "output_type": "stream",
          "name": "stderr",
          "text": [
            "/usr/local/lib/python3.10/dist-packages/ipykernel/ipkernel.py:283: DeprecationWarning:\n",
            "\n",
            "`should_run_async` will not call `transform_cell` automatically in the future. Please pass the result to `transformed_cell` argument and any exception that happen during thetransform in `preprocessing_exc_tuple` in IPython 7.17 and above.\n",
            "\n"
          ]
        },
        {
          "output_type": "execute_result",
          "data": {
            "text/plain": [
              "emotion\n",
              "anger       857\n",
              "fear       1147\n",
              "joy         823\n",
              "sadness     786\n",
              "Name: text, dtype: int64"
            ]
          },
          "metadata": {},
          "execution_count": 153
        }
      ],
      "source": [
        "# group to find distribution\n",
        "train_df.groupby(['emotion']).count()['text']"
      ]
    },
    {
      "cell_type": "code",
      "execution_count": 154,
      "metadata": {
        "colab": {
          "base_uri": "https://localhost:8080/",
          "height": 422
        },
        "id": "pcVOe8nYYTpo",
        "outputId": "4a9335fa-4715-4e13-9e30-9f0537c4af13"
      },
      "outputs": [
        {
          "output_type": "stream",
          "name": "stderr",
          "text": [
            "/usr/local/lib/python3.10/dist-packages/ipykernel/ipkernel.py:283: DeprecationWarning:\n",
            "\n",
            "`should_run_async` will not call `transform_cell` automatically in the future. Please pass the result to `transformed_cell` argument and any exception that happen during thetransform in `preprocessing_exc_tuple` in IPython 7.17 and above.\n",
            "\n"
          ]
        },
        {
          "output_type": "display_data",
          "data": {
            "text/plain": [
              "<Figure size 500x300 with 1 Axes>"
            ],
            "image/png": "[encoded data removed]"
          },
          "metadata": {}
        }
      ],
      "source": [
        "%matplotlib inline\n",
        "import numpy as np\n",
        "import matplotlib.pyplot as plt\n",
        "\n",
        "# the histogram of the data\n",
        "labels = train_df['emotion'].unique()\n",
        "post_total = len(train_df)\n",
        "df1 = train_df.groupby(['emotion']).count()['text'] #how many rows of data in each emotion\n",
        "df1 = df1.apply(lambda x: round(x*100/post_total,3)) #percentage of posts for each emotion\n",
        "\n",
        "#plot\n",
        "fig, ax = plt.subplots(figsize=(5,3))\n",
        "plt.bar(df1.index,df1.values)\n",
        "\n",
        "#arrange\n",
        "plt.ylabel('% of instances')\n",
        "plt.xlabel('Emotion')\n",
        "plt.title('Emotion distribution')\n",
        "plt.grid(True)\n",
        "plt.show()"
      ]
    },
    {
      "cell_type": "markdown",
      "metadata": {
        "id": "B_jGcireYTpo"
      },
      "source": [
        "---"
      ]
    },
    {
      "cell_type": "markdown",
      "metadata": {
        "id": "hgHvhTJuYTpo"
      },
      "source": [
        "## 2. Feature engineering\n",
        "### Using Bag of Words\n",
        "Using scikit-learn ```CountVectorizer``` perform word frequency and use these as features to train a model.  \n",
        "http://scikit-learn.org/stable/modules/generated/sklearn.feature_extraction.text.CountVectorizer.html"
      ]
    },
    {
      "cell_type": "code",
      "execution_count": 155,
      "metadata": {
        "id": "rbl89LPUYTpo",
        "colab": {
          "base_uri": "https://localhost:8080/"
        },
        "outputId": "85a06d3e-0161-41c8-def0-3a43c5af2f42"
      },
      "outputs": [
        {
          "output_type": "stream",
          "name": "stderr",
          "text": [
            "/usr/local/lib/python3.10/dist-packages/ipykernel/ipkernel.py:283: DeprecationWarning:\n",
            "\n",
            "`should_run_async` will not call `transform_cell` automatically in the future. Please pass the result to `transformed_cell` argument and any exception that happen during thetransform in `preprocessing_exc_tuple` in IPython 7.17 and above.\n",
            "\n"
          ]
        }
      ],
      "source": [
        "from sklearn.feature_extraction.text import CountVectorizer"
      ]
    },
    {
      "cell_type": "code",
      "execution_count": 156,
      "metadata": {
        "id": "Bo8_GP6qYTpo",
        "colab": {
          "base_uri": "https://localhost:8080/"
        },
        "outputId": "f818494f-4f7f-49cb-d972-a76a07347dd3"
      },
      "outputs": [
        {
          "output_type": "stream",
          "name": "stderr",
          "text": [
            "/usr/local/lib/python3.10/dist-packages/ipykernel/ipkernel.py:283: DeprecationWarning:\n",
            "\n",
            "`should_run_async` will not call `transform_cell` automatically in the future. Please pass the result to `transformed_cell` argument and any exception that happen during thetransform in `preprocessing_exc_tuple` in IPython 7.17 and above.\n",
            "\n"
          ]
        }
      ],
      "source": [
        "# build analyzers (bag-of-words)\n",
        "BOW_vectorizer = CountVectorizer()"
      ]
    },
    {
      "cell_type": "code",
      "execution_count": 157,
      "metadata": {
        "id": "Bz_m0xn7YTpo",
        "colab": {
          "base_uri": "https://localhost:8080/"
        },
        "outputId": "9567f6f9-a1ab-4d10-d5d3-e501eb2ac652"
      },
      "outputs": [
        {
          "output_type": "stream",
          "name": "stderr",
          "text": [
            "/usr/local/lib/python3.10/dist-packages/ipykernel/ipkernel.py:283: DeprecationWarning:\n",
            "\n",
            "`should_run_async` will not call `transform_cell` automatically in the future. Please pass the result to `transformed_cell` argument and any exception that happen during thetransform in `preprocessing_exc_tuple` in IPython 7.17 and above.\n",
            "\n"
          ]
        }
      ],
      "source": [
        "# 1. 'Learn' a vocabulary dictionary of all tokens in the raw documents.\n",
        "# I like a dog :\n",
        "# I -> 0\n",
        "# like -> 1\n",
        "# a -> 2\n",
        "# dog -> 3\n",
        "# 0,1,2,3 : index, fit learn the words in sentence and gave index\n",
        "BOW_vectorizer.fit(train_df['text'])\n",
        "\n",
        "# dtest_df can use the one learned on train_df, don't need to use vectorizer on test_df, if we use on test_df also, ther may be overfitting case happened.\n",
        "\n",
        "# 2. Transform documents to document-term matrix.\n",
        "# I like a dog => [1,1,1,1]\n",
        "# transform each token in sentene into vector []\n",
        "train_data_BOW_features = BOW_vectorizer.transform(train_df['text'])\n",
        "test_data_BOW_features = BOW_vectorizer.transform(test_df['text'])\n",
        "\n",
        "#train: I like a cat -> [1,1,1,1]\n",
        "# test: I like a dog -> [1,1,1,0]"
      ]
    },
    {
      "cell_type": "code",
      "execution_count": 158,
      "metadata": {
        "colab": {
          "base_uri": "https://localhost:8080/"
        },
        "id": "5cpCUVN8YTpo",
        "outputId": "cf81aa99-84f1-43c5-994d-ba8cc8b00a89"
      },
      "outputs": [
        {
          "output_type": "stream",
          "name": "stderr",
          "text": [
            "/usr/local/lib/python3.10/dist-packages/ipykernel/ipkernel.py:283: DeprecationWarning:\n",
            "\n",
            "`should_run_async` will not call `transform_cell` automatically in the future. Please pass the result to `transformed_cell` argument and any exception that happen during thetransform in `preprocessing_exc_tuple` in IPython 7.17 and above.\n",
            "\n"
          ]
        },
        {
          "output_type": "execute_result",
          "data": {
            "text/plain": [
              "<3613x10115 sparse matrix of type '<class 'numpy.int64'>'\n",
              "\twith 51467 stored elements in Compressed Sparse Row format>"
            ]
          },
          "metadata": {},
          "execution_count": 158
        }
      ],
      "source": [
        "# check the result\n",
        "train_data_BOW_features #3613 rows, 10115 columns(tokens)"
      ]
    },
    {
      "cell_type": "code",
      "execution_count": 159,
      "metadata": {
        "colab": {
          "base_uri": "https://localhost:8080/"
        },
        "id": "irGLsag-YTpo",
        "outputId": "452dee4b-861b-494d-9bdb-7360865a496c"
      },
      "outputs": [
        {
          "output_type": "stream",
          "name": "stderr",
          "text": [
            "/usr/local/lib/python3.10/dist-packages/ipykernel/ipkernel.py:283: DeprecationWarning:\n",
            "\n",
            "`should_run_async` will not call `transform_cell` automatically in the future. Please pass the result to `transformed_cell` argument and any exception that happen during thetransform in `preprocessing_exc_tuple` in IPython 7.17 and above.\n",
            "\n"
          ]
        },
        {
          "output_type": "execute_result",
          "data": {
            "text/plain": [
              "scipy.sparse._csr.csr_matrix"
            ]
          },
          "metadata": {},
          "execution_count": 159
        }
      ],
      "source": [
        "type(train_data_BOW_features)"
      ]
    },
    {
      "cell_type": "code",
      "execution_count": 160,
      "metadata": {
        "colab": {
          "base_uri": "https://localhost:8080/"
        },
        "id": "WqbR8KWNYTpo",
        "outputId": "6b386524-1d6c-4449-dab4-925e5a3df7a2",
        "scrolled": true
      },
      "outputs": [
        {
          "output_type": "stream",
          "name": "stderr",
          "text": [
            "/usr/local/lib/python3.10/dist-packages/ipykernel/ipkernel.py:283: DeprecationWarning:\n",
            "\n",
            "`should_run_async` will not call `transform_cell` automatically in the future. Please pass the result to `transformed_cell` argument and any exception that happen during thetransform in `preprocessing_exc_tuple` in IPython 7.17 and above.\n",
            "\n"
          ]
        },
        {
          "output_type": "execute_result",
          "data": {
            "text/plain": [
              "array([[0, 0, 0, ..., 0, 0, 0],\n",
              "       [0, 0, 0, ..., 0, 0, 0],\n",
              "       [0, 0, 0, ..., 0, 0, 0],\n",
              "       ...,\n",
              "       [0, 0, 0, ..., 0, 0, 0],\n",
              "       [0, 0, 0, ..., 0, 0, 0],\n",
              "       [0, 0, 0, ..., 0, 0, 0]])"
            ]
          },
          "metadata": {},
          "execution_count": 160
        }
      ],
      "source": [
        "# add .toarray() to show\n",
        "# each row is a text\n",
        "# each column is a token\n",
        "train_data_BOW_features.toarray()"
      ]
    },
    {
      "cell_type": "code",
      "execution_count": 161,
      "metadata": {
        "colab": {
          "base_uri": "https://localhost:8080/"
        },
        "id": "mL0xkGyGYTpo",
        "outputId": "e019ba7f-9ac3-4a2e-e5f5-d06bfdbd21ab",
        "scrolled": false
      },
      "outputs": [
        {
          "output_type": "stream",
          "name": "stderr",
          "text": [
            "/usr/local/lib/python3.10/dist-packages/ipykernel/ipkernel.py:283: DeprecationWarning:\n",
            "\n",
            "`should_run_async` will not call `transform_cell` automatically in the future. Please pass the result to `transformed_cell` argument and any exception that happen during thetransform in `preprocessing_exc_tuple` in IPython 7.17 and above.\n",
            "\n"
          ]
        },
        {
          "output_type": "execute_result",
          "data": {
            "text/plain": [
              "(3613, 10115)"
            ]
          },
          "metadata": {},
          "execution_count": 161
        }
      ],
      "source": [
        "# check the dimension\n",
        "train_data_BOW_features.shape"
      ]
    },
    {
      "cell_type": "code",
      "execution_count": 162,
      "metadata": {
        "colab": {
          "base_uri": "https://localhost:8080/"
        },
        "id": "iyRaxyBZYTpo",
        "outputId": "f11e4ffa-a54b-466c-f586-a45232184a3c"
      },
      "outputs": [
        {
          "output_type": "stream",
          "name": "stderr",
          "text": [
            "/usr/local/lib/python3.10/dist-packages/ipykernel/ipkernel.py:283: DeprecationWarning:\n",
            "\n",
            "`should_run_async` will not call `transform_cell` automatically in the future. Please pass the result to `transformed_cell` argument and any exception that happen during thetransform in `preprocessing_exc_tuple` in IPython 7.17 and above.\n",
            "\n"
          ]
        },
        {
          "output_type": "execute_result",
          "data": {
            "text/plain": [
              "array(['xxx', 'ya', 'ya_boi_huck', 'yaassss', 'yachtrock', 'yahoocare',\n",
              "       'yahweh', 'yall', 'yallamaccabi', 'yalls', 'yan', 'yang', 'yanks',\n",
              "       'yard', 'yards', 'yasezayoni', 'yawnoff', 'yay', 'ydu', 'ye',\n",
              "       'yea', 'yeah', 'year', 'yearly', 'yearning', 'years', 'yeg',\n",
              "       'yell', 'yelled', 'yeller', 'yelling', 'yellow', 'yemen', 'yep',\n",
              "       'yes', 'yesss', 'yesterday', 'yet', 'yeye', 'yf', 'yh', 'yield',\n",
              "       'yikes', 'ynnsanity', 'yo', 'yoelamite', 'yoga', 'yooo', 'yoosung',\n",
              "       'york'], dtype=object)"
            ]
          },
          "metadata": {},
          "execution_count": 162
        }
      ],
      "source": [
        "# observe some feature names\n",
        "feature_names = BOW_vectorizer.get_feature_names_out()\n",
        "feature_names[10000:10050]"
      ]
    },
    {
      "cell_type": "code",
      "execution_count": 163,
      "metadata": {
        "colab": {
          "base_uri": "https://localhost:8080/"
        },
        "id": "k90HJKePJQYu",
        "outputId": "b123ee24-ae6a-4c3f-a934-9892406b4153"
      },
      "outputs": [
        {
          "output_type": "stream",
          "name": "stderr",
          "text": [
            "/usr/local/lib/python3.10/dist-packages/ipykernel/ipkernel.py:283: DeprecationWarning:\n",
            "\n",
            "`should_run_async` will not call `transform_cell` automatically in the future. Please pass the result to `transformed_cell` argument and any exception that happen during thetransform in `preprocessing_exc_tuple` in IPython 7.17 and above.\n",
            "\n"
          ]
        },
        {
          "output_type": "stream",
          "name": "stdout",
          "text": [
            "Vocabulary:  ['00' '000' '00pm' ... 'य_ब' 'सत' 'アニメ']\n",
            "\n",
            "Train data BOW features: \n",
            "      00  000  00pm  00tiffanyr  01  02  03  0303  034  04  ...  zoolander  \\\n",
            "0      0    0     0           0   0   0   0     0    0   0  ...          0   \n",
            "1      0    0     0           0   0   0   0     0    0   0  ...          0   \n",
            "2      0    0     0           0   0   0   0     0    0   0  ...          0   \n",
            "3      0    0     0           0   0   0   0     0    0   0  ...          0   \n",
            "4      0    0     0           0   0   0   0     0    0   0  ...          0   \n",
            "...   ..  ...   ...         ...  ..  ..  ..   ...  ...  ..  ...        ...   \n",
            "3608   0    0     0           0   0   0   0     0    0   0  ...          0   \n",
            "3609   0    0     0           0   0   0   0     0    0   0  ...          0   \n",
            "3610   0    0     0           0   0   0   0     0    0   0  ...          0   \n",
            "3611   0    0     0           0   0   0   0     0    0   0  ...          0   \n",
            "3612   0    0     0           0   0   0   0     0    0   0  ...          0   \n",
            "\n",
            "      zumba  óg  деньги  الخفجي  اليوم_الوطني  ध_य  य_ब  सत  アニメ  \n",
            "0         0   0       0       0             0    0    0   0    0  \n",
            "1         0   0       0       0             0    0    0   0    0  \n",
            "2         0   0       0       0             0    0    0   0    0  \n",
            "3         0   0       0       0             0    0    0   0    0  \n",
            "4         0   0       0       0             0    0    0   0    0  \n",
            "...     ...  ..     ...     ...           ...  ...  ...  ..  ...  \n",
            "3608      0   0       0       0             0    0    0   0    0  \n",
            "3609      0   0       0       0             0    0    0   0    0  \n",
            "3610      0   0       0       0             0    0    0   0    0  \n",
            "3611      0   0       0       0             0    0    0   0    0  \n",
            "3612      0   0       0       0             0    0    0   0    0  \n",
            "\n",
            "[3613 rows x 10115 columns]\n",
            "\n",
            "Test data BOW features: \n",
            "     00  000  00pm  00tiffanyr  01  02  03  0303  034  04  ...  zoolander  \\\n",
            "0     0    0     0           0   0   0   0     0    0   0  ...          0   \n",
            "1     0    0     0           0   0   0   0     0    0   0  ...          0   \n",
            "2     0    0     0           0   0   0   0     0    0   0  ...          0   \n",
            "3     0    0     0           0   0   0   0     0    0   0  ...          0   \n",
            "4     0    0     0           0   0   0   0     0    0   0  ...          0   \n",
            "..   ..  ...   ...         ...  ..  ..  ..   ...  ...  ..  ...        ...   \n",
            "342   0    0     0           0   0   0   0     0    0   0  ...          0   \n",
            "343   0    0     0           0   0   0   0     0    0   0  ...          0   \n",
            "344   0    0     0           0   0   0   0     0    0   0  ...          0   \n",
            "345   0    0     0           0   0   0   0     0    0   0  ...          0   \n",
            "346   0    0     0           0   0   0   0     0    0   0  ...          0   \n",
            "\n",
            "     zumba  óg  деньги  الخفجي  اليوم_الوطني  ध_य  य_ब  सत  アニメ  \n",
            "0        0   0       0       0             0    0    0   0    0  \n",
            "1        0   0       0       0             0    0    0   0    0  \n",
            "2        0   0       0       0             0    0    0   0    0  \n",
            "3        0   0       0       0             0    0    0   0    0  \n",
            "4        0   0       0       0             0    0    0   0    0  \n",
            "..     ...  ..     ...     ...           ...  ...  ...  ..  ...  \n",
            "342      0   0       0       0             0    0    0   0    0  \n",
            "343      0   0       0       0             0    0    0   0    0  \n",
            "344      0   0       0       0             0    0    0   0    0  \n",
            "345      0   0       0       0             0    0    0   0    0  \n",
            "346      0   0       0       0             0    0    0   0    0  \n",
            "\n",
            "[347 rows x 10115 columns]\n"
          ]
        }
      ],
      "source": [
        "# print the vocab learned\n",
        "print(\"Vocabulary: \", BOW_vectorizer.get_feature_names_out())\n",
        "\n",
        "# Convert train data features to a dataframe to visualize\n",
        "print(\"\\nTrain data BOW features: \")\n",
        "print(pd.DataFrame(train_data_BOW_features.toarray(),\n",
        "      columns=BOW_vectorizer.get_feature_names_out()))\n",
        "\n",
        "# Convert test data features to a dataframe to visualize\n",
        "print(\"\\nTest data BOW features: \")\n",
        "print(pd.DataFrame(test_data_BOW_features.toarray(),\n",
        "      columns=BOW_vectorizer.get_feature_names_out()))\n",
        "\n",
        "#column : each column is word\n",
        "#row : each row text\n"
      ]
    },
    {
      "cell_type": "markdown",
      "metadata": {
        "id": "zm00p_sxYTpo"
      },
      "source": []
    },
    {
      "cell_type": "code",
      "execution_count": 164,
      "metadata": {
        "id": "Q34g7e5LJQYu",
        "colab": {
          "base_uri": "https://localhost:8080/"
        },
        "outputId": "f666ba17-0277-4683-c0e9-d04d4c4da55d"
      },
      "outputs": [
        {
          "output_type": "stream",
          "name": "stderr",
          "text": [
            "/usr/local/lib/python3.10/dist-packages/ipykernel/ipkernel.py:283: DeprecationWarning:\n",
            "\n",
            "`should_run_async` will not call `transform_cell` automatically in the future. Please pass the result to `transformed_cell` argument and any exception that happen during thetransform in `preprocessing_exc_tuple` in IPython 7.17 and above.\n",
            "\n"
          ]
        }
      ],
      "source": [
        "#embedding:\n",
        "#transfer each word in text to a vector"
      ]
    },
    {
      "cell_type": "markdown",
      "metadata": {
        "id": "roSfgQKaYTpo"
      },
      "source": [
        "The embedding is done. We can technically feed this into our model. However, depending on the embedding technique you use and your model, your accuracy might not be as high, because:\n",
        "\n",
        "* curse of dimensionality  (we have 10,115 dimension now)\n",
        "* some important features are ignored (for example, some models using emoticons yeld better performance than counterparts)"
      ]
    },
    {
      "cell_type": "code",
      "execution_count": 165,
      "metadata": {
        "colab": {
          "base_uri": "https://localhost:8080/"
        },
        "id": "kx4YPbrdYTpo",
        "outputId": "62e6b6cb-6100-4a6c-d777-7be49b1d296b"
      },
      "outputs": [
        {
          "output_type": "stream",
          "name": "stderr",
          "text": [
            "/usr/local/lib/python3.10/dist-packages/ipykernel/ipkernel.py:283: DeprecationWarning:\n",
            "\n",
            "`should_run_async` will not call `transform_cell` automatically in the future. Please pass the result to `transformed_cell` argument and any exception that happen during thetransform in `preprocessing_exc_tuple` in IPython 7.17 and above.\n",
            "\n"
          ]
        },
        {
          "output_type": "execute_result",
          "data": {
            "text/plain": [
              "False"
            ]
          },
          "metadata": {},
          "execution_count": 165
        }
      ],
      "source": [
        "\"😂\" in feature_names"
      ]
    },
    {
      "cell_type": "markdown",
      "metadata": {
        "id": "0MFzyA95YTpo"
      },
      "source": [
        "Let's try using another tokenizer below."
      ]
    },
    {
      "cell_type": "code",
      "execution_count": 166,
      "metadata": {
        "colab": {
          "base_uri": "https://localhost:8080/"
        },
        "id": "SttodxACYTpo",
        "outputId": "e08bae72-081b-4265-a5d3-592f3e493f13"
      },
      "outputs": [
        {
          "output_type": "stream",
          "name": "stderr",
          "text": [
            "/usr/local/lib/python3.10/dist-packages/ipykernel/ipkernel.py:283: DeprecationWarning:\n",
            "\n",
            "`should_run_async` will not call `transform_cell` automatically in the future. Please pass the result to `transformed_cell` argument and any exception that happen during thetransform in `preprocessing_exc_tuple` in IPython 7.17 and above.\n",
            "\n",
            "/usr/local/lib/python3.10/dist-packages/sklearn/feature_extraction/text.py:528: UserWarning:\n",
            "\n",
            "The parameter 'token_pattern' will not be used since 'tokenizer' is not None'\n",
            "\n"
          ]
        },
        {
          "output_type": "execute_result",
          "data": {
            "text/plain": [
              "(3613, 500)"
            ]
          },
          "metadata": {},
          "execution_count": 166
        }
      ],
      "source": [
        "import nltk\n",
        "\n",
        "# build analyzers (bag-of-words), extract top 500 words/features, NLTK's word_tokenize() is more comprehensive and linguistically aware\n",
        "# use nltk tokenizer because the default cannot detect emoji as a token, but nltk can detect it\n",
        "BOW_500 = CountVectorizer(max_features=500, tokenizer=nltk.word_tokenize)\n",
        "\n",
        "# apply analyzer to training data\n",
        "BOW_500.fit(train_df['text'])\n",
        "\n",
        "train_data_BOW_features_500 = BOW_500.transform(train_df['text'])\n",
        "\n",
        "## check dimension\n",
        "train_data_BOW_features_500.shape"
      ]
    },
    {
      "cell_type": "code",
      "execution_count": 167,
      "metadata": {
        "colab": {
          "base_uri": "https://localhost:8080/"
        },
        "id": "sPi42W0pYTpo",
        "outputId": "ae4a244a-8495-4dcc-df5e-85f3acb85a18"
      },
      "outputs": [
        {
          "output_type": "stream",
          "name": "stderr",
          "text": [
            "/usr/local/lib/python3.10/dist-packages/ipykernel/ipkernel.py:283: DeprecationWarning:\n",
            "\n",
            "`should_run_async` will not call `transform_cell` automatically in the future. Please pass the result to `transformed_cell` argument and any exception that happen during thetransform in `preprocessing_exc_tuple` in IPython 7.17 and above.\n",
            "\n"
          ]
        },
        {
          "output_type": "execute_result",
          "data": {
            "text/plain": [
              "array([[0, 2, 0, ..., 0, 0, 0],\n",
              "       [1, 7, 0, ..., 0, 0, 0],\n",
              "       [0, 1, 0, ..., 0, 0, 0],\n",
              "       ...,\n",
              "       [3, 0, 0, ..., 0, 0, 0],\n",
              "       [0, 0, 0, ..., 0, 0, 0],\n",
              "       [1, 0, 0, ..., 0, 0, 0]])"
            ]
          },
          "metadata": {},
          "execution_count": 167
        }
      ],
      "source": [
        "train_data_BOW_features_500.toarray()"
      ]
    },
    {
      "cell_type": "code",
      "execution_count": 168,
      "metadata": {
        "colab": {
          "base_uri": "https://localhost:8080/"
        },
        "id": "JCgAnTOfYTpo",
        "outputId": "5badbfc2-4fa3-411a-e655-59ea0b491a98"
      },
      "outputs": [
        {
          "output_type": "stream",
          "name": "stderr",
          "text": [
            "/usr/local/lib/python3.10/dist-packages/ipykernel/ipkernel.py:283: DeprecationWarning:\n",
            "\n",
            "`should_run_async` will not call `transform_cell` automatically in the future. Please pass the result to `transformed_cell` argument and any exception that happen during thetransform in `preprocessing_exc_tuple` in IPython 7.17 and above.\n",
            "\n"
          ]
        },
        {
          "output_type": "execute_result",
          "data": {
            "text/plain": [
              "array(['change', 'cheer', 'cheerful', 'cheerfully', 'cheering', 'cheery',\n",
              "       'come', 'comes', 'could', 'country'], dtype=object)"
            ]
          },
          "metadata": {},
          "execution_count": 168
        }
      ],
      "source": [
        "# observe some feature names\n",
        "feature_names_500 = BOW_500.get_feature_names_out()\n",
        "feature_names_500[100:110]"
      ]
    },
    {
      "cell_type": "code",
      "execution_count": 169,
      "metadata": {
        "colab": {
          "base_uri": "https://localhost:8080/"
        },
        "id": "U2qnsczvJQY3",
        "outputId": "c8e4145c-c437-4993-a514-00733471ba6e"
      },
      "outputs": [
        {
          "output_type": "stream",
          "name": "stdout",
          "text": [
            "\n",
            "Train data BOW features: \n",
            "      !  #  $  %  &  '  'd  'll  'm  're  ...  year  years  yet  you  your  \\\n",
            "0     0  2  0  0  0  0   0    0   0    0  ...     0      0    0    0     0   \n",
            "1     1  7  0  0  1  2   0    0   0    0  ...     0      0    0    0     0   \n",
            "2     0  1  0  0  0  0   0    0   0    0  ...     0      0    0    0     0   \n",
            "3     0  1  0  0  0  0   0    0   0    0  ...     0      0    0    2     0   \n",
            "4     0  0  0  0  0  0   0    0   0    0  ...     0      0    0    0     0   \n",
            "...  .. .. .. .. .. ..  ..  ...  ..  ...  ...   ...    ...  ...  ...   ...   \n",
            "3608  0  0  0  0  0  0   0    0   0    0  ...     0      0    0    0     0   \n",
            "3609  1  0  0  0  0  0   0    0   0    0  ...     0      0    0    0     0   \n",
            "3610  3  0  0  0  0  0   0    0   0    0  ...     0      0    0    0     0   \n",
            "3611  0  0  0  0  0  0   0    0   0    0  ...     0      0    0    0     0   \n",
            "3612  1  0  0  0  0  0   0    0   0    0  ...     0      0    0    0     0   \n",
            "\n",
            "      yourself  ’  “  ”  😂  \n",
            "0            0  0  0  0  0  \n",
            "1            0  0  0  0  0  \n",
            "2            0  0  0  0  0  \n",
            "3            0  0  0  0  0  \n",
            "4            0  0  0  0  0  \n",
            "...        ... .. .. .. ..  \n",
            "3608         0  0  0  0  0  \n",
            "3609         0  0  0  0  0  \n",
            "3610         0  0  0  0  0  \n",
            "3611         0  0  0  0  0  \n",
            "3612         0  0  0  0  0  \n",
            "\n",
            "[3613 rows x 500 columns]\n"
          ]
        },
        {
          "output_type": "stream",
          "name": "stderr",
          "text": [
            "/usr/local/lib/python3.10/dist-packages/ipykernel/ipkernel.py:283: DeprecationWarning:\n",
            "\n",
            "`should_run_async` will not call `transform_cell` automatically in the future. Please pass the result to `transformed_cell` argument and any exception that happen during thetransform in `preprocessing_exc_tuple` in IPython 7.17 and above.\n",
            "\n"
          ]
        }
      ],
      "source": [
        "# Convert train data features to a dataframe to visualize\n",
        "print(\"\\nTrain data BOW features: \")\n",
        "print(pd.DataFrame(train_data_BOW_features_500.toarray(),\n",
        "      columns=BOW_500.get_feature_names_out()))"
      ]
    },
    {
      "cell_type": "code",
      "execution_count": 30,
      "metadata": {
        "colab": {
          "base_uri": "https://localhost:8080/"
        },
        "id": "ubgedNi4YTpo",
        "outputId": "7d5db081-cccf-4b67-8f0e-a867106333cb"
      },
      "outputs": [
        {
          "output_type": "execute_result",
          "data": {
            "text/plain": [
              "True"
            ]
          },
          "metadata": {},
          "execution_count": 30
        }
      ],
      "source": [
        "\"😂\" in feature_names_500"
      ]
    },
    {
      "cell_type": "markdown",
      "metadata": {
        "id": "fj6TV4ngYTpo"
      },
      "source": [
        "---\n",
        "### ** >>> Exercise 2 (Take home): **  \n",
        "Generate an embedding using the TF-IDF vectorizer instead of th BOW one with 1000 features and show the feature names for features [100:110]."
      ]
    },
    {
      "cell_type": "code",
      "execution_count": 31,
      "metadata": {
        "id": "BOjVbgmxYTpo",
        "colab": {
          "base_uri": "https://localhost:8080/"
        },
        "outputId": "f08b8b96-9e0a-4925-d085-26b7d4078a14"
      },
      "outputs": [
        {
          "output_type": "stream",
          "name": "stdout",
          "text": [
            "\n",
            "Train data tfidf features: \n",
            "       10  100   12   15   17   20  2016   30   70  about  ...  years  yes  \\\n",
            "0     0.0  0.0  0.0  0.0  0.0  0.0   0.0  0.0  0.0    0.0  ...    0.0  0.0   \n",
            "1     0.0  0.0  0.0  0.0  0.0  0.0   0.0  0.0  0.0    0.0  ...    0.0  0.0   \n",
            "2     0.0  0.0  0.0  0.0  0.0  0.0   0.0  0.0  0.0    0.0  ...    0.0  0.0   \n",
            "3     0.0  0.0  0.0  0.0  0.0  0.0   0.0  0.0  0.0    0.0  ...    0.0  0.0   \n",
            "4     0.0  0.0  0.0  0.0  0.0  0.0   0.0  0.0  0.0    0.0  ...    0.0  0.0   \n",
            "...   ...  ...  ...  ...  ...  ...   ...  ...  ...    ...  ...    ...  ...   \n",
            "3608  0.0  0.0  0.0  0.0  0.0  0.0   0.0  0.0  0.0    0.0  ...    0.0  0.0   \n",
            "3609  0.0  0.0  0.0  0.0  0.0  0.0   0.0  0.0  0.0    0.0  ...    0.0  0.0   \n",
            "3610  0.0  0.0  0.0  0.0  0.0  0.0   0.0  0.0  0.0    0.0  ...    0.0  0.0   \n",
            "3611  0.0  0.0  0.0  0.0  0.0  0.0   0.0  0.0  0.0    0.0  ...    0.0  0.0   \n",
            "3612  0.0  0.0  0.0  0.0  0.0  0.0   0.0  0.0  0.0    0.0  ...    0.0  0.0   \n",
            "\n",
            "      yesterday  yet   yo       you  young      your  yourself  youtube  \n",
            "0           0.0  0.0  0.0  0.000000    0.0  0.000000       0.0      0.0  \n",
            "1           0.0  0.0  0.0  0.000000    0.0  0.000000       0.0      0.0  \n",
            "2           0.0  0.0  0.0  0.000000    0.0  0.000000       0.0      0.0  \n",
            "3           0.0  0.0  0.0  0.000000    0.0  0.000000       0.0      0.0  \n",
            "4           0.0  0.0  0.0  0.000000    0.0  0.000000       0.0      0.0  \n",
            "...         ...  ...  ...       ...    ...       ...       ...      ...  \n",
            "3608        0.0  0.0  0.0  0.201241    0.0  0.000000       0.0      0.0  \n",
            "3609        0.0  0.0  0.0  0.000000    0.0  0.277673       0.0      0.0  \n",
            "3610        0.0  0.0  0.0  0.000000    0.0  0.000000       0.0      0.0  \n",
            "3611        0.0  0.0  0.0  0.236410    0.0  0.000000       0.0      0.0  \n",
            "3612        0.0  0.0  0.0  0.000000    0.0  0.000000       0.0      0.0  \n",
            "\n",
            "[3613 rows x 1000 columns]\n",
            "\n",
            "Feature names for features [100:110]: \n",
            "['bitter' 'black' 'blacks' 'blame' 'blessed' 'blood' 'bloody' 'blues'\n",
            " 'body' 'boiling']\n"
          ]
        }
      ],
      "source": [
        "# Answer here\n",
        "import pandas as pd\n",
        "from sklearn.feature_extraction.text import TfidfVectorizer\n",
        "\n",
        "# Initialize the TF-IDF Vectorizer\n",
        "tfidf_vectorizer_1000 = TfidfVectorizer(max_features=1000)\n",
        "\n",
        "# Fit and transform the 'text' data\n",
        "train_data_tfidf_features_1000 = tfidf_vectorizer_1000.fit_transform(train_df['text'])\n",
        "\n",
        "print(\"\\nTrain data tfidf features: \")\n",
        "print(pd.DataFrame(train_data_tfidf_features_1000.toarray(),\n",
        "      columns=tfidf_vectorizer_1000.get_feature_names_out()))\n",
        "\n",
        "# Get the feature names 100 to 110\n",
        "tfidf_feature_names_1000 = tfidf_vectorizer_1000.get_feature_names_out()\n",
        "print(\"\\nFeature names for features [100:110]: \")\n",
        "print(tfidf_feature_names_1000[100:110])\n"
      ]
    },
    {
      "cell_type": "markdown",
      "metadata": {
        "id": "e0BvbNAVYTpo"
      },
      "source": [
        "---\n",
        "## 3. Model\n",
        "### 3.1 Decision Trees\n",
        "Using scikit-learn ```DecisionTreeClassifier``` performs word frequency and uses these as features to train a model.  \n",
        "http://scikit-learn.org/stable/modules/generated/sklearn.tree.DecisionTreeClassifier.html#sklearn.tree.DecisionTreeClassifier"
      ]
    },
    {
      "cell_type": "code",
      "execution_count": 32,
      "metadata": {
        "colab": {
          "base_uri": "https://localhost:8080/"
        },
        "id": "SD0rMWKgYTpo",
        "outputId": "1c84a05e-ab2b-4417-9155-2c026eebf927"
      },
      "outputs": [
        {
          "output_type": "stream",
          "name": "stdout",
          "text": [
            "X_train.shape:  (3613, 500)\n",
            "y_train.shape:  (3613,)\n",
            "X_test.shape:  (347, 500)\n",
            "y_test.shape:  (347,)\n"
          ]
        }
      ],
      "source": [
        "from sklearn.tree import DecisionTreeClassifier\n",
        "\n",
        "# for a classificaiton problem, you need to provide both training & testing data\n",
        "X_train = BOW_500.transform(train_df['text']) #use BOW coz model will not know the string text, we need to transform them from text to vector using BOW\n",
        "y_train = train_df['emotion']\n",
        "\n",
        "X_test = BOW_500.transform(test_df['text'])\n",
        "y_test = test_df['emotion']\n",
        "\n",
        "## take a look at data dimension is a good habit  :)\n",
        "print('X_train.shape: ', X_train.shape)\n",
        "print('y_train.shape: ', y_train.shape)\n",
        "print('X_test.shape: ', X_test.shape)\n",
        "print('y_test.shape: ', y_test.shape)"
      ]
    },
    {
      "cell_type": "code",
      "execution_count": 33,
      "metadata": {
        "colab": {
          "base_uri": "https://localhost:8080/"
        },
        "id": "iDuvLf7TYTpo",
        "outputId": "28316b38-e569-4104-96bd-83d41ccd3c09"
      },
      "outputs": [
        {
          "output_type": "execute_result",
          "data": {
            "text/plain": [
              "array(['anger', 'fear', 'anger', 'fear', 'fear', 'fear', 'joy', 'fear',\n",
              "       'anger', 'fear'], dtype=object)"
            ]
          },
          "metadata": {},
          "execution_count": 33
        }
      ],
      "source": [
        "## build DecisionTree model\n",
        "DT_model = DecisionTreeClassifier(random_state=1)\n",
        "\n",
        "## training!\n",
        "DT_model = DT_model.fit(X_train, y_train)\n",
        "\n",
        "## predict!\n",
        "y_train_pred = DT_model.predict(X_train)\n",
        "y_test_pred = DT_model.predict(X_test)\n",
        "\n",
        "## so we get the pred result\n",
        "y_test_pred[:10]"
      ]
    },
    {
      "cell_type": "markdown",
      "metadata": {
        "id": "zqZHlDjxYTpo"
      },
      "source": []
    },
    {
      "cell_type": "markdown",
      "metadata": {
        "id": "iBNmBT50YTpo"
      },
      "source": [
        "---\n",
        "## 4. Results Evaluation"
      ]
    },
    {
      "cell_type": "markdown",
      "metadata": {
        "id": "-gQU_PbhYTpo"
      },
      "source": [
        "Now we will check the results of our model's performance"
      ]
    },
    {
      "cell_type": "code",
      "execution_count": 34,
      "metadata": {
        "colab": {
          "base_uri": "https://localhost:8080/"
        },
        "id": "A9yx3tv-YTpo",
        "outputId": "6535024f-a1bf-44f9-bab2-a1f2664b05a5"
      },
      "outputs": [
        {
          "output_type": "stream",
          "name": "stdout",
          "text": [
            "training accuracy: 0.99\n",
            "testing accuracy: 0.68\n"
          ]
        }
      ],
      "source": [
        "## accuracy\n",
        "from sklearn.metrics import accuracy_score\n",
        "\n",
        "acc_train = accuracy_score(y_true=y_train, y_pred=y_train_pred)\n",
        "acc_test = accuracy_score(y_true=y_test, y_pred=y_test_pred)\n",
        "\n",
        "print('training accuracy: {}'.format(round(acc_train, 2)))\n",
        "print('testing accuracy: {}'.format(round(acc_test, 2)))\n"
      ]
    },
    {
      "cell_type": "code",
      "execution_count": 37,
      "metadata": {
        "colab": {
          "base_uri": "https://localhost:8080/"
        },
        "id": "-wkOqjqiYTpo",
        "outputId": "e8edc577-a709-496f-f030-0f33025c2309"
      },
      "outputs": [
        {
          "output_type": "stream",
          "name": "stdout",
          "text": [
            "              precision    recall  f1-score   support\n",
            "\n",
            "       anger       0.66      0.68      0.67        84\n",
            "        fear       0.66      0.69      0.67       110\n",
            "         joy       0.72      0.71      0.71        79\n",
            "     sadness       0.70      0.64      0.67        74\n",
            "\n",
            "    accuracy                           0.68       347\n",
            "   macro avg       0.68      0.68      0.68       347\n",
            "weighted avg       0.68      0.68      0.68       347\n",
            "\n"
          ]
        }
      ],
      "source": [
        "## precision, recall, f1-score,\n",
        "from sklearn.metrics import classification_report\n",
        "\n",
        "print(classification_report(y_true=y_test, y_pred=y_test_pred))"
      ]
    },
    {
      "cell_type": "code",
      "execution_count": 36,
      "metadata": {
        "colab": {
          "base_uri": "https://localhost:8080/"
        },
        "id": "N6mhrmKHYTpo",
        "outputId": "f44fbab4-5a5c-4220-b1d8-eaf160831728"
      },
      "outputs": [
        {
          "output_type": "stream",
          "name": "stdout",
          "text": [
            "[[57 18  6  3]\n",
            " [16 76  9  9]\n",
            " [ 6  9 56  8]\n",
            " [ 7 13  7 47]]\n"
          ]
        }
      ],
      "source": [
        "## check by confusion matrix\n",
        "from sklearn.metrics import confusion_matrix\n",
        "\n",
        "cm = confusion_matrix(y_true=y_test, y_pred=y_test_pred)\n",
        "print(cm)"
      ]
    },
    {
      "cell_type": "code",
      "execution_count": 38,
      "metadata": {
        "id": "-TcX8NA5YTpo"
      },
      "outputs": [],
      "source": [
        "# Funciton for visualizing confusion_matrix\n",
        "import matplotlib.pyplot as plt\n",
        "import seaborn as sns\n",
        "import numpy as np\n",
        "import itertools\n",
        "\n",
        "def plot_confusion_matrix(cm, classes, title='Confusion matrix',\n",
        "                          cmap=sns.cubehelix_palette(as_cmap=True)):\n",
        "    \"\"\"\n",
        "    This function is modified from:\n",
        "    http://scikit-learn.org/stable/auto_examples/model_selection/plot_confusion_matrix.html\n",
        "    \"\"\"\n",
        "    classes.sort()\n",
        "    tick_marks = np.arange(len(classes))\n",
        "\n",
        "    fig, ax = plt.subplots(figsize=(5,5))\n",
        "    im = ax.imshow(cm, interpolation='nearest', cmap=cmap)\n",
        "    ax.figure.colorbar(im, ax=ax)\n",
        "    ax.set(xticks=np.arange(cm.shape[1]),\n",
        "           yticks=np.arange(cm.shape[0]),\n",
        "           xticklabels = classes,\n",
        "           yticklabels = classes,\n",
        "           title = title,\n",
        "           xlabel = 'True label',\n",
        "           ylabel = 'Predicted label')\n",
        "\n",
        "    fmt = 'd'\n",
        "    thresh = cm.max() / 2.\n",
        "    for i, j in itertools.product(range(cm.shape[0]), range(cm.shape[1])):\n",
        "        plt.text(j, i, format(cm[i, j], fmt), horizontalalignment=\"center\", color=\"white\" if cm[i, j] > thresh else \"black\")\n",
        "    ylim_top = len(classes) - 0.5\n",
        "    plt.ylim([ylim_top, -.5])\n",
        "    plt.tight_layout()\n",
        "    plt.show()"
      ]
    },
    {
      "cell_type": "code",
      "execution_count": 39,
      "metadata": {
        "colab": {
          "base_uri": "https://localhost:8080/",
          "height": 501
        },
        "id": "1nBVOUpDYTpo",
        "outputId": "0737904d-71ab-460c-98cd-6bbb7808233f"
      },
      "outputs": [
        {
          "output_type": "display_data",
          "data": {
            "text/plain": [
              "<Figure size 500x500 with 2 Axes>"
            ],
            "image/png": "[encoded data removed]"
          },
          "metadata": {}
        }
      ],
      "source": [
        "# plot your confusion matrix\n",
        "my_tags = ['anger', 'fear', 'joy', 'sadness']\n",
        "plot_confusion_matrix(cm, classes=my_tags, title='Confusion matrix')"
      ]
    },
    {
      "cell_type": "markdown",
      "metadata": {
        "id": "l743vmwgYTpo"
      },
      "source": [
        "---\n",
        "### ** >>> Exercise 3 (Take home): **  \n",
        "Can you interpret the results above? What do they mean?"
      ]
    },
    {
      "cell_type": "markdown",
      "metadata": {
        "id": "8pYICOxsYTpo"
      },
      "source": [
        "# Answer here\n",
        "For the above confusion matrix:\n",
        "- The rows correspond to the predicted classes.\n",
        "- The columns correspond to the actual classes.\n",
        "\n",
        "The elements on the diagonal of the confusion matrix represent the number of instances where the predicted class matches the actual class, also known as the true positives for each class:\n",
        "- 57 instances where the class was 'anger' and the model correctly predicted anger.\n",
        "- 76 instances where the class was 'fear and the model correctly predicted fear.\n",
        "- 56 instances where the class was 'joy' and the model correctly predicted joy.\n",
        "- 47 instances where the class was 'sadness' and the model correctly predicted sadness.\n",
        "\n",
        "Below is the interpretation for each off-diagonal element, which represents the misclassifications:\n",
        "First row:\n",
        "  - 18 instances were actually fear but predicted as anger.\n",
        "  - 6 instances were actually joy but predicted as anger.\n",
        "  - 3 instances were actually sadness but predicted as anger.\n",
        "Second row:\n",
        "  - 16 instances were actually anger but predicted as fear.\n",
        "  - 9 instances were actually joy but predicted as fear.\n",
        "  - 9 instances were actually sadness but predicted as fear.\n",
        "Third row:\n",
        "  - 6 instances were actually anger but predicted as joy.\n",
        "  - 9 instances were actually fear but predicted as joy.\n",
        "  - 8 instances were actually sadness but predicted as joy.\n",
        "Fourth row:\n",
        "  - 7 instances were actually anger but predicted as sadness.\n",
        "  - 13 instances were actually fear but predicted as sadness.\n",
        "  - 7 instances were actually joy but predicted as sadness.\n",
        "\n",
        "The diagonal values are key indicators of the model's ability to correctly classify each emotion. The higher the number on the diagonal for a given class, the better the model is at recognizing and predicting that class correctly.\n",
        "\n",
        "The sum of the diagonal elements gives us the total number of correct predictions made by the model. The overall accuracy of the model can be calculated by summing these diagonal elements and dividing by the total number of instances in the dataset.\n",
        "\n",
        "Each off-diagonal element in the matrix indicates a type of error. For example, the model seems to have more difficulty in correctly predicting anger and fear as it often confuses anger for fear and vice versa, as indicated by the 18 and 16 in the first column of the second row and the first row of the second column, respectively.\n",
        "\n",
        "Similarly, sadness is more often confused with fear (13 instances) than with joy or anger. Misclassifications between joy and sadness are also notable but less frequent.\n",
        "\n",
        "This matrix is useful to see not just how many predictions were wrong, but also which specific classes are being confused by the model, which can be crucial information when trying to improve the model's performance.\n",
        "\n",
        "\n"
      ]
    },
    {
      "cell_type": "markdown",
      "metadata": {
        "id": "GaHpgl87YTpo"
      },
      "source": [
        "---\n",
        "### ** >>> Exercise 4 (Take home): **  \n",
        "Build a model using a ```Naive Bayes``` model and train it. What are the testing results?\n",
        "\n",
        "*Reference*: https://scikit-learn.org/stable/modules/generated/sklearn.naive_bayes.MultinomialNB.html"
      ]
    },
    {
      "cell_type": "code",
      "source": [
        "from sklearn.tree import DecisionTreeClassifier\n",
        "from sklearn.feature_extraction import DictVectorizer\n",
        "from sklearn.naive_bayes import MultinomialNB\n",
        "\n",
        "mnb = MultinomialNB()\n",
        "mnb.fit(X_train, y_train)\n",
        "MultinomialNB(alpha=1.0, class_prior=None, fit_prior=True)\n",
        "\n",
        "mnb_y_train_pred = mnb.predict(X_train)\n",
        "mnb_y_test_pred = mnb.predict(X_test)\n",
        "\n",
        "## accuracy\n",
        "from sklearn.metrics import accuracy_score\n",
        "\n",
        "acc_train = accuracy_score(y_true = y_train, y_pred = mnb_y_train_pred)\n",
        "acc_test = accuracy_score(y_true = y_test, y_pred = mnb_y_test_pred)\n",
        "\n",
        "print('training accuracy: {}'.format(round(acc_train, 2)))\n",
        "print('testing accuracy: {}'.format(round(acc_test, 2)))\n",
        "print(\"mbm model: \",classification_report(y_true = y_test, y_pred = mnb_y_test_pred))\n",
        "\n",
        "mnb_cm = confusion_matrix(y_true = y_test, y_pred = mnb_y_test_pred)\n",
        "print('Confusion Matrix of mnb naive bayes')\n",
        "print(mnb_cm)\n",
        "\n",
        "plot_confusion_matrix(mnb_cm, classes=my_tags, title='mnb model Confusion matrix')\n"
      ],
      "metadata": {
        "colab": {
          "base_uri": "https://localhost:8080/",
          "height": 903
        },
        "id": "SvwkSrtS-YRo",
        "outputId": "fe539864-3cb7-4549-af46-0fa9822cf8bd"
      },
      "execution_count": 130,
      "outputs": [
        {
          "output_type": "stream",
          "name": "stderr",
          "text": [
            "/usr/local/lib/python3.10/dist-packages/ipykernel/ipkernel.py:283: DeprecationWarning:\n",
            "\n",
            "`should_run_async` will not call `transform_cell` automatically in the future. Please pass the result to `transformed_cell` argument and any exception that happen during thetransform in `preprocessing_exc_tuple` in IPython 7.17 and above.\n",
            "\n"
          ]
        },
        {
          "output_type": "stream",
          "name": "stdout",
          "text": [
            "training accuracy: 0.79\n",
            "testing accuracy: 0.7\n",
            "mbm model:                precision    recall  f1-score   support\n",
            "\n",
            "       anger       0.63      0.65      0.64        84\n",
            "        fear       0.73      0.77      0.75       110\n",
            "         joy       0.78      0.71      0.74        79\n",
            "     sadness       0.64      0.62      0.63        74\n",
            "\n",
            "    accuracy                           0.70       347\n",
            "   macro avg       0.70      0.69      0.69       347\n",
            "weighted avg       0.70      0.70      0.70       347\n",
            "\n",
            "Confusion Matrix of mnb naive bayes\n",
            "[[55 15  5  9]\n",
            " [ 9 85  5 11]\n",
            " [11  6 56  6]\n",
            " [12 10  6 46]]\n"
          ]
        },
        {
          "output_type": "display_data",
          "data": {
            "text/plain": [
              "<Figure size 500x500 with 2 Axes>"
            ],
            "image/png": "[encoded data removed]"
          },
          "metadata": {}
        }
      ]
    },
    {
      "cell_type": "code",
      "source": [],
      "metadata": {
        "id": "Z-FLmHfg-YEQ"
      },
      "execution_count": null,
      "outputs": []
    },
    {
      "cell_type": "markdown",
      "metadata": {
        "id": "Xv2DqWQSYTpo"
      },
      "source": [
        "---\n",
        "### ** >>> Exercise 5 (Take home): **  \n",
        "\n",
        "How do the results from the Naive Bayes model and the Decision Tree model compare? How do you interpret these differences? Use the theoretical background covered in class to try and explain these differences."
      ]
    },
    {
      "cell_type": "markdown",
      "metadata": {
        "id": "bCez4_uQJQY5"
      },
      "source": [
        "## Answer\n",
        "### Comparing Decision Tree and Naive Bayes for Emotion Classification\n",
        "\n",
        "Based on the results, Decision Tree model outperforms the Naive Bayes model in terms of training accuracy (0.99 vs. 0.79) but performs worse in testing accuracy (0.68 vs. 0.70). This suggests that the Decision Tree model overfits the training data and fails to generalize well to unseen data, while the Naive Bayes model, despite lower training accuracy, achieves a more stable performance on unseen data.\n",
        "\n",
        "### Training Accuracy:\n",
        "Decision Tree: Achieves a higher training accuracy, indicating it might have learned the patterns in the training data very well.\n",
        "Naive Bayes: Lower training accuracy suggests it might not have captured all the subtle differences of the training data.\n",
        "\n",
        "### Testing Accuracy:\n",
        "Decision Tree: Significantly lower testing accuracy implies overfitting, where the model memorizes the training data but fails to generalize to unseen data.\n",
        "Naive Bayes: Slightly lower but stable testing accuracy suggests better generalization to unseen data.\n",
        "\n",
        "### Confusion Matrix:\n",
        "Decision Tree: Shows higher misclassifications between similar emotions like anger-fear and joy-sadness, confirming overfitting and sensitivity to specific training data patterns.\n",
        "Naive Bayes: Shows a more balanced distribution of misclassifications across all emotions, suggesting better overall generalization to unseen data.\n",
        "\n",
        "### Decision Tree:\n",
        "Learns a hierarchical tree structure by splitting the data based on features, potentially capturing complex relationships but prone to overfitting if the training data is not representative of the overall population.\n",
        "### Naive Bayes:\n",
        "Makes predictions based on independent features and their probabilities, potentially being less sensitive to specific training data patterns but might struggle with complex relationships between features.\n",
        "\n",
        "### Decision Tree:\n",
        "#### Pros:\n",
        "High training accuracy, good for capturing specific data patterns.\n",
        "Interpretable model, easy to understand the decision-making process.\n",
        "#### Cons:\n",
        "Prone to overfitting, sensitive to training data specifics.\n",
        "Can be computationally expensive for large datasets.\n",
        "\n",
        "### Naive Bayes:\n",
        "#### Pros:\n",
        "Less prone to overfitting, generalizes better to unseen data.\n",
        "Computationally efficient for large datasets.\n",
        "#### Cons:\n",
        "Lower training accuracy, might not capture complex relationships.\n",
        "Less transparent than decision-making process.\n",
        "\n",
        "### Differences:\n",
        "The Decision Tree's high training accuracy but low testing accuracy suggests it learned the training data too closely, becoming susceptible to overfitting.\n",
        "The Naive Bayes model, despite lower training accuracy, shows a more balanced distribution of misclassifications across all emotions, indicating better generalization to unseen data.\n",
        "\n",
        "To conclude, choosing the best model depends on our priorities. If high training accuracy and interpretability are crucial, the Decision Tree might be preferable, but it might have potential overfitting risks. Naive Bayes model might be a better choice for better generalization and performance on unseen data, even with slightly lower training accuracy.\n",
        "We can consider applying additional techniques like regularization to reduce overfitting for the Decision Tree and exploring variations of the Naive Bayes model for potentially better performance."
      ]
    },
    {
      "cell_type": "markdown",
      "metadata": {
        "id": "ehlJ60lhYTpo"
      },
      "source": [
        "---"
      ]
    },
    {
      "cell_type": "markdown",
      "metadata": {
        "id": "79F_DaW-YTpo"
      },
      "source": [
        "## 5. Other things you can try"
      ]
    },
    {
      "cell_type": "markdown",
      "metadata": {
        "id": "_oeqpRu6YTpo"
      },
      "source": [
        "Thus, there are several things you can try that will affect your results. In order to yield better results, you can experiment by:\n",
        "- Trying different features (Feature engineering)e.g Word2Vec, PCA, LDA, FastText, Clustering\n",
        "- Trying different models\n",
        "- Analyzing your results and interpret them to improve your feature engineering/model building process\n",
        "- Iterate through the steps above until finding a satisfying result\n",
        "\n",
        "Remember that you should also consider the task at hand and the model you'll feed the data to."
      ]
    },
    {
      "cell_type": "code",
      "source": [
        "from sklearn.feature_extraction.text import TfidfVectorizer\n",
        "import re, string\n",
        "\n",
        "def preprocess_text(text):\n",
        "    # Lowercasing\n",
        "    text = text.lower()\n",
        "\n",
        "    # Remove special characters\n",
        "    text = re.sub(r'[#*!]', '', text)\n",
        "\n",
        "    # Remove punctuation\n",
        "    text = text.translate(str.maketrans('', '', string.punctuation))\n",
        "\n",
        "    # Tokenization\n",
        "    tokens = nltk.word_tokenize(text)\n",
        "\n",
        "    # Remove stopwords and short words\n",
        "    stop_words = set(stopwords.words('english'))\n",
        "    tokens = [word for word in tokens if word not in stop_words and len(word) > 2]\n",
        "\n",
        "    # Lemmatization\n",
        "    lemmatizer = WordNetLemmatizer()\n",
        "    tokens = [lemmatizer.lemmatize(word) for word in tokens]\n",
        "\n",
        "    return ' '.join(tokens)\n",
        "\n",
        "# Apply preprocessing to each document\n",
        "preprocessed_text = [preprocess_text(doc) for doc in train_df['text']]\n",
        "\n",
        "# Build vectorizer (tfidf) with custom preprocessor\n",
        "TFIDF500_vectorizer = TfidfVectorizer(max_features=500, preprocessor=preprocess_text)\n",
        "\n",
        "# Apply vectorizer to preprocessed data\n",
        "TFIDF500_vectorizer.fit(preprocessed_text)\n",
        "train_data_TFIDF_features_500 = TFIDF500_vectorizer.transform(preprocessed_text)\n",
        "\n",
        "# Check features\n",
        "TFIDF500_vectorizer.get_feature_names_out()[100:110]\n"
      ],
      "metadata": {
        "colab": {
          "base_uri": "https://localhost:8080/"
        },
        "id": "8gDGsIl4qTmO",
        "outputId": "7df8071d-d204-44a1-9631-b6af07bc7944"
      },
      "execution_count": 103,
      "outputs": [
        {
          "output_type": "stream",
          "name": "stderr",
          "text": [
            "/usr/local/lib/python3.10/dist-packages/ipykernel/ipkernel.py:283: DeprecationWarning:\n",
            "\n",
            "`should_run_async` will not call `transform_cell` automatically in the future. Please pass the result to `transformed_cell` argument and any exception that happen during thetransform in `preprocessing_exc_tuple` in IPython 7.17 and above.\n",
            "\n"
          ]
        },
        {
          "output_type": "execute_result",
          "data": {
            "text/plain": [
              "array(['done', 'dont', 'dreadful', 'dream', 'drop', 'dude', 'dull', 'eat',\n",
              "       'either', 'elated'], dtype=object)"
            ]
          },
          "metadata": {},
          "execution_count": 103
        }
      ]
    },
    {
      "cell_type": "code",
      "source": [
        "#PCA\n",
        "from sklearn.decomposition import PCA\n",
        "tfidf_PCA = PCA(n_components = 8).fit_transform(train_data_TFIDF_features_500.toarray())"
      ],
      "metadata": {
        "id": "yJNvha85qTjr",
        "colab": {
          "base_uri": "https://localhost:8080/"
        },
        "outputId": "81cb308a-7849-4045-b642-5a4fd2d909ef"
      },
      "execution_count": 104,
      "outputs": [
        {
          "output_type": "stream",
          "name": "stderr",
          "text": [
            "/usr/local/lib/python3.10/dist-packages/ipykernel/ipkernel.py:283: DeprecationWarning:\n",
            "\n",
            "`should_run_async` will not call `transform_cell` automatically in the future. Please pass the result to `transformed_cell` argument and any exception that happen during thetransform in `preprocessing_exc_tuple` in IPython 7.17 and above.\n",
            "\n"
          ]
        }
      ]
    },
    {
      "cell_type": "code",
      "source": [
        "import matplotlib.pyplot as plt\n",
        "\n",
        "color = ['crimson', 'deepskyblue', 'limegreen', 'darkviolet', 'yellow', 'mediumblue', 'gold', 'greenyellow']\n",
        "\n",
        "# plot\n",
        "fig = plt.figure(figsize=(25, 10))\n",
        "ax = fig.subplots()\n",
        "\n",
        "# Create an empty list to store legend handles and labels\n",
        "legend_handles = []\n",
        "\n",
        "for c, category in zip(color, categories):\n",
        "    xs = tfidf_PCA[train_df['emotion'] == category].T[0]\n",
        "    ys = tfidf_PCA[train_df['emotion'] == category].T[1]\n",
        "\n",
        "    # Scatter plot for each category with specified color\n",
        "    scatter = ax.scatter(xs, ys, c=c, marker='o', label=category)\n",
        "\n",
        "    # Append the scatter plot handle and label to the legend_handles list\n",
        "    legend_handles.append(scatter)\n",
        "\n",
        "ax.grid(color='gray', linestyle=':', linewidth=2, alpha=0.2)\n",
        "\n",
        "# Add legend using the legend_handles list\n",
        "ax.legend(handles=legend_handles, title='Categories', loc='upper right')\n",
        "\n",
        "# Show the plot\n",
        "plt.show()\n"
      ],
      "metadata": {
        "colab": {
          "base_uri": "https://localhost:8080/",
          "height": 612
        },
        "id": "P43HyHHGqTaR",
        "outputId": "18fd93fa-64a0-40f0-f4bd-1a363df2539f"
      },
      "execution_count": 105,
      "outputs": [
        {
          "output_type": "stream",
          "name": "stderr",
          "text": [
            "/usr/local/lib/python3.10/dist-packages/ipykernel/ipkernel.py:283: DeprecationWarning:\n",
            "\n",
            "`should_run_async` will not call `transform_cell` automatically in the future. Please pass the result to `transformed_cell` argument and any exception that happen during thetransform in `preprocessing_exc_tuple` in IPython 7.17 and above.\n",
            "\n"
          ]
        },
        {
          "output_type": "display_data",
          "data": {
            "text/plain": [
              "<Figure size 2500x1000 with 1 Axes>"
            ],
            "image/png": "[encoded data removed]"
          },
          "metadata": {}
        }
      ]
    },
    {
      "cell_type": "markdown",
      "source": [
        "Scatter plot visualizes how the text data points are distributed in this reduced 2D space using PCA, with different colors representing different categories or emotions."
      ],
      "metadata": {
        "id": "vJG344sRlKFs"
      }
    },
    {
      "cell_type": "code",
      "source": [
        "#LDA\n",
        "from sklearn.decomposition import LatentDirichletAllocation\n",
        "#tfidf_LDA indicating the probability of each document belonging to each topic.\n",
        "#LDA can be used to analyze the main topics present in a collection of documents.\n",
        "\n",
        "#n_components = 30 : 30 topics expect to find in documents\n",
        "LDA = LatentDirichletAllocation(n_components = 30, random_state = 42)\n",
        "tfidf_LDA = LDA.fit_transform(train_data_TFIDF_features_500.toarray())\n"
      ],
      "metadata": {
        "id": "CY0BuDkWsKtc",
        "colab": {
          "base_uri": "https://localhost:8080/"
        },
        "outputId": "8751b0ef-ac4e-4663-e8d5-f0a3840aa2b5"
      },
      "execution_count": 106,
      "outputs": [
        {
          "output_type": "stream",
          "name": "stderr",
          "text": [
            "/usr/local/lib/python3.10/dist-packages/ipykernel/ipkernel.py:283: DeprecationWarning:\n",
            "\n",
            "`should_run_async` will not call `transform_cell` automatically in the future. Please pass the result to `transformed_cell` argument and any exception that happen during thetransform in `preprocessing_exc_tuple` in IPython 7.17 and above.\n",
            "\n"
          ]
        }
      ]
    },
    {
      "cell_type": "code",
      "source": [
        "def display_topics(model, feature_names, no_top_words):\n",
        "    for topic_idx, topic in enumerate(model.components_):\n",
        "        print(f\"Topic {topic_idx}:\")\n",
        "        print(\" \".join([feature_names[i] for i in topic.argsort()[:-no_top_words - 1:-1]]))\n",
        "\n",
        "no_top_words = 10  # Number of top words to display for each topic\n",
        "tfidf_feature_names = TFIDF500_vectorizer.get_feature_names_out()\n",
        "display_topics(LDA, tfidf_feature_names, no_top_words)\n",
        "#examine which topics are most include in a document based on the tfidf_LDA matrix"
      ],
      "metadata": {
        "colab": {
          "base_uri": "https://localhost:8080/"
        },
        "id": "dA0Eeq6wlkU1",
        "outputId": "0b1cfc9c-080f-4487-8a20-ceafd66b96dd"
      },
      "execution_count": 107,
      "outputs": [
        {
          "output_type": "stream",
          "name": "stdout",
          "text": [
            "Topic 0:\n",
            "lost feel fan never home revenge snap scare kind like\n",
            "Topic 1:\n",
            "see god get work keep rejoice horrific fun late let\n",
            "Topic 2:\n",
            "terrorism terrible wan put believe cant also best call sting\n",
            "Topic 3:\n",
            "dreadful better fuming fuck tell twitter sure season hour excited\n",
            "Topic 4:\n",
            "anger day hate game morning whole delight outrage wrath breezy\n",
            "Topic 5:\n",
            "know man didnt sober new worry help pleasing wow raging\n",
            "Topic 6:\n",
            "rage nervous little getting want contact race let police really\n",
            "Topic 7:\n",
            "pout sad stop show half friend please support issue boiling\n",
            "Topic 8:\n",
            "fear afraid bad thats offended shy lot change damn order\n",
            "Topic 9:\n",
            "lively watch amazing broadcast musically bully hell grim depression future\n",
            "Topic 10:\n",
            "serious heart long despair everything amp side need honestly song\n",
            "Topic 11:\n",
            "today right away place dull rejoicing either whats looking sunk\n",
            "Topic 12:\n",
            "glee week alarm pine gone tired lord big hear bit\n",
            "Topic 13:\n",
            "shocking good something woman laughter hearty actually success frown anxiety\n",
            "Topic 14:\n",
            "panic sadness feeling guy still car water yet sparkling wake\n",
            "Topic 15:\n",
            "ill take stayed fury talking bright back kid family room\n",
            "Topic 16:\n",
            "start angry thing smiling good one black must weary truth\n",
            "Topic 17:\n",
            "happy unhappy way doesnt service customer isnt thought fact wasnt\n",
            "Topic 18:\n",
            "fucking could next animated cheering wish madden month boy snapchat\n",
            "Topic 19:\n",
            "nightmare terror worst ever team said would ive problem pakistan\n",
            "Topic 20:\n",
            "horrible optimism play offend playful sorry time video head shes\n",
            "Topic 21:\n",
            "bitter depressing cry thanks news hand saying shaking hillaryclinton realdonaldtrump\n",
            "Topic 22:\n",
            "smile blue youre dark love thank name awe music may\n",
            "Topic 23:\n",
            "lol well tonight trump cheery hilarity attack eat offense sick\n",
            "Topic 24:\n",
            "look got like gbbo job follow girl elated maybe tomorrow\n",
            "Topic 25:\n",
            "word story trying playing though exhilarating movie chirp break found\n",
            "Topic 26:\n",
            "year everyone someone make cheer live since give funny gon\n",
            "Topic 27:\n",
            "horror wait great furious shake face cant anyone phone talk\n",
            "Topic 28:\n",
            "every hilarious awful shit say burning theyre relentless part left\n",
            "Topic 29:\n",
            "people night sadly made gloomy burst irritate many care age\n"
          ]
        },
        {
          "output_type": "stream",
          "name": "stderr",
          "text": [
            "/usr/local/lib/python3.10/dist-packages/ipykernel/ipkernel.py:283: DeprecationWarning:\n",
            "\n",
            "`should_run_async` will not call `transform_cell` automatically in the future. Please pass the result to `transformed_cell` argument and any exception that happen during thetransform in `preprocessing_exc_tuple` in IPython 7.17 and above.\n",
            "\n"
          ]
        }
      ]
    },
    {
      "cell_type": "code",
      "source": [
        "import pandas as pd\n",
        "import seaborn as sns\n",
        "import matplotlib.pyplot as plt\n",
        "import re\n",
        "import string\n",
        "import nltk\n",
        "from nltk.corpus import stopwords\n",
        "from nltk.stem import WordNetLemmatizer\n",
        "from sklearn.feature_extraction.text import TfidfVectorizer\n",
        "\n",
        "\n",
        "def plot_top_words(model, feature_names, no_top_words, no_top_topics):\n",
        "    for topic_idx, topic in enumerate(model.components_):\n",
        "        if topic_idx < no_top_topics:\n",
        "            plt.figure(figsize=(10, 5))\n",
        "            sorted_indices = topic.argsort()[:-no_top_words - 1:-1]\n",
        "            plt.barh([feature_names[i] for i in sorted_indices], topic[sorted_indices])\n",
        "            plt.title(f\"Topic {topic_idx}\")\n",
        "            plt.gca().invert_yaxis()\n",
        "            plt.show()\n",
        "\n",
        "no_top_words = 10\n",
        "no_top_topics = 5  # Set this to the number of topics you want to visualize\n",
        "plot_top_words(LDA, tfidf_feature_names, no_top_words, no_top_topics)\n",
        "\n",
        "#### visualize the top words in each topic generated by a Latent Dirichlet Allocation (LDA)  ###"
      ],
      "metadata": {
        "colab": {
          "base_uri": "https://localhost:8080/",
          "height": 1000
        },
        "id": "P3YLcO16yafA",
        "outputId": "65ba0ba5-d3bf-4606-94a1-eb6d542b6843"
      },
      "execution_count": 108,
      "outputs": [
        {
          "output_type": "stream",
          "name": "stderr",
          "text": [
            "/usr/local/lib/python3.10/dist-packages/ipykernel/ipkernel.py:283: DeprecationWarning:\n",
            "\n",
            "`should_run_async` will not call `transform_cell` automatically in the future. Please pass the result to `transformed_cell` argument and any exception that happen during thetransform in `preprocessing_exc_tuple` in IPython 7.17 and above.\n",
            "\n"
          ]
        },
        {
          "output_type": "display_data",
          "data": {
            "text/plain": [
              "<Figure size 1000x500 with 1 Axes>"
            ],
            "image/png": "[encoded data removed]"
          },
          "metadata": {}
        },
        {
          "output_type": "display_data",
          "data": {
            "text/plain": [
              "<Figure size 1000x500 with 1 Axes>"
            ],
            "image/png": "[encoded data removed]"
          },
          "metadata": {}
        },
        {
          "output_type": "display_data",
          "data": {
            "text/plain": [
              "<Figure size 1000x500 with 1 Axes>"
            ],
            "image/png": "[encoded data removed]"
          },
          "metadata": {}
        },
        {
          "output_type": "display_data",
          "data": {
            "text/plain": [
              "<Figure size 1000x500 with 1 Axes>"
            ],
            "image/png": "[encoded data removed]"
          },
          "metadata": {}
        },
        {
          "output_type": "display_data",
          "data": {
            "text/plain": [
              "<Figure size 1000x500 with 1 Axes>"
            ],
            "image/png": "[encoded data removed]"
          },
          "metadata": {}
        }
      ]
    },
    {
      "cell_type": "code",
      "source": [
        "#using glove to find words most similar to the word 'happy'\n",
        "\n",
        "import gensim.downloader as api\n",
        "\n",
        "## If you see `SSL: CERTIFICATE_VERIFY_FAILED` error, use this:\n",
        "import ssl\n",
        "import urllib.request\n",
        "ssl._create_default_https_context = ssl._create_unverified_context\n",
        "\n",
        "glove_twitter_25_model = api.load(\"glove-twitter-25\")\n",
        "print('load ok')\n",
        "\n",
        "glove_twitter_25_model.most_similar('happy', topn=10)"
      ],
      "metadata": {
        "colab": {
          "base_uri": "https://localhost:8080/"
        },
        "id": "LOi24tx7sKg8",
        "outputId": "6e8e3f74-de46-4df4-ac46-d8709acb89ff"
      },
      "execution_count": 109,
      "outputs": [
        {
          "output_type": "stream",
          "name": "stderr",
          "text": [
            "/usr/local/lib/python3.10/dist-packages/ipykernel/ipkernel.py:283: DeprecationWarning:\n",
            "\n",
            "`should_run_async` will not call `transform_cell` automatically in the future. Please pass the result to `transformed_cell` argument and any exception that happen during thetransform in `preprocessing_exc_tuple` in IPython 7.17 and above.\n",
            "\n"
          ]
        },
        {
          "output_type": "stream",
          "name": "stdout",
          "text": [
            "[==================================================] 100.0% 104.8/104.8MB downloaded\n",
            "load ok\n"
          ]
        },
        {
          "output_type": "execute_result",
          "data": {
            "text/plain": [
              "[('birthday', 0.9577818512916565),\n",
              " ('thank', 0.937666654586792),\n",
              " ('welcome', 0.93361496925354),\n",
              " ('love', 0.9176183342933655),\n",
              " ('miss', 0.9164500832557678),\n",
              " ('hello', 0.9158351421356201),\n",
              " ('thanks', 0.915008544921875),\n",
              " ('merry', 0.9053249359130859),\n",
              " ('bless', 0.902732253074646),\n",
              " ('wish', 0.9013164043426514)]"
            ]
          },
          "metadata": {},
          "execution_count": 109
        }
      ]
    },
    {
      "cell_type": "code",
      "source": [],
      "metadata": {
        "id": "W1NcaROxqTSP"
      },
      "execution_count": null,
      "outputs": []
    },
    {
      "cell_type": "code",
      "source": [],
      "metadata": {
        "id": "VXyZEG09qTO0"
      },
      "execution_count": null,
      "outputs": []
    },
    {
      "cell_type": "code",
      "source": [],
      "metadata": {
        "id": "a1UuhFeEqTMm"
      },
      "execution_count": null,
      "outputs": []
    },
    {
      "cell_type": "code",
      "source": [],
      "metadata": {
        "id": "aBto-sr3qTJ8"
      },
      "execution_count": null,
      "outputs": []
    },
    {
      "cell_type": "code",
      "source": [],
      "metadata": {
        "id": "3xpbw_PQqTC-"
      },
      "execution_count": null,
      "outputs": []
    },
    {
      "cell_type": "markdown",
      "metadata": {
        "id": "fiGUSmPLYTpo"
      },
      "source": [
        "---\n",
        "## 6. Deep Learning\n",
        "\n",
        "We use [Keras](https://keras.io/) to be our deep learning framwork, and follow the [Model (functional API)](https://keras.io/models/model/) to build a Deep Neural Network (DNN) model. Keras runs with Tensorflow in the backend. It's a nice abstraction to start working with NN models.\n",
        "\n",
        "Because Deep Learning is a 1-semester course, we can't talk about each detail about it in the lab session. Here, we only provide a simple template about how to build & run a DL model successfully. You can follow this template to design your model.\n",
        "\n",
        "We will begin by building a fully connected network, which looks like this:"
      ]
    },
    {
      "cell_type": "markdown",
      "metadata": {
        "id": "1nB0BTq2YTpo"
      },
      "source": [
        "![Fully Connected Network](pics/pic1.png)\n",
        "\n",
        "(source: https://github.com/drewnoff/spark-notebook-ml-labs/tree/master/labs/DLFramework)\n"
      ]
    },
    {
      "cell_type": "markdown",
      "metadata": {
        "id": "-EtVRGhNYTpo"
      },
      "source": [
        "### 6.1 Prepare data (X, y)"
      ]
    },
    {
      "cell_type": "code",
      "execution_count": 172,
      "metadata": {
        "colab": {
          "base_uri": "https://localhost:8080/"
        },
        "id": "4mIdg2D6YTpo",
        "outputId": "a15334fb-d63f-40ba-a2e4-da4041853950"
      },
      "outputs": [
        {
          "output_type": "stream",
          "name": "stderr",
          "text": [
            "/usr/local/lib/python3.10/dist-packages/ipykernel/ipkernel.py:283: DeprecationWarning:\n",
            "\n",
            "`should_run_async` will not call `transform_cell` automatically in the future. Please pass the result to `transformed_cell` argument and any exception that happen during thetransform in `preprocessing_exc_tuple` in IPython 7.17 and above.\n",
            "\n"
          ]
        },
        {
          "output_type": "stream",
          "name": "stdout",
          "text": [
            "X_train.shape:  (3613, 500)\n",
            "y_train.shape:  (3613,)\n",
            "X_test.shape:  (347, 500)\n",
            "y_test.shape:  (347,)\n"
          ]
        }
      ],
      "source": [
        "import keras\n",
        "\n",
        "# standardize name (X, y)\n",
        "X_train = BOW_500.transform(train_df['text'])\n",
        "y_train = train_df['emotion']\n",
        "\n",
        "X_test = BOW_500.transform(test_df['text'])\n",
        "y_test = test_df['emotion']\n",
        "\n",
        "## check dimension is a good habbit\n",
        "print('X_train.shape: ', X_train.shape)\n",
        "print('y_train.shape: ', y_train.shape)\n",
        "print('X_test.shape: ', X_test.shape)\n",
        "print('y_test.shape: ', y_test.shape)"
      ]
    },
    {
      "cell_type": "markdown",
      "metadata": {
        "id": "iBZZedZ2YTpo"
      },
      "source": [
        "### 6.2 Deal with categorical label (y)\n",
        "\n",
        "Rather than put your label `train_df['emotion']` directly into a model, we have to process these categorical (or say nominal) label by ourselves.\n",
        "\n",
        "Here, we use the basic method [one-hot encoding](https://en.wikipedia.org/wiki/One-hot) to transform our categorical  labels to numerical ones.\n"
      ]
    },
    {
      "cell_type": "code",
      "execution_count": 136,
      "metadata": {
        "id": "7ry9PaemJQY6",
        "colab": {
          "base_uri": "https://localhost:8080/"
        },
        "outputId": "bcb8fd23-15d0-4822-965c-7272d18ff631"
      },
      "outputs": [
        {
          "output_type": "stream",
          "name": "stderr",
          "text": [
            "/usr/local/lib/python3.10/dist-packages/ipykernel/ipkernel.py:283: DeprecationWarning:\n",
            "\n",
            "`should_run_async` will not call `transform_cell` automatically in the future. Please pass the result to `transformed_cell` argument and any exception that happen during thetransform in `preprocessing_exc_tuple` in IPython 7.17 and above.\n",
            "\n"
          ]
        }
      ],
      "source": [
        "import tensorflow as tf\n",
        "from tensorflow import keras"
      ]
    },
    {
      "cell_type": "code",
      "execution_count": 173,
      "metadata": {
        "colab": {
          "base_uri": "https://localhost:8080/"
        },
        "id": "SU95MCsSYTpo",
        "outputId": "994b0ed8-10e3-4b3e-c86f-a1cfd88b6a12"
      },
      "outputs": [
        {
          "output_type": "stream",
          "name": "stdout",
          "text": [
            "check label:  ['anger' 'fear' 'joy' 'sadness']\n",
            "\n",
            "## Before convert\n",
            "y_train[0:4]:\n",
            " 2319      joy\n",
            "1781     fear\n",
            "389     anger\n",
            "1085     fear\n",
            "Name: emotion, dtype: object\n",
            "\n",
            "y_train.shape:  (3613,)\n",
            "y_test.shape:  (347,)\n",
            "\n",
            "\n",
            "## After convert\n",
            "y_train[0:4]:\n",
            " [[0. 0. 1. 0.]\n",
            " [0. 1. 0. 0.]\n",
            " [1. 0. 0. 0.]\n",
            " [0. 1. 0. 0.]]\n",
            "\n",
            "y_train.shape:  (3613, 4)\n",
            "y_test.shape:  (347, 4)\n"
          ]
        },
        {
          "output_type": "stream",
          "name": "stderr",
          "text": [
            "/usr/local/lib/python3.10/dist-packages/ipykernel/ipkernel.py:283: DeprecationWarning:\n",
            "\n",
            "`should_run_async` will not call `transform_cell` automatically in the future. Please pass the result to `transformed_cell` argument and any exception that happen during thetransform in `preprocessing_exc_tuple` in IPython 7.17 and above.\n",
            "\n"
          ]
        }
      ],
      "source": [
        "## deal with label (string -> one-hot)\n",
        "\n",
        "from sklearn.preprocessing import LabelEncoder\n",
        "\n",
        "label_encoder = LabelEncoder()\n",
        "label_encoder.fit(y_train)\n",
        "print('check label: ', label_encoder.classes_)\n",
        "print('\\n## Before convert')\n",
        "print('y_train[0:4]:\\n', y_train[0:4])\n",
        "print('\\ny_train.shape: ', y_train.shape)\n",
        "print('y_test.shape: ', y_test.shape)\n",
        "\n",
        "def label_encode(le, labels):\n",
        "    enc = le.transform(labels)\n",
        "    return keras.utils.to_categorical(enc)\n",
        "\n",
        "def label_decode(le, one_hot_label):\n",
        "    dec = np.argmax(one_hot_label, axis=1)\n",
        "    return le.inverse_transform(dec)\n",
        "\n",
        "y_train = label_encode(label_encoder, y_train)\n",
        "y_test = label_encode(label_encoder, y_test)\n",
        "\n",
        "print('\\n\\n## After convert')\n",
        "print('y_train[0:4]:\\n', y_train[0:4])\n",
        "print('\\ny_train.shape: ', y_train.shape)\n",
        "print('y_test.shape: ', y_test.shape)"
      ]
    },
    {
      "cell_type": "markdown",
      "metadata": {
        "id": "W4bqEcMbYTpo"
      },
      "source": [
        "### 6.3 Build model"
      ]
    },
    {
      "cell_type": "code",
      "execution_count": 175,
      "metadata": {
        "colab": {
          "base_uri": "https://localhost:8080/"
        },
        "id": "6sA7cx-oYTpo",
        "outputId": "184769bc-f1a8-46ae-debd-0971e50fbe36"
      },
      "outputs": [
        {
          "output_type": "stream",
          "name": "stdout",
          "text": [
            "input_shape:  500\n",
            "output_shape:  4\n"
          ]
        },
        {
          "output_type": "stream",
          "name": "stderr",
          "text": [
            "/usr/local/lib/python3.10/dist-packages/ipykernel/ipkernel.py:283: DeprecationWarning:\n",
            "\n",
            "`should_run_async` will not call `transform_cell` automatically in the future. Please pass the result to `transformed_cell` argument and any exception that happen during thetransform in `preprocessing_exc_tuple` in IPython 7.17 and above.\n",
            "\n"
          ]
        }
      ],
      "source": [
        "# I/O check\n",
        "input_shape = X_train.shape[1]\n",
        "print('input_shape: ', input_shape)\n",
        "\n",
        "output_shape = len(label_encoder.classes_)\n",
        "print('output_shape: ', output_shape)"
      ]
    },
    {
      "cell_type": "markdown",
      "metadata": {
        "id": "8c-uWuloYTpo"
      },
      "source": [
        "![Imgur](/content/drive/MyDrive/DM/DM2023-Lab2-Master/pics/pic2.png)"
      ]
    },
    {
      "cell_type": "code",
      "execution_count": 176,
      "metadata": {
        "colab": {
          "base_uri": "https://localhost:8080/"
        },
        "id": "jTeBWTvgYTpo",
        "outputId": "1b4ea453-7da8-4ace-da02-1752a80b7063"
      },
      "outputs": [
        {
          "output_type": "stream",
          "name": "stdout",
          "text": [
            "Model: \"model\"\n"
          ]
        },
        {
          "output_type": "stream",
          "name": "stderr",
          "text": [
            "/usr/local/lib/python3.10/dist-packages/ipykernel/ipkernel.py:283: DeprecationWarning:\n",
            "\n",
            "`should_run_async` will not call `transform_cell` automatically in the future. Please pass the result to `transformed_cell` argument and any exception that happen during thetransform in `preprocessing_exc_tuple` in IPython 7.17 and above.\n",
            "\n"
          ]
        },
        {
          "output_type": "stream",
          "name": "stdout",
          "text": [
            "_________________________________________________________________\n",
            " Layer (type)                Output Shape              Param #   \n",
            "=================================================================\n",
            " input_1 (InputLayer)        [(None, 500)]             0         \n",
            "                                                                 \n",
            " dense (Dense)               (None, 64)                32064     \n",
            "                                                                 \n",
            " re_lu (ReLU)                (None, 64)                0         \n",
            "                                                                 \n",
            " dense_1 (Dense)             (None, 64)                4160      \n",
            "                                                                 \n",
            " re_lu_1 (ReLU)              (None, 64)                0         \n",
            "                                                                 \n",
            " dense_2 (Dense)             (None, 4)                 260       \n",
            "                                                                 \n",
            " softmax (Softmax)           (None, 4)                 0         \n",
            "                                                                 \n",
            "=================================================================\n",
            "Total params: 36484 (142.52 KB)\n",
            "Trainable params: 36484 (142.52 KB)\n",
            "Non-trainable params: 0 (0.00 Byte)\n",
            "_________________________________________________________________\n"
          ]
        }
      ],
      "source": [
        "from keras.models import Model\n",
        "from keras.layers import Input, Dense\n",
        "from keras.layers import ReLU, Softmax\n",
        "\n",
        "# input layer\n",
        "model_input = Input(shape=(input_shape, ))  # 500\n",
        "X = model_input\n",
        "\n",
        "# 1st hidden layer\n",
        "X_W1 = Dense(units=64)(X)  # 64\n",
        "H1 = ReLU()(X_W1)\n",
        "\n",
        "# 2nd hidden layer\n",
        "H1_W2 = Dense(units=64)(H1)  # 64\n",
        "H2 = ReLU()(H1_W2)\n",
        "\n",
        "# output layer\n",
        "H2_W3 = Dense(units=output_shape)(H2)  # 4\n",
        "H3 = Softmax()(H2_W3)\n",
        "\n",
        "model_output = H3\n",
        "\n",
        "# create model\n",
        "model = Model(inputs=[model_input], outputs=[model_output])\n",
        "\n",
        "# loss function & optimizer\n",
        "model.compile(optimizer='adam',\n",
        "              loss='categorical_crossentropy',\n",
        "              metrics=['accuracy'])\n",
        "\n",
        "# show model construction\n",
        "model.summary()"
      ]
    },
    {
      "cell_type": "markdown",
      "metadata": {
        "id": "nmTSDO2pYTpo"
      },
      "source": [
        "### 6.4 Train"
      ]
    },
    {
      "cell_type": "code",
      "execution_count": 177,
      "metadata": {
        "colab": {
          "base_uri": "https://localhost:8080/"
        },
        "id": "Kl374LYqYTpo",
        "outputId": "e8c9524d-c632-4d86-86bb-405bc7db286e"
      },
      "outputs": [
        {
          "output_type": "stream",
          "name": "stdout",
          "text": [
            "Epoch 1/25\n"
          ]
        },
        {
          "output_type": "stream",
          "name": "stderr",
          "text": [
            "/usr/local/lib/python3.10/dist-packages/ipykernel/ipkernel.py:283: DeprecationWarning:\n",
            "\n",
            "`should_run_async` will not call `transform_cell` automatically in the future. Please pass the result to `transformed_cell` argument and any exception that happen during thetransform in `preprocessing_exc_tuple` in IPython 7.17 and above.\n",
            "\n"
          ]
        },
        {
          "output_type": "stream",
          "name": "stdout",
          "text": [
            "113/113 [==============================] - 3s 12ms/step - loss: 1.3323 - accuracy: 0.3462 - val_loss: 1.2869 - val_accuracy: 0.4496\n",
            "Epoch 2/25\n",
            "113/113 [==============================] - 0s 3ms/step - loss: 0.9938 - accuracy: 0.6410 - val_loss: 0.9379 - val_accuracy: 0.6542\n",
            "Epoch 3/25\n",
            "113/113 [==============================] - 0s 3ms/step - loss: 0.5900 - accuracy: 0.7908 - val_loss: 0.7779 - val_accuracy: 0.7089\n",
            "Epoch 4/25\n",
            "113/113 [==============================] - 0s 3ms/step - loss: 0.4217 - accuracy: 0.8472 - val_loss: 0.7790 - val_accuracy: 0.6974\n",
            "Epoch 5/25\n",
            "113/113 [==============================] - 0s 2ms/step - loss: 0.3364 - accuracy: 0.8821 - val_loss: 0.7924 - val_accuracy: 0.7032\n",
            "Epoch 6/25\n",
            "113/113 [==============================] - 0s 3ms/step - loss: 0.2797 - accuracy: 0.9037 - val_loss: 0.8340 - val_accuracy: 0.6772\n",
            "Epoch 7/25\n",
            "113/113 [==============================] - 1s 4ms/step - loss: 0.2278 - accuracy: 0.9250 - val_loss: 0.8856 - val_accuracy: 0.6859\n",
            "Epoch 8/25\n",
            "113/113 [==============================] - 0s 4ms/step - loss: 0.1904 - accuracy: 0.9399 - val_loss: 0.9844 - val_accuracy: 0.6888\n",
            "Epoch 9/25\n",
            "113/113 [==============================] - 1s 4ms/step - loss: 0.1693 - accuracy: 0.9463 - val_loss: 0.9907 - val_accuracy: 0.6830\n",
            "Epoch 10/25\n",
            "113/113 [==============================] - 1s 4ms/step - loss: 0.1431 - accuracy: 0.9577 - val_loss: 1.0222 - val_accuracy: 0.7118\n",
            "Epoch 11/25\n",
            "113/113 [==============================] - 0s 4ms/step - loss: 0.1260 - accuracy: 0.9626 - val_loss: 1.0874 - val_accuracy: 0.6859\n",
            "Epoch 12/25\n",
            "113/113 [==============================] - 1s 4ms/step - loss: 0.1108 - accuracy: 0.9640 - val_loss: 1.1371 - val_accuracy: 0.7003\n",
            "Epoch 13/25\n",
            "113/113 [==============================] - 0s 4ms/step - loss: 0.1052 - accuracy: 0.9665 - val_loss: 1.1775 - val_accuracy: 0.6801\n",
            "Epoch 14/25\n",
            "113/113 [==============================] - 1s 4ms/step - loss: 0.0987 - accuracy: 0.9701 - val_loss: 1.2307 - val_accuracy: 0.6628\n",
            "Epoch 15/25\n",
            "113/113 [==============================] - 0s 4ms/step - loss: 0.0869 - accuracy: 0.9748 - val_loss: 1.2492 - val_accuracy: 0.6715\n",
            "Epoch 16/25\n",
            "113/113 [==============================] - 0s 3ms/step - loss: 0.0847 - accuracy: 0.9732 - val_loss: 1.2964 - val_accuracy: 0.6772\n",
            "Epoch 17/25\n",
            "113/113 [==============================] - 0s 3ms/step - loss: 0.0807 - accuracy: 0.9754 - val_loss: 1.3141 - val_accuracy: 0.6830\n",
            "Epoch 18/25\n",
            "113/113 [==============================] - 0s 3ms/step - loss: 0.0807 - accuracy: 0.9748 - val_loss: 1.3328 - val_accuracy: 0.6801\n",
            "Epoch 19/25\n",
            "113/113 [==============================] - 0s 2ms/step - loss: 0.0744 - accuracy: 0.9762 - val_loss: 1.3719 - val_accuracy: 0.6859\n",
            "Epoch 20/25\n",
            "113/113 [==============================] - 0s 3ms/step - loss: 0.0708 - accuracy: 0.9740 - val_loss: 1.4219 - val_accuracy: 0.6744\n",
            "Epoch 21/25\n",
            "113/113 [==============================] - 0s 3ms/step - loss: 0.0664 - accuracy: 0.9773 - val_loss: 1.4522 - val_accuracy: 0.6888\n",
            "Epoch 22/25\n",
            "113/113 [==============================] - 0s 3ms/step - loss: 0.0601 - accuracy: 0.9781 - val_loss: 1.5004 - val_accuracy: 0.6916\n",
            "Epoch 23/25\n",
            "113/113 [==============================] - 0s 3ms/step - loss: 0.0626 - accuracy: 0.9768 - val_loss: 1.5198 - val_accuracy: 0.6715\n",
            "Epoch 24/25\n",
            "113/113 [==============================] - 0s 3ms/step - loss: 0.0601 - accuracy: 0.9770 - val_loss: 1.5279 - val_accuracy: 0.6859\n",
            "Epoch 25/25\n",
            "113/113 [==============================] - 0s 3ms/step - loss: 0.0597 - accuracy: 0.9773 - val_loss: 1.4963 - val_accuracy: 0.6744\n",
            "training finish\n"
          ]
        }
      ],
      "source": [
        "from keras.callbacks import CSVLogger\n",
        "\n",
        "csv_logger = CSVLogger(path+'logs/training_log.csv')\n",
        "\n",
        "# training setting\n",
        "epochs = 25\n",
        "batch_size = 32\n",
        "\n",
        "# training!\n",
        "history = model.fit(X_train, y_train,\n",
        "                    epochs=epochs,\n",
        "                    batch_size=batch_size,\n",
        "                    callbacks=[csv_logger],\n",
        "                    validation_data = (X_test, y_test))\n",
        "print('training finish')"
      ]
    },
    {
      "cell_type": "markdown",
      "metadata": {
        "id": "ip8RYsvSYTpo"
      },
      "source": [
        "### 6.5 Predict on testing data"
      ]
    },
    {
      "cell_type": "code",
      "execution_count": 178,
      "metadata": {
        "colab": {
          "base_uri": "https://localhost:8080/"
        },
        "id": "xdnLuBYBYTpo",
        "outputId": "398ae5e5-fafc-4713-9f53-6826293cb686"
      },
      "outputs": [
        {
          "output_type": "stream",
          "name": "stdout",
          "text": [
            "3/3 [==============================] - 0s 4ms/step\n"
          ]
        },
        {
          "output_type": "stream",
          "name": "stderr",
          "text": [
            "/usr/local/lib/python3.10/dist-packages/ipykernel/ipkernel.py:283: DeprecationWarning:\n",
            "\n",
            "`should_run_async` will not call `transform_cell` automatically in the future. Please pass the result to `transformed_cell` argument and any exception that happen during thetransform in `preprocessing_exc_tuple` in IPython 7.17 and above.\n",
            "\n"
          ]
        },
        {
          "output_type": "execute_result",
          "data": {
            "text/plain": [
              "array([[9.99999821e-01, 2.49029495e-11, 3.55461651e-08, 9.51654897e-08],\n",
              "       [1.16890613e-02, 5.36900386e-02, 1.85362773e-03, 9.32767272e-01],\n",
              "       [7.30080006e-04, 1.70529937e-08, 7.82770991e-01, 2.16498852e-01],\n",
              "       [2.02228082e-03, 8.59963620e-07, 9.97060955e-01, 9.15958954e-04],\n",
              "       [4.99334157e-01, 2.37414896e-01, 7.68971667e-02, 1.86353803e-01],\n",
              "       [8.64694733e-03, 8.17384869e-02, 1.09691005e-04, 9.09504890e-01],\n",
              "       [1.65680656e-04, 9.99416232e-01, 1.40030954e-06, 4.16616269e-04],\n",
              "       [6.76796306e-03, 9.24627721e-01, 7.76483770e-03, 6.08393028e-02],\n",
              "       [5.46039641e-01, 6.51459843e-02, 2.69399643e-01, 1.19414717e-01],\n",
              "       [9.09267055e-06, 9.33286250e-01, 6.66973963e-02, 7.09525693e-06]],\n",
              "      dtype=float32)"
            ]
          },
          "metadata": {},
          "execution_count": 178
        }
      ],
      "source": [
        "## predict\n",
        "pred_result = model.predict(X_test, batch_size=128)\n",
        "pred_result[:10]"
      ]
    },
    {
      "cell_type": "code",
      "execution_count": 179,
      "metadata": {
        "colab": {
          "base_uri": "https://localhost:8080/"
        },
        "id": "hSaXGEX-YTpo",
        "outputId": "ea06c07c-3e78-4539-dcf4-984781287264"
      },
      "outputs": [
        {
          "output_type": "stream",
          "name": "stdout",
          "text": [
            "['anger' 'sadness' 'joy' 'joy' 'anger' 'sadness' 'fear' 'fear' 'anger'\n",
            " 'fear']\n"
          ]
        },
        {
          "output_type": "stream",
          "name": "stderr",
          "text": [
            "/usr/local/lib/python3.10/dist-packages/ipykernel/ipkernel.py:283: DeprecationWarning:\n",
            "\n",
            "`should_run_async` will not call `transform_cell` automatically in the future. Please pass the result to `transformed_cell` argument and any exception that happen during thetransform in `preprocessing_exc_tuple` in IPython 7.17 and above.\n",
            "\n"
          ]
        }
      ],
      "source": [
        "pred_result = label_decode(label_encoder, pred_result)\n",
        "print(pred_result[:10])"
      ]
    },
    {
      "cell_type": "code",
      "execution_count": 180,
      "metadata": {
        "colab": {
          "base_uri": "https://localhost:8080/"
        },
        "id": "bRRHye9KYTp5",
        "outputId": "87696611-8868-4df0-f1b0-920d74d77833"
      },
      "outputs": [
        {
          "output_type": "stream",
          "name": "stdout",
          "text": [
            "testing accuracy: 0.67\n"
          ]
        },
        {
          "output_type": "stream",
          "name": "stderr",
          "text": [
            "/usr/local/lib/python3.10/dist-packages/ipykernel/ipkernel.py:283: DeprecationWarning:\n",
            "\n",
            "`should_run_async` will not call `transform_cell` automatically in the future. Please pass the result to `transformed_cell` argument and any exception that happen during thetransform in `preprocessing_exc_tuple` in IPython 7.17 and above.\n",
            "\n"
          ]
        }
      ],
      "source": [
        "from sklearn.metrics import accuracy_score\n",
        "\n",
        "print('testing accuracy: {}'.format(round(accuracy_score(label_decode(label_encoder, y_test), pred_result), 2)))"
      ]
    },
    {
      "cell_type": "code",
      "execution_count": 181,
      "metadata": {
        "colab": {
          "base_uri": "https://localhost:8080/",
          "height": 922
        },
        "id": "ks2Q0aMsYTp5",
        "outputId": "a7e5124e-3607-44b6-abca-26fe0998f0f3"
      },
      "outputs": [
        {
          "output_type": "stream",
          "name": "stderr",
          "text": [
            "/usr/local/lib/python3.10/dist-packages/ipykernel/ipkernel.py:283: DeprecationWarning:\n",
            "\n",
            "`should_run_async` will not call `transform_cell` automatically in the future. Please pass the result to `transformed_cell` argument and any exception that happen during thetransform in `preprocessing_exc_tuple` in IPython 7.17 and above.\n",
            "\n"
          ]
        },
        {
          "output_type": "execute_result",
          "data": {
            "text/plain": [
              "    epoch  accuracy      loss  val_accuracy  val_loss\n",
              "0       0  0.346250  1.332276      0.449568  1.286863\n",
              "1       1  0.641019  0.993758      0.654179  0.937936\n",
              "2       2  0.790756  0.589984      0.708934  0.777901\n",
              "3       3  0.847218  0.421681      0.697406  0.779037\n",
              "4       4  0.882092  0.336359      0.703170  0.792443\n",
              "5       5  0.903681  0.279669      0.677233  0.834031\n",
              "6       6  0.924993  0.227752      0.685879  0.885562\n",
              "7       7  0.939939  0.190350      0.688761  0.984401\n",
              "8       8  0.946305  0.169341      0.682997  0.990722\n",
              "9       9  0.957653  0.143137      0.711816  1.022245\n",
              "10     10  0.962635  0.125956      0.685879  1.087389\n",
              "11     11  0.964019  0.110810      0.700288  1.137099\n",
              "12     12  0.966510  0.105167      0.680115  1.177472\n",
              "13     13  0.970108  0.098731      0.662824  1.230692\n",
              "14     14  0.974813  0.086858      0.671470  1.249199\n",
              "15     15  0.973153  0.084691      0.677233  1.296391\n",
              "16     16  0.975367  0.080683      0.682997  1.314070\n",
              "17     17  0.974813  0.080744      0.680115  1.332785\n",
              "18     18  0.976197  0.074355      0.685879  1.371880\n",
              "19     19  0.973983  0.070838      0.674352  1.421912\n",
              "20     20  0.977304  0.066390      0.688761  1.452155\n",
              "21     21  0.978135  0.060136      0.691643  1.500391\n",
              "22     22  0.976751  0.062557      0.671470  1.519782\n",
              "23     23  0.977027  0.060055      0.685879  1.527864\n",
              "24     24  0.977304  0.059655      0.674352  1.496277"
            ],
            "text/html": [
              "\n",
              "  <div id=\"df-0ffd9528-cae1-4840-ae1c-ad93217430e9\" class=\"colab-df-container\">\n",
              "    <div>\n",
              "<style scoped>\n",
              "    .dataframe tbody tr th:only-of-type {\n",
              "        vertical-align: middle;\n",
              "    }\n",
              "\n",
              "    .dataframe tbody tr th {\n",
              "        vertical-align: top;\n",
              "    }\n",
              "\n",
              "    .dataframe thead th {\n",
              "        text-align: right;\n",
              "    }\n",
              "</style>\n",
              "<table border=\"1\" class=\"dataframe\">\n",
              "  <thead>\n",
              "    <tr style=\"text-align: right;\">\n",
              "      <th></th>\n",
              "      <th>epoch</th>\n",
              "      <th>accuracy</th>\n",
              "      <th>loss</th>\n",
              "      <th>val_accuracy</th>\n",
              "      <th>val_loss</th>\n",
              "    </tr>\n",
              "  </thead>\n",
              "  <tbody>\n",
              "    <tr>\n",
              "      <th>0</th>\n",
              "      <td>0</td>\n",
              "      <td>0.346250</td>\n",
              "      <td>1.332276</td>\n",
              "      <td>0.449568</td>\n",
              "      <td>1.286863</td>\n",
              "    </tr>\n",
              "    <tr>\n",
              "      <th>1</th>\n",
              "      <td>1</td>\n",
              "      <td>0.641019</td>\n",
              "      <td>0.993758</td>\n",
              "      <td>0.654179</td>\n",
              "      <td>0.937936</td>\n",
              "    </tr>\n",
              "    <tr>\n",
              "      <th>2</th>\n",
              "      <td>2</td>\n",
              "      <td>0.790756</td>\n",
              "      <td>0.589984</td>\n",
              "      <td>0.708934</td>\n",
              "      <td>0.777901</td>\n",
              "    </tr>\n",
              "    <tr>\n",
              "      <th>3</th>\n",
              "      <td>3</td>\n",
              "      <td>0.847218</td>\n",
              "      <td>0.421681</td>\n",
              "      <td>0.697406</td>\n",
              "      <td>0.779037</td>\n",
              "    </tr>\n",
              "    <tr>\n",
              "      <th>4</th>\n",
              "      <td>4</td>\n",
              "      <td>0.882092</td>\n",
              "      <td>0.336359</td>\n",
              "      <td>0.703170</td>\n",
              "      <td>0.792443</td>\n",
              "    </tr>\n",
              "    <tr>\n",
              "      <th>5</th>\n",
              "      <td>5</td>\n",
              "      <td>0.903681</td>\n",
              "      <td>0.279669</td>\n",
              "      <td>0.677233</td>\n",
              "      <td>0.834031</td>\n",
              "    </tr>\n",
              "    <tr>\n",
              "      <th>6</th>\n",
              "      <td>6</td>\n",
              "      <td>0.924993</td>\n",
              "      <td>0.227752</td>\n",
              "      <td>0.685879</td>\n",
              "      <td>0.885562</td>\n",
              "    </tr>\n",
              "    <tr>\n",
              "      <th>7</th>\n",
              "      <td>7</td>\n",
              "      <td>0.939939</td>\n",
              "      <td>0.190350</td>\n",
              "      <td>0.688761</td>\n",
              "      <td>0.984401</td>\n",
              "    </tr>\n",
              "    <tr>\n",
              "      <th>8</th>\n",
              "      <td>8</td>\n",
              "      <td>0.946305</td>\n",
              "      <td>0.169341</td>\n",
              "      <td>0.682997</td>\n",
              "      <td>0.990722</td>\n",
              "    </tr>\n",
              "    <tr>\n",
              "      <th>9</th>\n",
              "      <td>9</td>\n",
              "      <td>0.957653</td>\n",
              "      <td>0.143137</td>\n",
              "      <td>0.711816</td>\n",
              "      <td>1.022245</td>\n",
              "    </tr>\n",
              "    <tr>\n",
              "      <th>10</th>\n",
              "      <td>10</td>\n",
              "      <td>0.962635</td>\n",
              "      <td>0.125956</td>\n",
              "      <td>0.685879</td>\n",
              "      <td>1.087389</td>\n",
              "    </tr>\n",
              "    <tr>\n",
              "      <th>11</th>\n",
              "      <td>11</td>\n",
              "      <td>0.964019</td>\n",
              "      <td>0.110810</td>\n",
              "      <td>0.700288</td>\n",
              "      <td>1.137099</td>\n",
              "    </tr>\n",
              "    <tr>\n",
              "      <th>12</th>\n",
              "      <td>12</td>\n",
              "      <td>0.966510</td>\n",
              "      <td>0.105167</td>\n",
              "      <td>0.680115</td>\n",
              "      <td>1.177472</td>\n",
              "    </tr>\n",
              "    <tr>\n",
              "      <th>13</th>\n",
              "      <td>13</td>\n",
              "      <td>0.970108</td>\n",
              "      <td>0.098731</td>\n",
              "      <td>0.662824</td>\n",
              "      <td>1.230692</td>\n",
              "    </tr>\n",
              "    <tr>\n",
              "      <th>14</th>\n",
              "      <td>14</td>\n",
              "      <td>0.974813</td>\n",
              "      <td>0.086858</td>\n",
              "      <td>0.671470</td>\n",
              "      <td>1.249199</td>\n",
              "    </tr>\n",
              "    <tr>\n",
              "      <th>15</th>\n",
              "      <td>15</td>\n",
              "      <td>0.973153</td>\n",
              "      <td>0.084691</td>\n",
              "      <td>0.677233</td>\n",
              "      <td>1.296391</td>\n",
              "    </tr>\n",
              "    <tr>\n",
              "      <th>16</th>\n",
              "      <td>16</td>\n",
              "      <td>0.975367</td>\n",
              "      <td>0.080683</td>\n",
              "      <td>0.682997</td>\n",
              "      <td>1.314070</td>\n",
              "    </tr>\n",
              "    <tr>\n",
              "      <th>17</th>\n",
              "      <td>17</td>\n",
              "      <td>0.974813</td>\n",
              "      <td>0.080744</td>\n",
              "      <td>0.680115</td>\n",
              "      <td>1.332785</td>\n",
              "    </tr>\n",
              "    <tr>\n",
              "      <th>18</th>\n",
              "      <td>18</td>\n",
              "      <td>0.976197</td>\n",
              "      <td>0.074355</td>\n",
              "      <td>0.685879</td>\n",
              "      <td>1.371880</td>\n",
              "    </tr>\n",
              "    <tr>\n",
              "      <th>19</th>\n",
              "      <td>19</td>\n",
              "      <td>0.973983</td>\n",
              "      <td>0.070838</td>\n",
              "      <td>0.674352</td>\n",
              "      <td>1.421912</td>\n",
              "    </tr>\n",
              "    <tr>\n",
              "      <th>20</th>\n",
              "      <td>20</td>\n",
              "      <td>0.977304</td>\n",
              "      <td>0.066390</td>\n",
              "      <td>0.688761</td>\n",
              "      <td>1.452155</td>\n",
              "    </tr>\n",
              "    <tr>\n",
              "      <th>21</th>\n",
              "      <td>21</td>\n",
              "      <td>0.978135</td>\n",
              "      <td>0.060136</td>\n",
              "      <td>0.691643</td>\n",
              "      <td>1.500391</td>\n",
              "    </tr>\n",
              "    <tr>\n",
              "      <th>22</th>\n",
              "      <td>22</td>\n",
              "      <td>0.976751</td>\n",
              "      <td>0.062557</td>\n",
              "      <td>0.671470</td>\n",
              "      <td>1.519782</td>\n",
              "    </tr>\n",
              "    <tr>\n",
              "      <th>23</th>\n",
              "      <td>23</td>\n",
              "      <td>0.977027</td>\n",
              "      <td>0.060055</td>\n",
              "      <td>0.685879</td>\n",
              "      <td>1.527864</td>\n",
              "    </tr>\n",
              "    <tr>\n",
              "      <th>24</th>\n",
              "      <td>24</td>\n",
              "      <td>0.977304</td>\n",
              "      <td>0.059655</td>\n",
              "      <td>0.674352</td>\n",
              "      <td>1.496277</td>\n",
              "    </tr>\n",
              "  </tbody>\n",
              "</table>\n",
              "</div>\n",
              "    <div class=\"colab-df-buttons\">\n",
              "\n",
              "  <div class=\"colab-df-container\">\n",
              "    <button class=\"colab-df-convert\" onclick=\"convertToInteractive('df-0ffd9528-cae1-4840-ae1c-ad93217430e9')\"\n",
              "            title=\"Convert this dataframe to an interactive table.\"\n",
              "            style=\"display:none;\">\n",
              "\n",
              "  <svg xmlns=\"http://www.w3.org/2000/svg\" height=\"24px\" viewBox=\"0 -960 960 960\">\n",
              "    <path d=\"M120-120v-720h720v720H120Zm60-500h600v-160H180v160Zm220 220h160v-160H400v160Zm0 220h160v-160H400v160ZM180-400h160v-160H180v160Zm440 0h160v-160H620v160ZM180-180h160v-160H180v160Zm440 0h160v-160H620v160Z\"/>\n",
              "  </svg>\n",
              "    </button>\n",
              "\n",
              "  <style>\n",
              "    .colab-df-container {\n",
              "      display:flex;\n",
              "      gap: 12px;\n",
              "    }\n",
              "\n",
              "    .colab-df-convert {\n",
              "      background-color: #E8F0FE;\n",
              "      border: none;\n",
              "      border-radius: 50%;\n",
              "      cursor: pointer;\n",
              "      display: none;\n",
              "      fill: #1967D2;\n",
              "      height: 32px;\n",
              "      padding: 0 0 0 0;\n",
              "      width: 32px;\n",
              "    }\n",
              "\n",
              "    .colab-df-convert:hover {\n",
              "      background-color: #E2EBFA;\n",
              "      box-shadow: 0px 1px 2px rgba(60, 64, 67, 0.3), 0px 1px 3px 1px rgba(60, 64, 67, 0.15);\n",
              "      fill: #174EA6;\n",
              "    }\n",
              "\n",
              "    .colab-df-buttons div {\n",
              "      margin-bottom: 4px;\n",
              "    }\n",
              "\n",
              "    [theme=dark] .colab-df-convert {\n",
              "      background-color: #3B4455;\n",
              "      fill: #D2E3FC;\n",
              "    }\n",
              "\n",
              "    [theme=dark] .colab-df-convert:hover {\n",
              "      background-color: #434B5C;\n",
              "      box-shadow: 0px 1px 3px 1px rgba(0, 0, 0, 0.15);\n",
              "      filter: drop-shadow(0px 1px 2px rgba(0, 0, 0, 0.3));\n",
              "      fill: #FFFFFF;\n",
              "    }\n",
              "  </style>\n",
              "\n",
              "    <script>\n",
              "      const buttonEl =\n",
              "        document.querySelector('#df-0ffd9528-cae1-4840-ae1c-ad93217430e9 button.colab-df-convert');\n",
              "      buttonEl.style.display =\n",
              "        google.colab.kernel.accessAllowed ? 'block' : 'none';\n",
              "\n",
              "      async function convertToInteractive(key) {\n",
              "        const element = document.querySelector('#df-0ffd9528-cae1-4840-ae1c-ad93217430e9');\n",
              "        const dataTable =\n",
              "          await google.colab.kernel.invokeFunction('convertToInteractive',\n",
              "                                                    [key], {});\n",
              "        if (!dataTable) return;\n",
              "\n",
              "        const docLinkHtml = 'Like what you see? Visit the ' +\n",
              "          '<a target=\"_blank\" href=https://colab.research.google.com/notebooks/data_table.ipynb>data table notebook</a>'\n",
              "          + ' to learn more about interactive tables.';\n",
              "        element.innerHTML = '';\n",
              "        dataTable['output_type'] = 'display_data';\n",
              "        await google.colab.output.renderOutput(dataTable, element);\n",
              "        const docLink = document.createElement('div');\n",
              "        docLink.innerHTML = docLinkHtml;\n",
              "        element.appendChild(docLink);\n",
              "      }\n",
              "    </script>\n",
              "  </div>\n",
              "\n",
              "\n",
              "<div id=\"df-78ee39b2-f4eb-4b67-8cb2-83061b2e3017\">\n",
              "  <button class=\"colab-df-quickchart\" onclick=\"quickchart('df-78ee39b2-f4eb-4b67-8cb2-83061b2e3017')\"\n",
              "            title=\"Suggest charts\"\n",
              "            style=\"display:none;\">\n",
              "\n",
              "<svg xmlns=\"http://www.w3.org/2000/svg\" height=\"24px\"viewBox=\"0 0 24 24\"\n",
              "     width=\"24px\">\n",
              "    <g>\n",
              "        <path d=\"M19 3H5c-1.1 0-2 .9-2 2v14c0 1.1.9 2 2 2h14c1.1 0 2-.9 2-2V5c0-1.1-.9-2-2-2zM9 17H7v-7h2v7zm4 0h-2V7h2v10zm4 0h-2v-4h2v4z\"/>\n",
              "    </g>\n",
              "</svg>\n",
              "  </button>\n",
              "\n",
              "<style>\n",
              "  .colab-df-quickchart {\n",
              "      --bg-color: #E8F0FE;\n",
              "      --fill-color: #1967D2;\n",
              "      --hover-bg-color: #E2EBFA;\n",
              "      --hover-fill-color: #174EA6;\n",
              "      --disabled-fill-color: #AAA;\n",
              "      --disabled-bg-color: #DDD;\n",
              "  }\n",
              "\n",
              "  [theme=dark] .colab-df-quickchart {\n",
              "      --bg-color: #3B4455;\n",
              "      --fill-color: #D2E3FC;\n",
              "      --hover-bg-color: #434B5C;\n",
              "      --hover-fill-color: #FFFFFF;\n",
              "      --disabled-bg-color: #3B4455;\n",
              "      --disabled-fill-color: #666;\n",
              "  }\n",
              "\n",
              "  .colab-df-quickchart {\n",
              "    background-color: var(--bg-color);\n",
              "    border: none;\n",
              "    border-radius: 50%;\n",
              "    cursor: pointer;\n",
              "    display: none;\n",
              "    fill: var(--fill-color);\n",
              "    height: 32px;\n",
              "    padding: 0;\n",
              "    width: 32px;\n",
              "  }\n",
              "\n",
              "  .colab-df-quickchart:hover {\n",
              "    background-color: var(--hover-bg-color);\n",
              "    box-shadow: 0 1px 2px rgba(60, 64, 67, 0.3), 0 1px 3px 1px rgba(60, 64, 67, 0.15);\n",
              "    fill: var(--button-hover-fill-color);\n",
              "  }\n",
              "\n",
              "  .colab-df-quickchart-complete:disabled,\n",
              "  .colab-df-quickchart-complete:disabled:hover {\n",
              "    background-color: var(--disabled-bg-color);\n",
              "    fill: var(--disabled-fill-color);\n",
              "    box-shadow: none;\n",
              "  }\n",
              "\n",
              "  .colab-df-spinner {\n",
              "    border: 2px solid var(--fill-color);\n",
              "    border-color: transparent;\n",
              "    border-bottom-color: var(--fill-color);\n",
              "    animation:\n",
              "      spin 1s steps(1) infinite;\n",
              "  }\n",
              "\n",
              "  @keyframes spin {\n",
              "    0% {\n",
              "      border-color: transparent;\n",
              "      border-bottom-color: var(--fill-color);\n",
              "      border-left-color: var(--fill-color);\n",
              "    }\n",
              "    20% {\n",
              "      border-color: transparent;\n",
              "      border-left-color: var(--fill-color);\n",
              "      border-top-color: var(--fill-color);\n",
              "    }\n",
              "    30% {\n",
              "      border-color: transparent;\n",
              "      border-left-color: var(--fill-color);\n",
              "      border-top-color: var(--fill-color);\n",
              "      border-right-color: var(--fill-color);\n",
              "    }\n",
              "    40% {\n",
              "      border-color: transparent;\n",
              "      border-right-color: var(--fill-color);\n",
              "      border-top-color: var(--fill-color);\n",
              "    }\n",
              "    60% {\n",
              "      border-color: transparent;\n",
              "      border-right-color: var(--fill-color);\n",
              "    }\n",
              "    80% {\n",
              "      border-color: transparent;\n",
              "      border-right-color: var(--fill-color);\n",
              "      border-bottom-color: var(--fill-color);\n",
              "    }\n",
              "    90% {\n",
              "      border-color: transparent;\n",
              "      border-bottom-color: var(--fill-color);\n",
              "    }\n",
              "  }\n",
              "</style>\n",
              "\n",
              "  <script>\n",
              "    async function quickchart(key) {\n",
              "      const quickchartButtonEl =\n",
              "        document.querySelector('#' + key + ' button');\n",
              "      quickchartButtonEl.disabled = true;  // To prevent multiple clicks.\n",
              "      quickchartButtonEl.classList.add('colab-df-spinner');\n",
              "      try {\n",
              "        const charts = await google.colab.kernel.invokeFunction(\n",
              "            'suggestCharts', [key], {});\n",
              "      } catch (error) {\n",
              "        console.error('Error during call to suggestCharts:', error);\n",
              "      }\n",
              "      quickchartButtonEl.classList.remove('colab-df-spinner');\n",
              "      quickchartButtonEl.classList.add('colab-df-quickchart-complete');\n",
              "    }\n",
              "    (() => {\n",
              "      let quickchartButtonEl =\n",
              "        document.querySelector('#df-78ee39b2-f4eb-4b67-8cb2-83061b2e3017 button');\n",
              "      quickchartButtonEl.style.display =\n",
              "        google.colab.kernel.accessAllowed ? 'block' : 'none';\n",
              "    })();\n",
              "  </script>\n",
              "</div>\n",
              "    </div>\n",
              "  </div>\n"
            ]
          },
          "metadata": {},
          "execution_count": 181
        }
      ],
      "source": [
        "#Let's take a look at the training log\n",
        "training_log = pd.DataFrame()\n",
        "training_log = pd.read_csv(path+\"logs/training_log.csv\")\n",
        "training_log"
      ]
    },
    {
      "cell_type": "markdown",
      "metadata": {
        "id": "NoYqY0-tYTp5"
      },
      "source": [
        "---\n",
        "### ** >>> Exercise 6 (Take home): **  \n",
        "\n",
        "Plot the Training and Validation Accuracy and Loss (different plots), just like the images below.(Note: the pictures below are an example from a different model). How to interpret the graphs you got? How are they related to the concept of overfitting/underfitting covered in class?\n",
        "<table><tr>\n",
        "    <td><img src=\"/content/drive/MyDrive/DM/DM2023-Lab2-Master/pics/pic3.png\" style=\"width: 300px;\"/> </td>\n",
        "    <td><img src=\"/content/drive/MyDrive/DM/DM2023-Lab2-Master/pics/pic4.png\" style=\"width: 300px;\"/> </td>\n",
        "</tr></table>"
      ]
    },
    {
      "cell_type": "code",
      "source": [
        "import matplotlib.pyplot as plt\n",
        "import pandas as pd\n",
        "\n",
        "# Extract data\n",
        "epoch = training_log[\"epoch\"]\n",
        "loss = training_log[\"loss\"]\n",
        "val_loss = training_log[\"val_loss\"]\n",
        "accuracy = training_log[\"accuracy\"]\n",
        "val_accuracy = training_log[\"val_accuracy\"]\n",
        "\n",
        "# Subplots\n",
        "fig, axes = plt.subplots(1, 2, figsize=(12, 6))\n",
        "\n",
        "# Plot accuracy on first subplot\n",
        "axes[0].plot(epoch, accuracy, label=\"Training Accuracy\")\n",
        "axes[0].plot(epoch, val_accuracy, label=\"Validation Accuracy\")\n",
        "axes[0].set_xlabel(\"Epoch\")\n",
        "axes[0].set_ylabel(\"Accuracy\")\n",
        "axes[0].set_title(\"Training Accuracy per Epoch\")\n",
        "axes[0].legend()\n",
        "\n",
        "# Plot loss on second subplot\n",
        "axes[1].plot(epoch, loss, label=\"Training Loss\")\n",
        "axes[1].plot(epoch, val_loss, label=\"Validation Loss\")\n",
        "axes[1].set_xlabel(\"Epoch\")\n",
        "axes[1].set_ylabel(\"Loss\")\n",
        "axes[1].set_title(\"Training Loss per Epoch\")\n",
        "axes[1].legend()\n",
        "\n",
        "plt.tight_layout()\n",
        "plt.show()"
      ],
      "metadata": {
        "colab": {
          "base_uri": "https://localhost:8080/",
          "height": 696
        },
        "id": "xcQrGeN54efS",
        "outputId": "e65bae5f-dce1-4ab0-a6f5-c0050c41b1c4"
      },
      "execution_count": 182,
      "outputs": [
        {
          "output_type": "stream",
          "name": "stderr",
          "text": [
            "/usr/local/lib/python3.10/dist-packages/ipykernel/ipkernel.py:283: DeprecationWarning:\n",
            "\n",
            "`should_run_async` will not call `transform_cell` automatically in the future. Please pass the result to `transformed_cell` argument and any exception that happen during thetransform in `preprocessing_exc_tuple` in IPython 7.17 and above.\n",
            "\n"
          ]
        },
        {
          "output_type": "display_data",
          "data": {
            "text/plain": [
              "<Figure size 1200x600 with 2 Axes>"
            ],
            "image/png": "[encoded data removed]"
          },
          "metadata": {}
        }
      ]
    },
    {
      "cell_type": "markdown",
      "metadata": {
        "id": "UYabzgSGYTp5"
      },
      "source": [
        "---"
      ]
    },
    {
      "cell_type": "markdown",
      "metadata": {
        "id": "4e5eiVLOYTp5"
      },
      "source": [
        "### Note\n",
        "\n",
        "If you don't have a GPU (level is higher than GTX 1060) or you are not good at setting lots of things about computer, we recommend you to use the [kaggle kernel](https://www.kaggle.com/kernels) to do deep learning model training. They have already installed all the librarys and provided free GPU for you to use.\n",
        "\n",
        "Note however that you will only be able to run a kernel for 6 hours. After 6 hours of inactivity, your Kaggle kernel will shut down (meaning if your model takes more than 6 hours to train, you can't train it at once).\n",
        "\n",
        "\n",
        "### More Information for your reference\n",
        "\n",
        "* Keras document: https://keras.io/\n",
        "* Keras GitHub example: https://github.com/keras-team/keras/tree/master/examples\n",
        "* CS229: Machine Learning: http://cs229.stanford.edu/syllabus.html\n",
        "* Deep Learning cheatsheet: https://stanford.edu/~shervine/teaching/cs-229/cheatsheet-deep-learning\n",
        "* If you want to try TensorFlow or PyTorch: https://pytorch.org/tutorials/\n",
        "https://www.tensorflow.org/tutorials/quickstart/beginner"
      ]
    },
    {
      "cell_type": "markdown",
      "metadata": {
        "id": "IESBq48MYTp5"
      },
      "source": [
        "---\n",
        "## 7. Word2Vector\n",
        "\n",
        "We will introduce how to use `gensim` to train your word2vec model and how to load a pre-trained model.\n",
        "\n",
        "https://radimrehurek.com/gensim/index.html"
      ]
    },
    {
      "cell_type": "markdown",
      "metadata": {
        "id": "KRSDMhQ5YTp5"
      },
      "source": [
        "### 7.1 Prepare training corpus"
      ]
    },
    {
      "cell_type": "code",
      "execution_count": 183,
      "metadata": {
        "colab": {
          "base_uri": "https://localhost:8080/",
          "height": 295
        },
        "id": "6aBYrovJYTp5",
        "outputId": "578d4617-d13e-4a51-a76e-3ad39fa5406d"
      },
      "outputs": [
        {
          "output_type": "stream",
          "name": "stderr",
          "text": [
            "/usr/local/lib/python3.10/dist-packages/ipykernel/ipkernel.py:283: DeprecationWarning:\n",
            "\n",
            "`should_run_async` will not call `transform_cell` automatically in the future. Please pass the result to `transformed_cell` argument and any exception that happen during thetransform in `preprocessing_exc_tuple` in IPython 7.17 and above.\n",
            "\n"
          ]
        },
        {
          "output_type": "execute_result",
          "data": {
            "text/plain": [
              "         id                                               text  \\\n",
              "2319  30315  It's Thursday which means it's Grey's day #TGI...   \n",
              "1781  20924  #Trends thread;'P)..it was in my #drafts&amp;n...   \n",
              "389   10389  @BosNaud so scared to ruffle feathers, he reso...   \n",
              "1085  20228  We ashamed of being an ally to you. Pakistan s...   \n",
              "681   10681    @RichardHBell Yes, I think he held a grudge ...   \n",
              "\n",
              "                                         text_tokenized  \n",
              "2319  [It, 's, Thursday, which, means, it, 's, Grey,...  \n",
              "1781  [#, Trends, thread, ;, ', P, ), .., it, was, i...  \n",
              "389   [@, BosNaud, so, scared, to, ruffle, feathers,...  \n",
              "1085  [We, ashamed, of, being, an, ally, to, you, .,...  \n",
              "681   [@, RichardHBell, Yes, ,, I, think, he, held, ...  "
            ],
            "text/html": [
              "\n",
              "  <div id=\"df-65ee9c54-4fef-4ff8-92f7-76e1d658a7d9\" class=\"colab-df-container\">\n",
              "    <div>\n",
              "<style scoped>\n",
              "    .dataframe tbody tr th:only-of-type {\n",
              "        vertical-align: middle;\n",
              "    }\n",
              "\n",
              "    .dataframe tbody tr th {\n",
              "        vertical-align: top;\n",
              "    }\n",
              "\n",
              "    .dataframe thead th {\n",
              "        text-align: right;\n",
              "    }\n",
              "</style>\n",
              "<table border=\"1\" class=\"dataframe\">\n",
              "  <thead>\n",
              "    <tr style=\"text-align: right;\">\n",
              "      <th></th>\n",
              "      <th>id</th>\n",
              "      <th>text</th>\n",
              "      <th>text_tokenized</th>\n",
              "    </tr>\n",
              "  </thead>\n",
              "  <tbody>\n",
              "    <tr>\n",
              "      <th>2319</th>\n",
              "      <td>30315</td>\n",
              "      <td>It's Thursday which means it's Grey's day #TGI...</td>\n",
              "      <td>[It, 's, Thursday, which, means, it, 's, Grey,...</td>\n",
              "    </tr>\n",
              "    <tr>\n",
              "      <th>1781</th>\n",
              "      <td>20924</td>\n",
              "      <td>#Trends thread;'P)..it was in my #drafts&amp;amp;n...</td>\n",
              "      <td>[#, Trends, thread, ;, ', P, ), .., it, was, i...</td>\n",
              "    </tr>\n",
              "    <tr>\n",
              "      <th>389</th>\n",
              "      <td>10389</td>\n",
              "      <td>@BosNaud so scared to ruffle feathers, he reso...</td>\n",
              "      <td>[@, BosNaud, so, scared, to, ruffle, feathers,...</td>\n",
              "    </tr>\n",
              "    <tr>\n",
              "      <th>1085</th>\n",
              "      <td>20228</td>\n",
              "      <td>We ashamed of being an ally to you. Pakistan s...</td>\n",
              "      <td>[We, ashamed, of, being, an, ally, to, you, .,...</td>\n",
              "    </tr>\n",
              "    <tr>\n",
              "      <th>681</th>\n",
              "      <td>10681</td>\n",
              "      <td>@RichardHBell Yes, I think he held a grudge ...</td>\n",
              "      <td>[@, RichardHBell, Yes, ,, I, think, he, held, ...</td>\n",
              "    </tr>\n",
              "  </tbody>\n",
              "</table>\n",
              "</div>\n",
              "    <div class=\"colab-df-buttons\">\n",
              "\n",
              "  <div class=\"colab-df-container\">\n",
              "    <button class=\"colab-df-convert\" onclick=\"convertToInteractive('df-65ee9c54-4fef-4ff8-92f7-76e1d658a7d9')\"\n",
              "            title=\"Convert this dataframe to an interactive table.\"\n",
              "            style=\"display:none;\">\n",
              "\n",
              "  <svg xmlns=\"http://www.w3.org/2000/svg\" height=\"24px\" viewBox=\"0 -960 960 960\">\n",
              "    <path d=\"M120-120v-720h720v720H120Zm60-500h600v-160H180v160Zm220 220h160v-160H400v160Zm0 220h160v-160H400v160ZM180-400h160v-160H180v160Zm440 0h160v-160H620v160ZM180-180h160v-160H180v160Zm440 0h160v-160H620v160Z\"/>\n",
              "  </svg>\n",
              "    </button>\n",
              "\n",
              "  <style>\n",
              "    .colab-df-container {\n",
              "      display:flex;\n",
              "      gap: 12px;\n",
              "    }\n",
              "\n",
              "    .colab-df-convert {\n",
              "      background-color: #E8F0FE;\n",
              "      border: none;\n",
              "      border-radius: 50%;\n",
              "      cursor: pointer;\n",
              "      display: none;\n",
              "      fill: #1967D2;\n",
              "      height: 32px;\n",
              "      padding: 0 0 0 0;\n",
              "      width: 32px;\n",
              "    }\n",
              "\n",
              "    .colab-df-convert:hover {\n",
              "      background-color: #E2EBFA;\n",
              "      box-shadow: 0px 1px 2px rgba(60, 64, 67, 0.3), 0px 1px 3px 1px rgba(60, 64, 67, 0.15);\n",
              "      fill: #174EA6;\n",
              "    }\n",
              "\n",
              "    .colab-df-buttons div {\n",
              "      margin-bottom: 4px;\n",
              "    }\n",
              "\n",
              "    [theme=dark] .colab-df-convert {\n",
              "      background-color: #3B4455;\n",
              "      fill: #D2E3FC;\n",
              "    }\n",
              "\n",
              "    [theme=dark] .colab-df-convert:hover {\n",
              "      background-color: #434B5C;\n",
              "      box-shadow: 0px 1px 3px 1px rgba(0, 0, 0, 0.15);\n",
              "      filter: drop-shadow(0px 1px 2px rgba(0, 0, 0, 0.3));\n",
              "      fill: #FFFFFF;\n",
              "    }\n",
              "  </style>\n",
              "\n",
              "    <script>\n",
              "      const buttonEl =\n",
              "        document.querySelector('#df-65ee9c54-4fef-4ff8-92f7-76e1d658a7d9 button.colab-df-convert');\n",
              "      buttonEl.style.display =\n",
              "        google.colab.kernel.accessAllowed ? 'block' : 'none';\n",
              "\n",
              "      async function convertToInteractive(key) {\n",
              "        const element = document.querySelector('#df-65ee9c54-4fef-4ff8-92f7-76e1d658a7d9');\n",
              "        const dataTable =\n",
              "          await google.colab.kernel.invokeFunction('convertToInteractive',\n",
              "                                                    [key], {});\n",
              "        if (!dataTable) return;\n",
              "\n",
              "        const docLinkHtml = 'Like what you see? Visit the ' +\n",
              "          '<a target=\"_blank\" href=https://colab.research.google.com/notebooks/data_table.ipynb>data table notebook</a>'\n",
              "          + ' to learn more about interactive tables.';\n",
              "        element.innerHTML = '';\n",
              "        dataTable['output_type'] = 'display_data';\n",
              "        await google.colab.output.renderOutput(dataTable, element);\n",
              "        const docLink = document.createElement('div');\n",
              "        docLink.innerHTML = docLinkHtml;\n",
              "        element.appendChild(docLink);\n",
              "      }\n",
              "    </script>\n",
              "  </div>\n",
              "\n",
              "\n",
              "<div id=\"df-6ce9244c-485e-42e9-8148-860baab74c19\">\n",
              "  <button class=\"colab-df-quickchart\" onclick=\"quickchart('df-6ce9244c-485e-42e9-8148-860baab74c19')\"\n",
              "            title=\"Suggest charts\"\n",
              "            style=\"display:none;\">\n",
              "\n",
              "<svg xmlns=\"http://www.w3.org/2000/svg\" height=\"24px\"viewBox=\"0 0 24 24\"\n",
              "     width=\"24px\">\n",
              "    <g>\n",
              "        <path d=\"M19 3H5c-1.1 0-2 .9-2 2v14c0 1.1.9 2 2 2h14c1.1 0 2-.9 2-2V5c0-1.1-.9-2-2-2zM9 17H7v-7h2v7zm4 0h-2V7h2v10zm4 0h-2v-4h2v4z\"/>\n",
              "    </g>\n",
              "</svg>\n",
              "  </button>\n",
              "\n",
              "<style>\n",
              "  .colab-df-quickchart {\n",
              "      --bg-color: #E8F0FE;\n",
              "      --fill-color: #1967D2;\n",
              "      --hover-bg-color: #E2EBFA;\n",
              "      --hover-fill-color: #174EA6;\n",
              "      --disabled-fill-color: #AAA;\n",
              "      --disabled-bg-color: #DDD;\n",
              "  }\n",
              "\n",
              "  [theme=dark] .colab-df-quickchart {\n",
              "      --bg-color: #3B4455;\n",
              "      --fill-color: #D2E3FC;\n",
              "      --hover-bg-color: #434B5C;\n",
              "      --hover-fill-color: #FFFFFF;\n",
              "      --disabled-bg-color: #3B4455;\n",
              "      --disabled-fill-color: #666;\n",
              "  }\n",
              "\n",
              "  .colab-df-quickchart {\n",
              "    background-color: var(--bg-color);\n",
              "    border: none;\n",
              "    border-radius: 50%;\n",
              "    cursor: pointer;\n",
              "    display: none;\n",
              "    fill: var(--fill-color);\n",
              "    height: 32px;\n",
              "    padding: 0;\n",
              "    width: 32px;\n",
              "  }\n",
              "\n",
              "  .colab-df-quickchart:hover {\n",
              "    background-color: var(--hover-bg-color);\n",
              "    box-shadow: 0 1px 2px rgba(60, 64, 67, 0.3), 0 1px 3px 1px rgba(60, 64, 67, 0.15);\n",
              "    fill: var(--button-hover-fill-color);\n",
              "  }\n",
              "\n",
              "  .colab-df-quickchart-complete:disabled,\n",
              "  .colab-df-quickchart-complete:disabled:hover {\n",
              "    background-color: var(--disabled-bg-color);\n",
              "    fill: var(--disabled-fill-color);\n",
              "    box-shadow: none;\n",
              "  }\n",
              "\n",
              "  .colab-df-spinner {\n",
              "    border: 2px solid var(--fill-color);\n",
              "    border-color: transparent;\n",
              "    border-bottom-color: var(--fill-color);\n",
              "    animation:\n",
              "      spin 1s steps(1) infinite;\n",
              "  }\n",
              "\n",
              "  @keyframes spin {\n",
              "    0% {\n",
              "      border-color: transparent;\n",
              "      border-bottom-color: var(--fill-color);\n",
              "      border-left-color: var(--fill-color);\n",
              "    }\n",
              "    20% {\n",
              "      border-color: transparent;\n",
              "      border-left-color: var(--fill-color);\n",
              "      border-top-color: var(--fill-color);\n",
              "    }\n",
              "    30% {\n",
              "      border-color: transparent;\n",
              "      border-left-color: var(--fill-color);\n",
              "      border-top-color: var(--fill-color);\n",
              "      border-right-color: var(--fill-color);\n",
              "    }\n",
              "    40% {\n",
              "      border-color: transparent;\n",
              "      border-right-color: var(--fill-color);\n",
              "      border-top-color: var(--fill-color);\n",
              "    }\n",
              "    60% {\n",
              "      border-color: transparent;\n",
              "      border-right-color: var(--fill-color);\n",
              "    }\n",
              "    80% {\n",
              "      border-color: transparent;\n",
              "      border-right-color: var(--fill-color);\n",
              "      border-bottom-color: var(--fill-color);\n",
              "    }\n",
              "    90% {\n",
              "      border-color: transparent;\n",
              "      border-bottom-color: var(--fill-color);\n",
              "    }\n",
              "  }\n",
              "</style>\n",
              "\n",
              "  <script>\n",
              "    async function quickchart(key) {\n",
              "      const quickchartButtonEl =\n",
              "        document.querySelector('#' + key + ' button');\n",
              "      quickchartButtonEl.disabled = true;  // To prevent multiple clicks.\n",
              "      quickchartButtonEl.classList.add('colab-df-spinner');\n",
              "      try {\n",
              "        const charts = await google.colab.kernel.invokeFunction(\n",
              "            'suggestCharts', [key], {});\n",
              "      } catch (error) {\n",
              "        console.error('Error during call to suggestCharts:', error);\n",
              "      }\n",
              "      quickchartButtonEl.classList.remove('colab-df-spinner');\n",
              "      quickchartButtonEl.classList.add('colab-df-quickchart-complete');\n",
              "    }\n",
              "    (() => {\n",
              "      let quickchartButtonEl =\n",
              "        document.querySelector('#df-6ce9244c-485e-42e9-8148-860baab74c19 button');\n",
              "      quickchartButtonEl.style.display =\n",
              "        google.colab.kernel.accessAllowed ? 'block' : 'none';\n",
              "    })();\n",
              "  </script>\n",
              "</div>\n",
              "    </div>\n",
              "  </div>\n"
            ]
          },
          "metadata": {},
          "execution_count": 183
        }
      ],
      "source": [
        "## check library\n",
        "import gensim\n",
        "\n",
        "## ignore warnings\n",
        "import warnings\n",
        "warnings.filterwarnings('ignore')\n",
        "\n",
        "# # if you want to see the training messages, you can use it\n",
        "# import logging\n",
        "# logging.basicConfig(format='%(asctime)s : %(levelname)s : %(message)s', level=logging.INFO)\n",
        "\n",
        "## the input type\n",
        "train_df['text_tokenized'] = train_df['text'].apply(lambda x: nltk.word_tokenize(x))\n",
        "train_df[['id', 'text', 'text_tokenized']].head()"
      ]
    },
    {
      "cell_type": "code",
      "execution_count": 184,
      "metadata": {
        "colab": {
          "base_uri": "https://localhost:8080/"
        },
        "id": "okFIEcmnYTp5",
        "outputId": "6d7df7a4-d8ab-4df3-9ca9-8022dec80695"
      },
      "outputs": [
        {
          "output_type": "execute_result",
          "data": {
            "text/plain": [
              "array([list(['It', \"'s\", 'Thursday', 'which', 'means', 'it', \"'s\", 'Grey', \"'s\", 'day', '#', 'TGIT', '#', 'rejoice']),\n",
              "       list(['#', 'Trends', 'thread', ';', \"'\", 'P', ')', '..', 'it', 'was', 'in', 'my', '#', 'drafts', '&', 'amp', ';', 'now', '#', 'posted', '2', 'mins', 'after', 'my', '#', 'birthday', '..', 'so', '#', 'close', ':', \"'\", 'O', '!', ':', \"''\", '/', '...', 'but', 'anyway', 'it', '#', 'really', 'was', 'the', '#', 'start', 'of']),\n",
              "       list(['@', 'BosNaud', 'so', 'scared', 'to', 'ruffle', 'feathers', ',', 'he', 'resorted', 'to', 'writing', 'in', 'cryptic', 'code', '.', '#', 'UncleCamsCabin']),\n",
              "       list(['We', 'ashamed', 'of', 'being', 'an', 'ally', 'to', 'you', '.', 'Pakistan', 'sacrificed', 'almost', '50000', 'civilians', 'by', 'siding', 'you', 'in', 'war', 'on', '#', 'terror', '@', 'JudgeTedPoe']),\n",
              "       list(['@', 'RichardHBell', 'Yes', ',', 'I', 'think', 'he', 'held', 'a', 'grudge', '...'])],\n",
              "      dtype=object)"
            ]
          },
          "metadata": {},
          "execution_count": 184
        }
      ],
      "source": [
        "## create the training corpus\n",
        "training_corpus = train_df['text_tokenized'].values\n",
        "training_corpus[:5]"
      ]
    },
    {
      "cell_type": "markdown",
      "metadata": {
        "id": "dOgAriPRYTp5"
      },
      "source": [
        "### 7.2 Training our model\n",
        "\n",
        "You can try to train your own model. More details: https://radimrehurek.com/gensim/models/word2vec.html"
      ]
    },
    {
      "cell_type": "code",
      "execution_count": 185,
      "metadata": {
        "id": "72ZA54IDYTp5",
        "scrolled": true
      },
      "outputs": [],
      "source": [
        "from gensim.models import Word2Vec\n",
        "\n",
        "## setting\n",
        "vector_dim = 100\n",
        "window_size = 5\n",
        "min_count = 1\n",
        "training_epochs = 20\n",
        "\n",
        "## model\n",
        "word2vec_model = Word2Vec(sentences=training_corpus,\n",
        "                          vector_size=vector_dim, window=window_size,\n",
        "                          min_count=min_count, epochs=training_epochs)"
      ]
    },
    {
      "cell_type": "markdown",
      "metadata": {
        "id": "ob0Molb3YTp5"
      },
      "source": [
        "![Imgur](https://i.imgur.com/Fca3MCs.png)"
      ]
    },
    {
      "cell_type": "markdown",
      "metadata": {
        "id": "E0jjvjN5YTp5"
      },
      "source": [
        "### 7.3 Generating word vector (embeddings)"
      ]
    },
    {
      "cell_type": "code",
      "execution_count": 186,
      "metadata": {
        "colab": {
          "base_uri": "https://localhost:8080/"
        },
        "id": "4ejofZfCYTp5",
        "outputId": "54d9f5b9-7cf1-4bdc-db29-4b2ee59ede36"
      },
      "outputs": [
        {
          "output_type": "execute_result",
          "data": {
            "text/plain": [
              "array([ 0.39524785,  0.47637847,  0.2538462 ,  0.09091125, -0.21522583,\n",
              "       -1.3372525 ,  0.43492353,  1.215214  , -0.29549608, -0.8428372 ,\n",
              "       -0.5227008 , -0.76117134, -0.7304296 ,  0.6973814 , -0.16654992,\n",
              "       -0.6638117 , -0.3215654 , -0.4088698 ,  0.24960028, -1.0595514 ,\n",
              "        0.47262567,  1.1945199 ,  0.6298405 ,  0.29896232,  0.36625883,\n",
              "        0.10642272, -0.90576535,  0.728027  ,  0.00538627, -0.01423963,\n",
              "        0.23248765, -0.35317415,  0.9202401 , -0.964284  , -0.2648021 ,\n",
              "        0.31582505,  0.82005167, -0.10240083, -0.3630785 , -0.6216136 ,\n",
              "       -0.09790953,  0.05278191, -0.34633106,  0.11396135,  0.75957364,\n",
              "       -0.04023342, -0.576445  ,  0.06049284,  0.33110127,  0.90028954,\n",
              "       -0.13036826, -0.5061415 ,  0.05204325, -0.20216545, -0.5803365 ,\n",
              "       -0.4264061 ,  0.61742437,  0.10280892, -0.51420605, -0.00572223,\n",
              "       -0.03434521, -0.06892307,  0.36975083,  0.25825346, -0.76356536,\n",
              "        0.45275193,  0.48293513,  0.62280697, -0.9047788 ,  0.11040865,\n",
              "       -0.17185667,  0.53815114,  0.47185993, -0.4704675 ,  0.5871067 ,\n",
              "       -0.02735986,  0.517877  ,  0.27490246, -0.6043712 , -0.42758325,\n",
              "       -0.8744712 , -0.24675806, -0.29733148,  0.6255084 ,  0.04957349,\n",
              "       -0.47934973,  0.94863975, -0.17015234, -0.03486366,  0.5241583 ,\n",
              "        0.8120685 , -0.04235441, -0.01312144, -0.00996492,  1.2409525 ,\n",
              "       -0.12301289,  0.19774619, -0.11688266,  0.04649986,  0.29187566],\n",
              "      dtype=float32)"
            ]
          },
          "metadata": {},
          "execution_count": 186
        }
      ],
      "source": [
        "# get the corresponding vector of a word\n",
        "word_vec = word2vec_model.wv['happy']\n",
        "word_vec"
      ]
    },
    {
      "cell_type": "code",
      "execution_count": 187,
      "metadata": {
        "colab": {
          "base_uri": "https://localhost:8080/"
        },
        "id": "9dUSkCscYTp5",
        "outputId": "1fa4847f-56f2-4c46-bcd4-dba7ef8f8c3d"
      },
      "outputs": [
        {
          "output_type": "execute_result",
          "data": {
            "text/plain": [
              "[('Be', 0.9316572546958923),\n",
              " ('birthday', 0.9274667501449585),\n",
              " ('memories😊', 0.9179295301437378),\n",
              " ('free', 0.91083163022995),\n",
              " ('help', 0.9020939469337463),\n",
              " ('smile', 0.900705099105835),\n",
              " ('dad', 0.8985934853553772),\n",
              " ('bday', 0.8984584212303162),\n",
              " ('Kik', 0.8973701000213623),\n",
              " ('establishment', 0.89536452293396)]"
            ]
          },
          "metadata": {},
          "execution_count": 187
        }
      ],
      "source": [
        "# Get the most similar words\n",
        "word = 'happy'\n",
        "topn = 10\n",
        "word2vec_model.wv.most_similar(word, topn=topn)"
      ]
    },
    {
      "cell_type": "markdown",
      "metadata": {
        "id": "zuQvZVJvYTp5"
      },
      "source": [
        "### 7.4 Using a pre-trained w2v model\n",
        "\n",
        "Instead of training your own model ,you can use a model that has already been trained. Here, we see 2 ways of doing that:\n",
        "\n",
        "\n",
        "#### (1) Download model by yourself\n",
        "\n",
        "source: [GoogleNews-vectors-negative300](https://drive.google.com/file/d/0B7XkCwpI5KDYNlNUTTlSS21pQmM/view?resourcekey=0-wjGZdNAUop6WykTtMip30g)\n",
        "\n",
        "more details: https://radimrehurek.com/gensim/models/keyedvectors.html"
      ]
    },
    {
      "cell_type": "code",
      "execution_count": 188,
      "metadata": {
        "colab": {
          "base_uri": "https://localhost:8080/"
        },
        "id": "bdH9E9auYTp5",
        "outputId": "76b330ab-2ca8-492f-a5e4-658a0d26d2e3"
      },
      "outputs": [
        {
          "output_type": "stream",
          "name": "stdout",
          "text": [
            "load ok\n"
          ]
        },
        {
          "output_type": "execute_result",
          "data": {
            "text/plain": [
              "[('glad', 0.7408890724182129),\n",
              " ('pleased', 0.6632170677185059),\n",
              " ('ecstatic', 0.6626912355422974),\n",
              " ('overjoyed', 0.6599286794662476),\n",
              " ('thrilled', 0.6514049172401428),\n",
              " ('satisfied', 0.6437949538230896),\n",
              " ('proud', 0.636042058467865),\n",
              " ('delighted', 0.627237856388092),\n",
              " ('disappointed', 0.6269949674606323),\n",
              " ('excited', 0.6247665286064148)]"
            ]
          },
          "metadata": {},
          "execution_count": 188
        }
      ],
      "source": [
        "from gensim.models import KeyedVectors\n",
        "\n",
        "## Note: this model is very huge, this will take some time ...\n",
        "model_path = \"/content/drive/MyDrive/DM/DM2023-Lab2-Master/GoogleNews/GoogleNews-vectors-negative300bin\"\n",
        "w2v_google_model = KeyedVectors.load_word2vec_format(model_path, binary=True)\n",
        "print('load ok')\n",
        "\n",
        "w2v_google_model.most_similar('happy', topn=10)"
      ]
    },
    {
      "cell_type": "markdown",
      "metadata": {
        "id": "NdQ9ul0eYTp5"
      },
      "source": [
        "#### (2) Using gensim api\n",
        "\n",
        "Other pretrained models are available here: https://github.com/RaRe-Technologies/gensim-data"
      ]
    },
    {
      "cell_type": "code",
      "execution_count": 189,
      "metadata": {
        "colab": {
          "base_uri": "https://localhost:8080/"
        },
        "id": "oIxHpNB6YTp5",
        "outputId": "0232c31a-ef23-445b-df78-208cf8182e25"
      },
      "outputs": [
        {
          "output_type": "stream",
          "name": "stdout",
          "text": [
            "load ok\n"
          ]
        },
        {
          "output_type": "execute_result",
          "data": {
            "text/plain": [
              "[('birthday', 0.9577818512916565),\n",
              " ('thank', 0.937666654586792),\n",
              " ('welcome', 0.93361496925354),\n",
              " ('love', 0.9176183342933655),\n",
              " ('miss', 0.9164500832557678),\n",
              " ('hello', 0.9158351421356201),\n",
              " ('thanks', 0.915008544921875),\n",
              " ('merry', 0.9053249359130859),\n",
              " ('bless', 0.902732253074646),\n",
              " ('wish', 0.9013164043426514)]"
            ]
          },
          "metadata": {},
          "execution_count": 189
        }
      ],
      "source": [
        "import gensim.downloader as api\n",
        "\n",
        "## If you see `SSL: CERTIFICATE_VERIFY_FAILED` error, use this:\n",
        "import ssl\n",
        "import urllib.request\n",
        "ssl._create_default_https_context = ssl._create_unverified_context\n",
        "\n",
        "glove_twitter_25_model = api.load(\"glove-twitter-25\")\n",
        "print('load ok')\n",
        "\n",
        "glove_twitter_25_model.most_similar('happy', topn=10)"
      ]
    },
    {
      "cell_type": "markdown",
      "metadata": {
        "id": "GCNDNqeXYTp5"
      },
      "source": [
        "### 7.5 king + woman - man = ?"
      ]
    },
    {
      "cell_type": "markdown",
      "metadata": {
        "id": "_GtCRr_7YTp5"
      },
      "source": [
        "Let's run one of the most famous examples for Word2Vec and compute the similarity between these 3 words:"
      ]
    },
    {
      "cell_type": "code",
      "execution_count": 190,
      "metadata": {
        "colab": {
          "base_uri": "https://localhost:8080/"
        },
        "id": "Zew7m_kIYTp5",
        "outputId": "534b7da6-68bf-4cd1-8b4d-f80935837c08"
      },
      "outputs": [
        {
          "output_type": "execute_result",
          "data": {
            "text/plain": [
              "[('queen', 0.7118193507194519),\n",
              " ('monarch', 0.6189674139022827),\n",
              " ('princess', 0.5902431011199951),\n",
              " ('crown_prince', 0.5499460697174072),\n",
              " ('prince', 0.5377321839332581),\n",
              " ('kings', 0.5236844420433044),\n",
              " ('Queen_Consort', 0.5235945582389832),\n",
              " ('queens', 0.5181134343147278),\n",
              " ('sultan', 0.5098593831062317),\n",
              " ('monarchy', 0.5087411999702454)]"
            ]
          },
          "metadata": {},
          "execution_count": 190
        }
      ],
      "source": [
        "w2v_google_model.most_similar(positive=['king', 'woman'], negative=['man'])"
      ]
    },
    {
      "cell_type": "markdown",
      "metadata": {
        "id": "y3RQVnBOYTp5"
      },
      "source": [
        "---\n",
        "### ** >>> Exercise 7 (Take home): **  \n",
        "\n",
        "Now, we have the word vectors, but our input data is a sequence of words (or say sentence).\n",
        "How can we utilize these \"word\" vectors to represent the sentence data and train our model?\n"
      ]
    },
    {
      "cell_type": "code",
      "execution_count": null,
      "metadata": {
        "id": "TBwRT93DYTp5"
      },
      "outputs": [],
      "source": [
        "# Answer here\n",
        "\n",
        "\n",
        "'''First way: Tokenize sentence into words. For each word in the sentence, retrieve its pre-trained word vector.\n",
        "Average all the word vectors to obtain a single vector representation for the entire sentence.\n",
        "\n",
        "Second way: Assign weights to each word based on importance (e.g., TF-IDF scores).\n",
        "Calculate a weighted average of word vectors, giving more influence to important words.\n",
        "\n",
        "Third way: We can use word embeddings as the first layer of your network. Keras, for example, provides an Embedding layer that can be initialized with pre-trained word vectors.\n",
        "Define an Embedding layer with input dimensions equal to the vocabulary size and output dimensions equal to the dimension of pre-trained word vectors. We can set the weights of this layer to pre-trained word vectors.\n",
        "Tokenize sentences and convert them to sequences of word indices.\n",
        "Use the Embedding layer to map the word indices to word vectors.\n",
        "Aggregate the word vectors (e.g., average or use an LSTM layer) to obtain a fixed-size vector representation for the sentence. Then continue with the rest of the neural network architecture.'''\n"
      ]
    },
    {
      "cell_type": "markdown",
      "metadata": {
        "id": "LrK7O1KDYTp5"
      },
      "source": [
        "### 8. Clustering: k-means\n",
        "\n",
        "Here we introduce how to use `sklearn` to do the basic **unsupervised learning** approach, k-means.    \n",
        "\n",
        "more details: http://scikit-learn.org/stable/modules/generated/sklearn.cluster.KMeans.html\n"
      ]
    },
    {
      "cell_type": "markdown",
      "metadata": {
        "id": "Hr8_IxwBYTp5"
      },
      "source": [
        "#### Basic concept\n",
        "\n",
        "![Image](https://i.imgur.com/PEdUf54.png)\n",
        "\n",
        "(img source: https://towardsdatascience.com/k-means-clustering-identifying-f-r-i-e-n-d-s-in-the-world-of-strangers-695537505d)"
      ]
    },
    {
      "cell_type": "code",
      "execution_count": 191,
      "metadata": {
        "colab": {
          "base_uri": "https://localhost:8080/"
        },
        "id": "6heUPVwWYTp5",
        "outputId": "12b3c32c-e4a3-4bc5-f630-10cd4c60d099"
      },
      "outputs": [
        {
          "output_type": "stream",
          "name": "stdout",
          "text": [
            "target words:  ['happy', 'fear', 'angry', 'car', 'teacher', 'computer']\n"
          ]
        }
      ],
      "source": [
        "# clustering target\n",
        "target_list = ['happy', 'fear', 'angry', 'car', 'teacher', 'computer']\n",
        "print('target words: ', target_list)\n",
        "\n",
        "# convert to word vector\n",
        "X = [word2vec_model.wv[word] for word in target_list]"
      ]
    },
    {
      "cell_type": "code",
      "execution_count": 192,
      "metadata": {
        "colab": {
          "base_uri": "https://localhost:8080/"
        },
        "id": "E9t_sJrvYTp5",
        "outputId": "3a0bf8b3-8364-4832-bc60-8ec771adb85f"
      },
      "outputs": [
        {
          "output_type": "stream",
          "name": "stdout",
          "text": [
            "word: happy \t cluster: 1\n",
            "word: fear \t cluster: 1\n",
            "word: angry \t cluster: 1\n",
            "word: car \t cluster: 0\n",
            "word: teacher \t cluster: 0\n",
            "word: computer \t cluster: 0\n"
          ]
        }
      ],
      "source": [
        "from sklearn.cluster import KMeans\n",
        "\n",
        "# we have to decide how many cluster (k) we want\n",
        "k = 2\n",
        "\n",
        "# k-means model\n",
        "kmeans_model = KMeans(n_clusters=k)\n",
        "kmeans_model.fit(X)\n",
        "\n",
        "# cluster result\n",
        "cluster_result = kmeans_model.labels_\n",
        "\n",
        "# show\n",
        "for i in range(len(target_list)):\n",
        "    print('word: {} \\t cluster: {}'.format(target_list[i], cluster_result[i]))"
      ]
    },
    {
      "cell_type": "markdown",
      "metadata": {
        "id": "QcDTL7kRYTp5"
      },
      "source": [
        "![Imgur](pics/pic6.png)"
      ]
    },
    {
      "cell_type": "code",
      "execution_count": 193,
      "metadata": {
        "colab": {
          "base_uri": "https://localhost:8080/"
        },
        "id": "NIMFax_uYTp5",
        "outputId": "44e52cb6-8d97-4ccb-a0ac-2ea000d15c91"
      },
      "outputs": [
        {
          "output_type": "execute_result",
          "data": {
            "text/plain": [
              "array([0], dtype=int32)"
            ]
          },
          "metadata": {},
          "execution_count": 193
        }
      ],
      "source": [
        "#check cluster membership\n",
        "word = 'student'\n",
        "word_vec = word2vec_model.wv[word]\n",
        "kmeans_model.predict([word_vec])"
      ]
    },
    {
      "cell_type": "code",
      "execution_count": 194,
      "metadata": {
        "colab": {
          "base_uri": "https://localhost:8080/"
        },
        "id": "vIDuLDOlYTp5",
        "outputId": "5e21212f-00eb-41dc-ded4-ce2e972a1c52"
      },
      "outputs": [
        {
          "output_type": "execute_result",
          "data": {
            "text/plain": [
              "array([1], dtype=int32)"
            ]
          },
          "metadata": {},
          "execution_count": 194
        }
      ],
      "source": [
        "#check cluster membership\n",
        "word = 'sad'\n",
        "word_vec = word2vec_model.wv[word]\n",
        "kmeans_model.predict([word_vec])"
      ]
    },
    {
      "cell_type": "markdown",
      "metadata": {
        "id": "cZOEGH3GYTp5"
      },
      "source": [
        "\n",
        "## 9. High-dimension Visualization: t-SNE\n",
        "\n",
        "No matter if you use the Bag-of-words, TF-IDF, or Word2Vec, it's very hard to see the embedding result, because the dimension is larger than 3.  \n",
        "\n",
        "In Lab 1, we already talked about PCA. We can use PCA to reduce the dimension of our data, then visualize it. However, if you dig deeper into the result, you'd find it is insufficient.\n",
        "\n",
        "Our aim will be to create a visualization similar to the one below:"
      ]
    },
    {
      "cell_type": "markdown",
      "metadata": {
        "id": "4FeIFzzxYTp5"
      },
      "source": [
        "  "
      ]
    },
    {
      "cell_type": "markdown",
      "metadata": {
        "id": "3-JR-rqyYTp5"
      },
      "source": [
        "![Image](pics/pic7.png)\n",
        "source: https://www.fabian-keller.de/research/high-dimensional-data-visualization"
      ]
    },
    {
      "cell_type": "markdown",
      "metadata": {
        "id": "KCFR771SYTp5"
      },
      "source": [
        "  "
      ]
    },
    {
      "cell_type": "markdown",
      "metadata": {
        "id": "tmdbJbjxYTp5"
      },
      "source": [
        "Here we would like to introduce another visualization method called t-SNE.  \n",
        "http://scikit-learn.org/stable/modules/generated/sklearn.manifold.TSNE.html"
      ]
    },
    {
      "cell_type": "markdown",
      "metadata": {
        "id": "MU8eeDnGYTp5"
      },
      "source": [
        "### 9.1 Prepare visualizing target"
      ]
    },
    {
      "cell_type": "markdown",
      "metadata": {
        "id": "T9IHcP3VYTp5"
      },
      "source": [
        "Let's prepare data lists like:\n",
        "- happy words\n",
        "- angry words\n",
        "- data words\n",
        "- mining words"
      ]
    },
    {
      "cell_type": "code",
      "execution_count": 195,
      "metadata": {
        "colab": {
          "base_uri": "https://localhost:8080/"
        },
        "id": "L9il5L7pYTp5",
        "outputId": "7b51f274-6083-4c9c-98a9-11a1e42bfaff"
      },
      "outputs": [
        {
          "output_type": "stream",
          "name": "stdout",
          "text": [
            "happy_words:  ['happy', 'glad', 'pleased', 'ecstatic', 'overjoyed', 'thrilled']\n",
            "angry_words:  ['angry', 'irate', 'enraged', 'indignant', 'incensed', 'annoyed']\n",
            "data_words:  ['data', 'Data', 'datasets', 'dataset', 'databases', 'statistics']\n",
            "mining_words:  ['mining', 'Mining', 'mines', 'coal_mining', 'mine', 'miner']\n",
            "\n",
            "target words: \n",
            "['happy', 'glad', 'pleased', 'ecstatic', 'overjoyed', 'thrilled', 'angry', 'irate', 'enraged', 'indignant', 'incensed', 'annoyed', 'data', 'Data', 'datasets', 'dataset', 'databases', 'statistics', 'mining', 'Mining', 'mines', 'coal_mining', 'mine', 'miner']\n",
            "\n",
            "color list:\n",
            "['b', 'b', 'b', 'b', 'b', 'b', 'g', 'g', 'g', 'g', 'g', 'g', 'r', 'r', 'r', 'r', 'r', 'r', 'y', 'y', 'y', 'y', 'y', 'y']\n"
          ]
        }
      ],
      "source": [
        "word_list = ['happy', 'angry', 'data', 'mining']\n",
        "\n",
        "topn = 5\n",
        "happy_words = ['happy'] + [word_ for word_, sim_ in w2v_google_model.most_similar('happy', topn=topn)]\n",
        "angry_words = ['angry'] + [word_ for word_, sim_ in w2v_google_model.most_similar('angry', topn=topn)]\n",
        "data_words = ['data'] + [word_ for word_, sim_ in w2v_google_model.most_similar('data', topn=topn)]\n",
        "mining_words = ['mining'] + [word_ for word_, sim_ in w2v_google_model.most_similar('mining', topn=topn)]\n",
        "\n",
        "print('happy_words: ', happy_words)\n",
        "print('angry_words: ', angry_words)\n",
        "print('data_words: ', data_words)\n",
        "print('mining_words: ', mining_words)\n",
        "\n",
        "target_words = happy_words + angry_words + data_words + mining_words\n",
        "print('\\ntarget words: ')\n",
        "print(target_words)\n",
        "\n",
        "print('\\ncolor list:')\n",
        "cn = topn + 1\n",
        "color = ['b'] * cn + ['g'] * cn + ['r'] * cn + ['y'] * cn\n",
        "print(color)"
      ]
    },
    {
      "cell_type": "markdown",
      "metadata": {
        "id": "zKa5LRxbYTp5"
      },
      "source": [
        "### 9.2 Plot using t-SNE (2-dimension)"
      ]
    },
    {
      "cell_type": "code",
      "execution_count": 198,
      "metadata": {
        "colab": {
          "base_uri": "https://localhost:8080/",
          "height": 730
        },
        "id": "CJlljN2gYTp5",
        "outputId": "f20b24b0-8b76-4202-b17a-eb840f555808"
      },
      "outputs": [
        {
          "output_type": "display_data",
          "data": {
            "text/plain": [
              "<Figure size 862.5x862.5 with 1 Axes>"
            ],
            "image/png": "[encoded data removed]"
          },
          "metadata": {}
        }
      ],
      "source": [
        "%matplotlib inline\n",
        "import matplotlib.pyplot as plt\n",
        "from sklearn.manifold import TSNE\n",
        "\n",
        "## w2v model\n",
        "model = w2v_google_model\n",
        "\n",
        "## prepare training word vectors\n",
        "size = 200\n",
        "target_size = len(target_words)\n",
        "all_word = list(model.index_to_key)\n",
        "word_train = target_words + all_word[:size]\n",
        "X_train = model[word_train]\n",
        "\n",
        "## t-SNE model\n",
        "tsne = TSNE(n_components=2, metric='cosine', random_state=28)\n",
        "\n",
        "## training\n",
        "X_tsne = tsne.fit_transform(X_train)\n",
        "\n",
        "## plot the result\n",
        "plt.figure(figsize=(7.5, 7.5), dpi=115)\n",
        "plt.scatter(X_tsne[:target_size, 0], X_tsne[:target_size, 1], c=color)\n",
        "for label, x, y in zip(target_words, X_tsne[:target_size, 0], X_tsne[:target_size, 1]):\n",
        "    plt.annotate(label, xy=(x,y), xytext=(0,0),  textcoords='offset points')\n",
        "plt.show()"
      ]
    },
    {
      "cell_type": "markdown",
      "metadata": {
        "id": "2PL61rqYYTp5"
      },
      "source": [
        "---\n",
        "### ** >>> Exercise 8 (Take home): **  \n",
        "\n",
        "Generate a t-SNE visualization to show the 15 words most related to the words \"angry\", \"happy\", \"sad\", \"fear\" (60 words total)."
      ]
    },
    {
      "cell_type": "code",
      "execution_count": 199,
      "metadata": {
        "id": "rvh7ymeNYTp5",
        "colab": {
          "base_uri": "https://localhost:8080/"
        },
        "outputId": "066abbee-e4d8-40ba-91db-069df468e239"
      },
      "outputs": [
        {
          "output_type": "stream",
          "name": "stdout",
          "text": [
            "happy_words:  ['happy', 'glad', 'pleased', 'ecstatic', 'overjoyed', 'thrilled', 'satisfied', 'proud', 'delighted', 'disappointed', 'excited', 'happier', 'Said_Hirschbeck', 'elated', 'thankful', 'unhappy']\n",
            "angry_words:  ['angry', 'irate', 'enraged', 'indignant', 'incensed', 'annoyed', 'agitated', 'frustrated', 'furious', 'unhappy', 'outraged', 'livid', 'irritated', 'exasperated', 'angrier', 'Angry']\n",
            "sad_words:  ['sad', 'saddening', 'Sad', 'saddened', 'heartbreaking', 'disheartening', 'Meny_Friedman', 'parishioner_Pat_Patello', 'saddens_me', 'distressing', 'reminders_bobbing', 'Turkoman_Shiites', 'saddest', 'unfortunate', 'sorry', 'bittersweet']\n",
            "fear_words:  ['fear', 'fearful', 'fears', 'Fear', 'fearing', 'worry', 'dread', 'feared', 'anxiety', 'apprehension', 'afraid', 'worries', 'concern', 'distrust', 'worried', 'Fearful']\n",
            "\n",
            "target words: \n",
            "['happy', 'glad', 'pleased', 'ecstatic', 'overjoyed', 'thrilled', 'satisfied', 'proud', 'delighted', 'disappointed', 'excited', 'happier', 'Said_Hirschbeck', 'elated', 'thankful', 'unhappy', 'angry', 'irate', 'enraged', 'indignant', 'incensed', 'annoyed', 'agitated', 'frustrated', 'furious', 'unhappy', 'outraged', 'livid', 'irritated', 'exasperated', 'angrier', 'Angry', 'sad', 'saddening', 'Sad', 'saddened', 'heartbreaking', 'disheartening', 'Meny_Friedman', 'parishioner_Pat_Patello', 'saddens_me', 'distressing', 'reminders_bobbing', 'Turkoman_Shiites', 'saddest', 'unfortunate', 'sorry', 'bittersweet', 'fear', 'fearful', 'fears', 'Fear', 'fearing', 'worry', 'dread', 'feared', 'anxiety', 'apprehension', 'afraid', 'worries', 'concern', 'distrust', 'worried', 'Fearful']\n",
            "\n",
            "color list:\n",
            "['b', 'b', 'b', 'b', 'b', 'b', 'b', 'b', 'b', 'b', 'b', 'b', 'b', 'b', 'b', 'b', 'g', 'g', 'g', 'g', 'g', 'g', 'g', 'g', 'g', 'g', 'g', 'g', 'g', 'g', 'g', 'g', 'r', 'r', 'r', 'r', 'r', 'r', 'r', 'r', 'r', 'r', 'r', 'r', 'r', 'r', 'r', 'r', 'y', 'y', 'y', 'y', 'y', 'y', 'y', 'y', 'y', 'y', 'y', 'y', 'y', 'y', 'y', 'y']\n"
          ]
        }
      ],
      "source": [
        "# Answer here\n",
        "word_list = ['angry', 'happy', 'sad', 'fear']\n",
        "\n",
        "topn = 15\n",
        "happy_words = ['happy'] + [word_ for word_, sim_ in w2v_google_model.most_similar('happy', topn=topn)]\n",
        "angry_words = ['angry'] + [word_ for word_, sim_ in w2v_google_model.most_similar('angry', topn=topn)]\n",
        "sad_words = ['sad'] + [word_ for word_, sim_ in w2v_google_model.most_similar('sad', topn=topn)]\n",
        "fear_words = ['fear'] + [word_ for word_, sim_ in w2v_google_model.most_similar('fear', topn=topn)]\n",
        "\n",
        "print('happy_words: ', happy_words)\n",
        "print('angry_words: ', angry_words)\n",
        "print('sad_words: ', sad_words)\n",
        "print('fear_words: ', fear_words)\n",
        "\n",
        "new_target_words = happy_words + angry_words + sad_words + fear_words\n",
        "print('\\ntarget words: ')\n",
        "print(new_target_words)\n",
        "\n",
        "print('\\ncolor list:')\n",
        "cn = topn + 1\n",
        "color = ['b'] * cn + ['g'] * cn + ['r'] * cn + ['y'] * cn\n",
        "print(color)"
      ]
    },
    {
      "cell_type": "code",
      "source": [
        "%matplotlib inline\n",
        "import matplotlib.pyplot as plt\n",
        "from sklearn.manifold import TSNE\n",
        "\n",
        "## w2v model\n",
        "model = w2v_google_model\n",
        "\n",
        "## prepare training word vectors\n",
        "size = 200\n",
        "target_size = len(new_target_words)\n",
        "all_word = list(model.index_to_key)\n",
        "word_train = new_target_words + all_word[:size]\n",
        "X_train = model[word_train]\n",
        "\n",
        "## t-SNE model\n",
        "tsne = TSNE(n_components=2, metric='cosine', random_state=28)\n",
        "\n",
        "## training\n",
        "X_tsne = tsne.fit_transform(X_train)\n",
        "\n",
        "## plot the result\n",
        "plt.figure(figsize=(7.5, 7.5), dpi=115)\n",
        "plt.scatter(X_tsne[:target_size, 0], X_tsne[:target_size, 1], c=color)\n",
        "for label, x, y in zip(new_target_words, X_tsne[:target_size, 0], X_tsne[:target_size, 1]):\n",
        "    plt.annotate(label, xy=(x,y), xytext=(0,0),  textcoords='offset points')\n",
        "plt.show()"
      ],
      "metadata": {
        "colab": {
          "base_uri": "https://localhost:8080/",
          "height": 730
        },
        "id": "iZwjfD8LF1rq",
        "outputId": "a756ea79-730e-45c2-e0a3-73133fa798a7"
      },
      "execution_count": 203,
      "outputs": [
        {
          "output_type": "display_data",
          "data": {
            "text/plain": [
              "<Figure size 862.5x862.5 with 1 Axes>"
            ],
            "image/png": "[encoded data removed]"
          },
          "metadata": {}
        }
      ]
    },
    {
      "cell_type": "markdown",
      "metadata": {
        "id": "_fF1woa8YTp5"
      },
      "source": [
        "---"
      ]
    }
  ],
  "metadata": {
    "colab": {
      "collapsed_sections": [
        "4e5eiVLOYTp5"
      ],
      "provenance": []
    },
    "kernelspec": {
      "display_name": "Python 3 (ipykernel)",
      "language": "python",
      "name": "python3"
    },
    "language_info": {
      "codemirror_mode": {
        "name": "ipython",
        "version": 3
      },
      "file_extension": ".py",
      "mimetype": "text/x-python",
      "name": "python",
      "nbconvert_exporter": "python",
      "pygments_lexer": "ipython3",
      "version": "3.9.6"
    },
    "varInspector": {
      "cols": {
        "lenName": 16,
        "lenType": 16,
        "lenVar": 40
      },
      "kernels_config": {
        "python": {
          "delete_cmd_postfix": "",
          "delete_cmd_prefix": "del ",
          "library": "var_list.py",
          "varRefreshCmd": "print(var_dic_list())"
        },
        "r": {
          "delete_cmd_postfix": ") ",
          "delete_cmd_prefix": "rm(",
          "library": "var_list.r",
          "varRefreshCmd": "cat(var_dic_list()) "
        }
      },
      "oldHeight": 594.85,
      "position": {
        "height": "40px",
        "left": "723px",
        "right": "20px",
        "top": "80px",
        "width": "250px"
      },
      "types_to_exclude": [
        "module",
        "function",
        "builtin_function_or_method",
        "instance",
        "_Feature"
      ],
      "varInspector_section_display": "none",
      "window_display": true
    }
  },
  "nbformat": 4,
  "nbformat_minor": 0
}